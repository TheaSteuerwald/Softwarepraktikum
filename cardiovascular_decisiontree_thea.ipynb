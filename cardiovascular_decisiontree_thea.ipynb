{
 "cells": [
  {
   "metadata": {},
   "cell_type": "markdown",
   "source": [
    "downloading necessary modules"
   ],
   "id": "d5b91b6f886749d2"
  },
  {
   "metadata": {
    "ExecuteTime": {
     "end_time": "2024-03-20T12:58:14.028665Z",
     "start_time": "2024-03-20T12:58:14.023708Z"
    }
   },
   "cell_type": "code",
   "source": [
    "import pandas as pd\n",
    "from sklearn.tree import DecisionTreeClassifier\n",
    "from sklearn.model_selection import train_test_split\n",
    "from sklearn.metrics import confusion_matrix\n",
    "import numpy as np\n",
    "import matplotlib.pyplot as plt\n",
    "from sklearn.metrics import classification_report\n",
    "from skopt import BayesSearchCV\n",
    "from imblearn.over_sampling import SMOTE\n",
    "from sklearn.metrics import make_scorer, roc_auc_score\n",
    "from sklearn.metrics import accuracy_score\n",
    "from sklearn.model_selection import GridSearchCV\n",
    "from sklearn.feature_selection import RFE"
   ],
   "id": "f71c838f16c9f4f9",
   "outputs": [],
   "execution_count": 94
  },
  {
   "metadata": {},
   "cell_type": "markdown",
   "source": [
    "reading features + ground truth "
   ],
   "id": "a5af62429e6cfacc"
  },
  {
   "metadata": {
    "ExecuteTime": {
     "end_time": "2024-03-20T12:59:10.058457Z",
     "start_time": "2024-03-20T12:58:16.378430Z"
    }
   },
   "cell_type": "code",
   "source": [
    "features_df = pd.read_csv('ctd_hypertension_20240223_scores.tsv', sep='\\t')\n",
    "ground_truth_df = pd.read_csv('merged_hyperhyper.tsv', sep='\\t')\n",
    "\n",
    "print(features_df)\n",
    "print(ground_truth_df)"
   ],
   "id": "3f453e9b82102728",
   "outputs": [
    {
     "name": "stdout",
     "output_type": "stream",
     "text": [
      "           drugA    drugB     sAB  opAB  meanspAB  medianspAB  minspAB  \\\n",
      "0        DB06709  DB08506  0.3427     0    0.6150       0.630     0.46   \n",
      "1        DB06709  DB02376  0.4188     0    0.6850       0.685     0.56   \n",
      "2        DB06709  DB04282  0.4188     0    0.6850       0.685     0.56   \n",
      "3        DB06709  DB04564  0.4188     0    0.6850       0.685     0.56   \n",
      "4        DB06709  DB04659  0.4188     0    0.6850       0.685     0.56   \n",
      "...          ...      ...     ...   ...       ...         ...      ...   \n",
      "9730661  DB08873  DB07191  0.1295     0    0.6093       0.625     0.44   \n",
      "9730662  DB08873  DB08846  0.1319     0    0.4865       0.460     0.20   \n",
      "9730663  DB08873  DB08865  0.1585     0    0.4858       0.480     0.26   \n",
      "9730664  DB08873  DB05891  0.1004     0    0.8725       0.870     0.65   \n",
      "9730665  DB08873  DB05508  0.2084     0    0.5350       0.530     0.41   \n",
      "\n",
      "         maxspAB    zTDA    zTDB  ...  opAD  opBD  meanspAD  meanspBD  \\\n",
      "0           0.74  0.5076  1.2273  ...   0.0   0.0    0.6014    0.5727   \n",
      "1           0.81  0.5076 -1.3866  ...   0.0   0.0    0.6014    0.5999   \n",
      "2           0.81  0.5076 -1.3866  ...   0.0   0.0    0.6014    0.5999   \n",
      "3           0.81  0.5076 -1.3866  ...   0.0   0.0    0.6014    0.5999   \n",
      "4           0.81  0.5076 -1.3866  ...   0.0   0.0    0.6014    0.5999   \n",
      "...          ...     ...     ...  ...   ...   ...       ...       ...   \n",
      "9730661     0.86  1.4342  0.2382  ...   1.0   1.0    0.5527    0.5669   \n",
      "9730662     0.93  1.4342 -2.9395  ...   1.0   2.0    0.5527    0.4609   \n",
      "9730663     0.97  1.4342 -1.6525  ...   1.0   2.0    0.5527    0.4564   \n",
      "9730664     1.19  1.4342  0.5421  ...   1.0   2.0    0.5527    0.8398   \n",
      "9730665     0.70  1.4342 -0.8767  ...   1.0   0.0    0.5527    0.4879   \n",
      "\n",
      "         medianspAD  medianspBD  minspAD  minspBD  maxspAD  maxspBD  \n",
      "0              0.60       0.550     0.18     0.32     1.47     1.30  \n",
      "1              0.60       0.580     0.18     0.32     1.47     1.38  \n",
      "2              0.60       0.580     0.18     0.32     1.47     1.38  \n",
      "3              0.60       0.580     0.18     0.32     1.47     1.38  \n",
      "4              0.60       0.580     0.18     0.32     1.47     1.38  \n",
      "...             ...         ...      ...      ...      ...      ...  \n",
      "9730661        0.54       0.560     0.00     0.00     1.42     1.45  \n",
      "9730662        0.54       0.440     0.00     0.00     1.42     1.62  \n",
      "9730663        0.54       0.450     0.00     0.00     1.42     1.58  \n",
      "9730664        0.54       0.835     0.00     0.00     1.42     1.78  \n",
      "9730665        0.54       0.480     0.00     0.12     1.42     1.27  \n",
      "\n",
      "[9730666 rows x 28 columns]\n",
      "         drugA    drugB                drugcomb  adv/app\n",
      "0      DB00690  DB00559  ('DB00559', 'DB00690')        1\n",
      "1      DB00897  DB00559  ('DB00559', 'DB00897')        1\n",
      "2      DB00358  DB00559  ('DB00358', 'DB00559')        1\n",
      "3      DB08932  DB00834  ('DB00834', 'DB08932')        1\n",
      "4      DB08932  DB01254  ('DB01254', 'DB08932')        1\n",
      "...        ...      ...                     ...      ...\n",
      "38653  DB00273  DB00549       (DB00273,DB00549)        1\n",
      "38654  DB00273  DB00412       (DB00273,DB00412)        1\n",
      "38655  DB00273  DB00193       (DB00273,DB00193)        1\n",
      "38656  DB00273  DB00897       (DB00273,DB00897)        1\n",
      "38657  DB00273  DB00795       (DB00273,DB00795)        1\n",
      "\n",
      "[38658 rows x 4 columns]\n"
     ]
    }
   ],
   "execution_count": 86
  },
  {
   "metadata": {},
   "cell_type": "markdown",
   "source": [
    "merge features, ground truth over drugA drugB "
   ],
   "id": "145fc4b6734f94db"
  },
  {
   "metadata": {
    "ExecuteTime": {
     "end_time": "2024-03-20T12:59:21.725985Z",
     "start_time": "2024-03-20T12:59:13.384661Z"
    }
   },
   "cell_type": "code",
   "source": [
    "merged_df = pd.merge(features_df, ground_truth_df, on=['drugA', 'drugB'])\n",
    "merged_df.set_index(['drugA', 'drugB'], inplace=True)\n",
    "print(merged_df)"
   ],
   "id": "51ee314bf099a6bf",
   "outputs": [
    {
     "name": "stdout",
     "output_type": "stream",
     "text": [
      "                    sAB  opAB  meanspAB  medianspAB  minspAB  maxspAB    zTDA  \\\n",
      "drugA   drugB                                                                   \n",
      "DB00001 DB01626  0.5883     0    0.6450       0.645     0.64     0.65 -1.0344   \n",
      "DB00006 DB01626  0.5883     0    0.6450       0.645     0.64     0.65 -1.0344   \n",
      "DB00278 DB01626  0.5883     0    0.6450       0.645     0.64     0.65 -1.0344   \n",
      "DB06695 DB08932  0.2533     0    0.4450       0.445     0.38     0.51 -1.0344   \n",
      "DB00393 DB01116  0.6340     0    0.7717       0.775     0.58     0.95 -2.3273   \n",
      "...                 ...   ...       ...         ...      ...      ...     ...   \n",
      "DB08899 DB08932  0.1233     0    0.3000       0.300     0.28     0.32 -1.1392   \n",
      "DB08905 DB08932  0.3833     0    0.5550       0.555     0.55     0.56  0.2616   \n",
      "DB08918 DB08932  0.1547     0    0.5200       0.520     0.41     0.61 -2.0288   \n",
      "DB08932 DB08953  0.3467     0    0.5200       0.520     0.51     0.53 -0.3467   \n",
      "        DB08954  0.0550     0    0.5012       0.530     0.29     0.64 -0.3467   \n",
      "\n",
      "                   zTDB    zDTA    zDTB  ...  meanspAD  meanspBD  medianspAD  \\\n",
      "drugA   drugB                            ...                                   \n",
      "DB00001 DB01626  1.6520 -1.1146  1.0082  ...    0.4886    0.6617        0.48   \n",
      "DB00006 DB01626  1.6520 -1.1146  1.0082  ...    0.4886    0.6617        0.48   \n",
      "DB00278 DB01626  1.6520 -1.1146  1.0082  ...    0.4886    0.6617        0.48   \n",
      "DB06695 DB08932 -0.3467 -1.1146 -3.9634  ...    0.4886    0.5077        0.48   \n",
      "DB00393 DB01116  0.8073 -3.6134  0.7369  ...    0.5451    0.7593        0.54   \n",
      "...                 ...     ...     ...  ...       ...       ...         ...   \n",
      "DB08899 DB08932 -0.3467 -1.8295 -3.9634  ...    0.3417    0.5077        0.34   \n",
      "DB08905 DB08932 -0.3467  0.3092 -3.9634  ...    0.5819    0.5077        0.57   \n",
      "DB08918 DB08932 -0.3467 -5.5090 -3.9634  ...    0.5236    0.5077        0.51   \n",
      "DB08932 DB08953 -0.9310 -3.9634 -3.0278  ...    0.5077    0.5324        0.51   \n",
      "        DB08954 -2.2357 -3.9634 -0.3560  ...    0.5077    0.5243        0.51   \n",
      "\n",
      "                 medianspBD  minspAD  minspBD  maxspAD  maxspBD  \\\n",
      "drugA   drugB                                                     \n",
      "DB00001 DB01626        0.65     0.14     0.36     1.23     1.42   \n",
      "DB00006 DB01626        0.65     0.14     0.36     1.23     1.42   \n",
      "DB00278 DB01626        0.65     0.14     0.36     1.23     1.42   \n",
      "DB06695 DB08932        0.51     0.14     0.00     1.23     1.29   \n",
      "DB00393 DB01116        0.74     0.00     0.47     1.49     1.49   \n",
      "...                     ...      ...      ...      ...      ...   \n",
      "DB08899 DB08932        0.51     0.00     0.00     1.03     1.29   \n",
      "DB08905 DB08932        0.51     0.28     0.00     1.30     1.29   \n",
      "DB08918 DB08932        0.51     0.00     0.00     1.40     1.29   \n",
      "DB08932 DB08953        0.51     0.00     0.00     1.29     1.34   \n",
      "        DB08954        0.53     0.00     0.05     1.29     1.40   \n",
      "\n",
      "                               drugcomb  adv/app  \n",
      "drugA   drugB                                     \n",
      "DB00001 DB01626  ('DB00001', 'DB01626')        1  \n",
      "DB00006 DB01626  ('DB00006', 'DB01626')        1  \n",
      "DB00278 DB01626  ('DB00278', 'DB01626')        1  \n",
      "DB06695 DB08932  ('DB06695', 'DB08932')        1  \n",
      "DB00393 DB01116  ('DB00393', 'DB01116')        1  \n",
      "...                                 ...      ...  \n",
      "DB08899 DB08932  ('DB08899', 'DB08932')        1  \n",
      "DB08905 DB08932  ('DB08905', 'DB08932')        1  \n",
      "DB08918 DB08932  ('DB08918', 'DB08932')        1  \n",
      "DB08932 DB08953  ('DB08932', 'DB08953')        1  \n",
      "        DB08954  ('DB08932', 'DB08954')        1  \n",
      "\n",
      "[6935 rows x 28 columns]\n"
     ]
    }
   ],
   "execution_count": 87
  },
  {
   "metadata": {},
   "cell_type": "markdown",
   "source": [
    "X and Y for training and testing"
   ],
   "id": "ba64077683db6c99"
  },
  {
   "metadata": {
    "ExecuteTime": {
     "end_time": "2024-03-20T12:59:30.454329Z",
     "start_time": "2024-03-20T12:59:30.421959Z"
    }
   },
   "cell_type": "code",
   "source": [
    "X = merged_df.drop(['adv/app','drugcomb','sA','sB','opA','opB'], axis=1)\n",
    "# Annahme: 'adv/app' ist Ihre Zielvariable\n",
    "Y = merged_df['adv/app']\n",
    "\n",
    "print(Y)"
   ],
   "id": "439a3401b14f985a",
   "outputs": [
    {
     "name": "stdout",
     "output_type": "stream",
     "text": [
      "drugA    drugB  \n",
      "DB00001  DB01626    1\n",
      "DB00006  DB01626    1\n",
      "DB00278  DB01626    1\n",
      "DB06695  DB08932    1\n",
      "DB00393  DB01116    1\n",
      "                   ..\n",
      "DB08899  DB08932    1\n",
      "DB08905  DB08932    1\n",
      "DB08918  DB08932    1\n",
      "DB08932  DB08953    1\n",
      "         DB08954    1\n",
      "Name: adv/app, Length: 6935, dtype: int64\n"
     ]
    }
   ],
   "execution_count": 88
  },
  {
   "metadata": {},
   "cell_type": "markdown",
   "source": [
    "split of train and test groups, decisiontreeclassifier, look at feature importances + calculate cumulative sum of features + plot L50"
   ],
   "id": "d23ed7186e00149a"
  },
  {
   "metadata": {
    "ExecuteTime": {
     "end_time": "2024-03-20T13:16:22.514807Z",
     "start_time": "2024-03-20T13:16:22.035831Z"
    }
   },
   "cell_type": "code",
   "source": [
    "X_train, X_test, Y_train, Y_test = train_test_split(X, Y, stratify=Y, test_size=0.2, random_state=42)"
   ],
   "id": "initial_id",
   "outputs": [],
   "execution_count": 89
  },
  {
   "cell_type": "code",
   "execution_count": 114,
   "outputs": [
    {
     "ename": "AttributeError",
     "evalue": "'BaggingClassifier' object has no attribute 'transform'",
     "output_type": "error",
     "traceback": [
      "\u001B[0;31m---------------------------------------------------------------------------\u001B[0m",
      "\u001B[0;31mAttributeError\u001B[0m                            Traceback (most recent call last)",
      "Cell \u001B[0;32mIn[114], line 65\u001B[0m\n\u001B[1;32m     62\u001B[0m grid_search\u001B[38;5;241m.\u001B[39mbest_estimator_\u001B[38;5;241m.\u001B[39mfit(X_train_resampled, Y_train_resampled)\n\u001B[1;32m     64\u001B[0m \u001B[38;5;66;03m# Step 10: Get predictions\u001B[39;00m\n\u001B[0;32m---> 65\u001B[0m X_test_resampled \u001B[38;5;241m=\u001B[39m \u001B[43mgrid_search\u001B[49m\u001B[38;5;241;43m.\u001B[39;49m\u001B[43mtransform\u001B[49m(X_test)\n\u001B[1;32m     66\u001B[0m predictions \u001B[38;5;241m=\u001B[39m grid_search\u001B[38;5;241m.\u001B[39mbest_estimator_\u001B[38;5;241m.\u001B[39mpredict(X_test_resampled)\n\u001B[1;32m     68\u001B[0m \u001B[38;5;66;03m# Step 11: Print classification report\u001B[39;00m\n",
      "File \u001B[0;32m~/opt/anaconda3/envs/snowflake/lib/python3.8/site-packages/sklearn/utils/metaestimators.py:127\u001B[0m, in \u001B[0;36m_AvailableIfDescriptor.__get__\u001B[0;34m(self, obj, owner)\u001B[0m\n\u001B[1;32m    121\u001B[0m attr_err \u001B[38;5;241m=\u001B[39m \u001B[38;5;167;01mAttributeError\u001B[39;00m(\n\u001B[1;32m    122\u001B[0m     \u001B[38;5;124mf\u001B[39m\u001B[38;5;124m\"\u001B[39m\u001B[38;5;124mThis \u001B[39m\u001B[38;5;132;01m{\u001B[39;00m\u001B[38;5;28mrepr\u001B[39m(owner\u001B[38;5;241m.\u001B[39m\u001B[38;5;18m__name__\u001B[39m)\u001B[38;5;132;01m}\u001B[39;00m\u001B[38;5;124m has no attribute \u001B[39m\u001B[38;5;132;01m{\u001B[39;00m\u001B[38;5;28mrepr\u001B[39m(\u001B[38;5;28mself\u001B[39m\u001B[38;5;241m.\u001B[39mattribute_name)\u001B[38;5;132;01m}\u001B[39;00m\u001B[38;5;124m\"\u001B[39m\n\u001B[1;32m    123\u001B[0m )\n\u001B[1;32m    124\u001B[0m \u001B[38;5;28;01mif\u001B[39;00m obj \u001B[38;5;129;01mis\u001B[39;00m \u001B[38;5;129;01mnot\u001B[39;00m \u001B[38;5;28;01mNone\u001B[39;00m:\n\u001B[1;32m    125\u001B[0m     \u001B[38;5;66;03m# delegate only on instances, not the classes.\u001B[39;00m\n\u001B[1;32m    126\u001B[0m     \u001B[38;5;66;03m# this is to allow access to the docstrings.\u001B[39;00m\n\u001B[0;32m--> 127\u001B[0m     \u001B[38;5;28;01mif\u001B[39;00m \u001B[38;5;129;01mnot\u001B[39;00m \u001B[38;5;28;43mself\u001B[39;49m\u001B[38;5;241;43m.\u001B[39;49m\u001B[43mcheck\u001B[49m\u001B[43m(\u001B[49m\u001B[43mobj\u001B[49m\u001B[43m)\u001B[49m:\n\u001B[1;32m    128\u001B[0m         \u001B[38;5;28;01mraise\u001B[39;00m attr_err\n\u001B[1;32m    129\u001B[0m     out \u001B[38;5;241m=\u001B[39m MethodType(\u001B[38;5;28mself\u001B[39m\u001B[38;5;241m.\u001B[39mfn, obj)\n",
      "File \u001B[0;32m~/opt/anaconda3/envs/snowflake/lib/python3.8/site-packages/sklearn/model_selection/_search.py:363\u001B[0m, in \u001B[0;36m_estimator_has.<locals>.check\u001B[0;34m(self)\u001B[0m\n\u001B[1;32m    360\u001B[0m _check_refit(\u001B[38;5;28mself\u001B[39m, attr)\n\u001B[1;32m    361\u001B[0m \u001B[38;5;28;01mif\u001B[39;00m \u001B[38;5;28mhasattr\u001B[39m(\u001B[38;5;28mself\u001B[39m, \u001B[38;5;124m\"\u001B[39m\u001B[38;5;124mbest_estimator_\u001B[39m\u001B[38;5;124m\"\u001B[39m):\n\u001B[1;32m    362\u001B[0m     \u001B[38;5;66;03m# raise an AttributeError if `attr` does not exist\u001B[39;00m\n\u001B[0;32m--> 363\u001B[0m     \u001B[38;5;28;43mgetattr\u001B[39;49m\u001B[43m(\u001B[49m\u001B[38;5;28;43mself\u001B[39;49m\u001B[38;5;241;43m.\u001B[39;49m\u001B[43mbest_estimator_\u001B[49m\u001B[43m,\u001B[49m\u001B[43m \u001B[49m\u001B[43mattr\u001B[49m\u001B[43m)\u001B[49m\n\u001B[1;32m    364\u001B[0m     \u001B[38;5;28;01mreturn\u001B[39;00m \u001B[38;5;28;01mTrue\u001B[39;00m\n\u001B[1;32m    365\u001B[0m \u001B[38;5;66;03m# raise an AttributeError if `attr` does not exist\u001B[39;00m\n",
      "\u001B[0;31mAttributeError\u001B[0m: 'BaggingClassifier' object has no attribute 'transform'"
     ]
    }
   ],
   "source": [
    "# Step 1: Define the search space for Bayesian Optimization\n",
    "search_spaces = {\n",
    "    'max_depth': (1, 20),\n",
    "    'min_samples_leaf': (1, 20),\n",
    "    'min_samples_split': (2, 20),\n",
    "    'class_weight': ['balanced', None]\n",
    "}\n",
    "\n",
    "# Step 2: Define a custom scorer for accuracy to use with BayesSearchCV\n",
    "accuracy_scorer = make_scorer(accuracy_score)\n",
    "\n",
    "# Step 3: Initialize the Oversampler\n",
    "oversampler = SMOTE()\n",
    "\n",
    "# Step 4: Apply Oversampling\n",
    "X_train_resampled, Y_train_resampled = oversampler.fit_resample(X_train, Y_train)\n",
    "\n",
    "# Step 5: Recursive Feature Elimination\n",
    "dt_classifier = DecisionTreeClassifier(random_state=42)\n",
    "rfe = RFE(estimator=dt_classifier, n_features_to_select=10, step=1)\n",
    "X_train_resampled_rfe = rfe.fit_transform(X_train_resampled, Y_train_resampled)\n",
    "X_test_rfe = rfe.transform(X_test)\n",
    "\n",
    "# Step 6: Bayesian Optimization\n",
    "opt = BayesSearchCV(\n",
    "    estimator=DecisionTreeClassifier(),\n",
    "    search_spaces=search_spaces,\n",
    "    n_iter=10,\n",
    "    scoring=accuracy_scorer,\n",
    "    cv=5\n",
    ")\n",
    "opt.fit(X_train_resampled_rfe, Y_train_resampled)\n",
    "\n",
    "# Step 7: Fine-tuning with Grid Search around the best parameters from Bayesian Optimization\n",
    "param_grid = {\n",
    "    'max_depth': [opt.best_params_['max_depth'] - 1, opt.best_params_['max_depth'], opt.best_params_['max_depth'] + 1],\n",
    "    'min_samples_leaf': [opt.best_params_['min_samples_leaf'] - 1, opt.best_params_['min_samples_leaf'], opt.best_params_['min_samples_leaf'] + 1],\n",
    "    'min_samples_split': [opt.best_params_['min_samples_split'] - 1, opt.best_params_['min_samples_split'], opt.best_params_['min_samples_split'] + 1],\n",
    "    'class_weight': ['balanced', None]\n",
    "}\n",
    "\n",
    "grid_search = GridSearchCV(\n",
    "    estimator=DecisionTreeClassifier(),\n",
    "    param_grid=param_grid,\n",
    "    scoring=accuracy_scorer,\n",
    "    cv=5\n",
    ")\n",
    "grid_search.fit(X_train_resampled_rfe, Y_train_resampled)\n",
    "\n",
    "# Step 8: Get the best model\n",
    "clf = grid_search.best_estimator_\n",
    "\n",
    "\n",
    "\n",
    "# Zeigen Sie die besten gefundenen Hyperparameter an\n",
    "print(\"Beste Hyperparameter:\", opt.best_params_)\n",
    "predictions = clf.predict(X_test_rfe)\n",
    "report = classification_report(Y_test, predictions)\n",
    "print(report)"
   ],
   "metadata": {
    "collapsed": false
   }
  },
  {
   "cell_type": "code",
   "execution_count": 101,
   "outputs": [
    {
     "name": "stdout",
     "output_type": "stream",
     "text": [
      "                 Actual  Predicted\n",
      "drugA   drugB                     \n",
      "DB00661 DB00433       1          0\n",
      "DB00060 DB00108       0          1\n",
      "DB00575 DB06288       1          0\n",
      "DB00381 DB01076       0          1\n",
      "DB00784 DB00968       1          0\n",
      "DB00457 DB01240       1          0\n",
      "DB00321 DB00524       1          0\n",
      "DB00559 DB00562       1          0\n",
      "DB00217 DB06684       1          0\n",
      "DB00350 DB00443       0          1\n",
      "DB00880 DB00968       0          1\n",
      "DB00968 DB04838       1          0\n",
      "DB00630 DB00860       0          1\n",
      "DB00575 DB06684       1          0\n",
      "DB00843 DB00524       1          0\n",
      "DB00533 DB00580       0          1\n",
      "DB00559 DB00999       1          0\n",
      "DB00328 DB00524       1          0\n",
      "DB00590 DB00860       1          0\n",
      "DB00559 DB00706       1          0\n",
      "DB01119 DB07118       1          0\n",
      "DB00328 DB00433       1          0\n",
      "DB00203 DB00440       0          1\n",
      "DB00381 DB00524       1          0\n",
      "DB01018 DB06288       1          0\n",
      "DB00381 DB00433       1          0\n",
      "DB00217 DB00247       1          0\n",
      "27\n",
      "Accuracy: 0.9805335255948089\n",
      "[[   3    7]\n",
      " [  20 1357]]\n"
     ]
    }
   ],
   "source": [
    "comparison = pd.DataFrame({'Actual': Y_test, 'Predicted': predictions})\n",
    "#print(comparison.head(20))\n",
    "#specific_drug_combination = ('DB01599', 'DB04825')\n",
    "# Create a boolean mask where 'Actual' and 'Predicted' values are not equal\n",
    "mask = comparison['Actual'] != comparison['Predicted']\n",
    "\n",
    "# Apply this mask to your DataFrame to filter rows\n",
    "differences = comparison[mask]\n",
    "\n",
    "#28 falsch predicted\n",
    "print(differences)\n",
    "print(len(differences))\n",
    "\n",
    "print(\"Accuracy:\", accuracy_score(Y_test, predictions))\n",
    "print(confusion_matrix(Y_test, predictions, labels=[0,1]))"
   ],
   "metadata": {
    "collapsed": false
   }
  },
  {
   "cell_type": "code",
   "execution_count": 104,
   "outputs": [
    {
     "data": {
      "text/plain": "<Figure size 800x600 with 1 Axes>",
      "image/png": "[encoded data removed]"
     },
     "metadata": {},
     "output_type": "display_data"
    },
    {
     "data": {
      "text/plain": "<Figure size 800x600 with 1 Axes>",
      "image/png": "[encoded data removed]"
     },
     "metadata": {},
     "output_type": "display_data"
    },
    {
     "name": "stdout",
     "output_type": "stream",
     "text": [
      "ROC AUC: 0.6427741466957153\n",
      "Matthews Correlation Coefficient: 0.18913198059410538\n",
      "Weighted F1 Score: 0.9843216684146179\n"
     ]
    }
   ],
   "source": [
    "from sklearn.metrics import precision_recall_curve, roc_curve, roc_auc_score, matthews_corrcoef, f1_score\n",
    "\n",
    "# Assuming 'clf' is your trained classifier\n",
    "y_pred_probs = clf.predict_proba(X_test_rfe)[:, 1]  # Predict probabilities for positive class\n",
    "\n",
    "# Calculate precision-recall curve\n",
    "precision, recall, _ = precision_recall_curve(Y_test, y_pred_probs)\n",
    "\n",
    "# Calculate ROC curve\n",
    "fpr, tpr, _ = roc_curve(Y_test, y_pred_probs)\n",
    "\n",
    "# Calculate ROC AUC score\n",
    "roc_auc = roc_auc_score(Y_test, y_pred_probs)\n",
    "\n",
    "# Calculate Matthews correlation coefficient\n",
    "mcc = matthews_corrcoef(Y_test, clf.predict(X_test_rfe))\n",
    "\n",
    "# Calculate weighted F1 score\n",
    "weighted_f1 = f1_score(Y_test, clf.predict(X_test_rfe), average='weighted')\n",
    "\n",
    "# Plot precision-recall curve\n",
    "plt.figure(figsize=(8, 6))\n",
    "plt.plot(recall, precision, marker='.')\n",
    "plt.xlabel('Recall')\n",
    "plt.ylabel('Precision')\n",
    "plt.title('Precision-Recall Curve')\n",
    "plt.grid(True)\n",
    "plt.show()\n",
    "\n",
    "# Plot ROC curve\n",
    "plt.figure(figsize=(8, 6))\n",
    "plt.plot(fpr, tpr, marker='.')\n",
    "plt.xlabel('False Positive Rate')\n",
    "plt.ylabel('True Positive Rate')\n",
    "plt.title('ROC Curve')\n",
    "plt.grid(True)\n",
    "plt.show()\n",
    "\n",
    "# Print ROC AUC score\n",
    "print(f'ROC AUC: {roc_auc}')\n",
    "\n",
    "# Print Matthews correlation coefficient\n",
    "print(f'Matthews Correlation Coefficient: {mcc}')\n",
    "\n",
    "# Print weighted F1 score\n",
    "print(f'Weighted F1 Score: {weighted_f1}')\n"
   ],
   "metadata": {
    "collapsed": false
   }
  },
  {
   "cell_type": "code",
   "execution_count": null,
   "outputs": [],
   "source": [
    "'''\n",
    "ROC AUC: 0.6427741466957153\n",
    "Matthews Correlation Coefficient: 0.18913198059410538\n",
    "Weighted F1 Score: 0.9843216684146179\n",
    "'''"
   ],
   "metadata": {
    "collapsed": false
   }
  },
  {
   "cell_type": "code",
   "execution_count": 93,
   "outputs": [
    {
     "ename": "IndexError",
     "evalue": "index 0 is out of bounds for axis 0 with size 0",
     "output_type": "error",
     "traceback": [
      "\u001B[0;31m---------------------------------------------------------------------------\u001B[0m",
      "\u001B[0;31mIndexError\u001B[0m                                Traceback (most recent call last)",
      "Cell \u001B[0;32mIn[93], line 6\u001B[0m\n\u001B[1;32m      2\u001B[0m indices \u001B[38;5;241m=\u001B[39m np\u001B[38;5;241m.\u001B[39margsort(importances)[::\u001B[38;5;241m-\u001B[39m\u001B[38;5;241m1\u001B[39m]\n\u001B[1;32m      4\u001B[0m cumulative_importances \u001B[38;5;241m=\u001B[39m np\u001B[38;5;241m.\u001B[39mcumsum(importances[indices])\n\u001B[0;32m----> 6\u001B[0m num_features_50 \u001B[38;5;241m=\u001B[39m \u001B[43mnp\u001B[49m\u001B[38;5;241;43m.\u001B[39;49m\u001B[43mwhere\u001B[49m\u001B[43m(\u001B[49m\u001B[43mcumulative_importances\u001B[49m\u001B[43m \u001B[49m\u001B[38;5;241;43m>\u001B[39;49m\u001B[38;5;241;43m=\u001B[39;49m\u001B[43m \u001B[49m\u001B[38;5;241;43m1\u001B[39;49m\u001B[43m)\u001B[49m\u001B[43m[\u001B[49m\u001B[38;5;241;43m0\u001B[39;49m\u001B[43m]\u001B[49m\u001B[43m[\u001B[49m\u001B[38;5;241;43m0\u001B[39;49m\u001B[43m]\u001B[49m \u001B[38;5;241m+\u001B[39m \u001B[38;5;241m1\u001B[39m\n\u001B[1;32m      8\u001B[0m plt\u001B[38;5;241m.\u001B[39mfigure()\n\u001B[1;32m      9\u001B[0m plt\u001B[38;5;241m.\u001B[39mtitle(\u001B[38;5;124m\"\u001B[39m\u001B[38;5;124mFeature Importances\u001B[39m\u001B[38;5;124m\"\u001B[39m)\n",
      "\u001B[0;31mIndexError\u001B[0m: index 0 is out of bounds for axis 0 with size 0"
     ]
    }
   ],
   "source": [
    "importances = clf.feature_importances_\n",
    "indices = np.argsort(importances)[::-1]\n",
    "\n",
    "cumulative_importances = np.cumsum(importances[indices])\n",
    "\n",
    "num_features_50 = np.where(cumulative_importances >= 1)[0][0] + 1\n",
    "\n",
    "plt.figure()\n",
    "plt.title(\"Feature Importances\")\n",
    "plt.bar(range(num_features_50), importances[indices][:num_features_50], color='yellow')\n",
    "plt.xticks(range(num_features_50), X.columns[indices][:num_features_50], rotation=90)\n",
    "plt.show()\n"
   ],
   "metadata": {
    "collapsed": false
   }
  },
  {
   "cell_type": "code",
   "execution_count": null,
   "outputs": [],
   "source": [],
   "metadata": {
    "collapsed": false
   }
  }
 ],
 "metadata": {
  "kernelspec": {
   "display_name": "Python 3",
   "language": "python",
   "name": "python3"
  },
  "language_info": {
   "codemirror_mode": {
    "name": "ipython",
    "version": 2
   },
   "file_extension": ".py",
   "mimetype": "text/x-python",
   "name": "python",
   "nbconvert_exporter": "python",
   "pygments_lexer": "ipython2",
   "version": "2.7.6"
  }
 },
 "nbformat": 4,
 "nbformat_minor": 5
}
