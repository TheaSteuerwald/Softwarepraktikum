{
 "cells": [
  {
   "cell_type": "markdown",
   "metadata": {},
   "source": [
    "# KNN Algorithm, XGBoosting"
   ]
  },
  {
   "cell_type": "code",
   "execution_count": 1,
   "metadata": {},
   "outputs": [],
   "source": [
    "import pandas as pd\n",
    "cardiovascular_data = pd.read_csv(\"C:/Users/sshor/Desktop/Softwarepraktikum2024/ctd_cadiovascular_20240223_scores.tsv\", sep='\\t')\n",
    "cardiovascular_data1 = pd.read_csv(r\"C:\\Users\\sshor\\Desktop\\Softwarepraktikum2024\\primekg_cardiovascular_20240223_scores.tsv\", sep='\\t')\n",
    "neoplasm_data = pd.read_csv(\"C:/Users/sshor/Desktop/Softwarepraktikum2024/ctd_neoplasm_20240220_scores.tsv\", sep='\\t')\n",
    "neoplasm_data1 = pd.read_csv(r\"C:\\Users\\sshor\\Desktop\\Softwarepraktikum2024\\primekg_neoplasm_20240222_scores.tsv\", sep='\\t')\n",
    "nervous_system_data = pd.read_csv(\"C:/Users/sshor/Desktop/Softwarepraktikum2024/ctd_nervous-system_20240223_scores.tsv\", sep='\\t')\n",
    "nervous_system_data1 = pd.read_csv(r\"C:\\Users\\sshor\\Desktop\\Softwarepraktikum2024\\primekg_nervous-system_20240223_scores.tsv\", sep='\\t')\n",
    "hypertension_data = pd.read_csv(\"C:/Users/sshor/Desktop/Softwarepraktikum2024/ctd_hypertension_20240223_scores.tsv\", sep='\\t')\n",
    "hypertension_data1 = pd.read_csv(r\"C:\\Users\\sshor\\Desktop\\Softwarepraktikum2024\\primekg_hypertension_20240223_scores.tsv\", sep='\\t')\n",
    "\n",
    "ground_truth_cardiovascular = pd.read_csv(\"C:/Users/sshor/Desktop/Softwarepraktikum2024/Softwarepraktikum/merged_cardio.tsv\", sep='\\t')\n",
    "ground_truth_neoplasm = pd.read_csv(\"C:/Users/sshor/Desktop/Softwarepraktikum2024/Softwarepraktikum/merged_Neoplasm.tsv\", sep='\\t')\n",
    "ground_truth_nervous_system = pd.read_csv(\"C:/Users/sshor/Desktop/Softwarepraktikum2024/Softwarepraktikum/merged_nerveSys.tsv\", sep='\\t')\n",
    "ground_truth_hypertension = pd.read_csv(\"C:/Users/sshor/Desktop/Softwarepraktikum2024/Softwarepraktikum/merged_hyperhyper.tsv\", sep='\\t')"
   ]
  },
  {
   "cell_type": "markdown",
   "metadata": {},
   "source": [
    "## Checking for NAs"
   ]
  },
  {
   "cell_type": "code",
   "execution_count": 5,
   "metadata": {},
   "outputs": [
    {
     "name": "stdout",
     "output_type": "stream",
     "text": [
      "Processing cardiovascular dataset...\n",
      "cardiovascular dataset processed successfully.\n",
      "Processing neoplasm dataset...\n",
      "neoplasm dataset processed successfully.\n",
      "Processing nervous_system dataset...\n",
      "nervous_system dataset processed successfully.\n",
      "Processing hypertension dataset...\n",
      "hypertension dataset processed successfully.\n"
     ]
    }
   ],
   "source": [
    "for disease, data1, data2, ground_truth in zip([\"cardiovascular\", \"neoplasm\", \"nervous_system\", \"hypertension\"], \n",
    "                                                [cardiovascular_data, neoplasm_data, nervous_system_data, hypertension_data], \n",
    "                                                [cardiovascular_data1, neoplasm_data1, nervous_system_data1, hypertension_data1], \n",
    "                                                [ground_truth_cardiovascular, ground_truth_neoplasm, ground_truth_nervous_system, ground_truth_hypertension]):\n",
    "    print(f\"Processing {disease} dataset...\")\n",
    " \n",
    "    merged_data1 = ground_truth.merge(data1, on=['drugA', 'drugB'], how=\"left\")\n",
    "    merged_data2 =  ground_truth.merge(data2, on=['drugA', 'drugB'], how=\"left\")\n",
    "\n",
    "    nas_data1 = merged_data1.isna().mean() * 100\n",
    "    nas_data1 = nas_data1[nas_data1 > 0]\n",
    "\n",
    "    nas_data2 = merged_data2.isna().mean() * 100\n",
    "    nas_data2 = nas_data2[nas_data2 > 0]\n",
    "\n",
    "    nas_data1.to_csv(f\"C:/Users/sshor/Desktop/Softwarepraktikum2024/NAs Scores/{disease}_ctd_na_percentages.csv\")\n",
    "    nas_data2.to_csv(f\"C:/Users/sshor/Desktop/Softwarepraktikum2024/NAs Scores/{disease}_primekg_na_percentages.csv\")\n",
    "\n",
    "    print(f\"{disease} dataset processed successfully.\")"
   ]
  },
  {
   "cell_type": "markdown",
   "metadata": {},
   "source": [
    "## Removing NA containing columns and lines"
   ]
  },
  {
   "cell_type": "code",
   "execution_count": 10,
   "metadata": {},
   "outputs": [
    {
     "name": "stdout",
     "output_type": "stream",
     "text": [
      "Processing cardiovascular dataset...\n"
     ]
    },
    {
     "name": "stderr",
     "output_type": "stream",
     "text": [
      "100%|██████████| 26/26 [00:00<00:00, 108.33it/s]\n",
      "100%|██████████| 26/26 [00:00<00:00, 114.61it/s]\n"
     ]
    },
    {
     "name": "stdout",
     "output_type": "stream",
     "text": [
      "cardiovascular dataset processed successfully.\n",
      "Processing neoplasm dataset...\n"
     ]
    },
    {
     "name": "stderr",
     "output_type": "stream",
     "text": [
      "100%|██████████| 26/26 [00:00<00:00, 196.12it/s]\n",
      "100%|██████████| 26/26 [00:00<00:00, 197.23it/s]\n"
     ]
    },
    {
     "name": "stdout",
     "output_type": "stream",
     "text": [
      "neoplasm dataset processed successfully.\n",
      "Processing nervous_system dataset...\n"
     ]
    },
    {
     "name": "stderr",
     "output_type": "stream",
     "text": [
      "100%|██████████| 26/26 [00:00<00:00, 54.35it/s]\n",
      "100%|██████████| 26/26 [00:00<00:00, 63.43it/s]\n"
     ]
    },
    {
     "name": "stdout",
     "output_type": "stream",
     "text": [
      "nervous_system dataset processed successfully.\n",
      "Processing hypertension dataset...\n"
     ]
    },
    {
     "name": "stderr",
     "output_type": "stream",
     "text": [
      "100%|██████████| 26/26 [00:00<00:00, 384.95it/s]\n",
      "100%|██████████| 26/26 [00:00<00:00, 285.29it/s]\n"
     ]
    },
    {
     "name": "stdout",
     "output_type": "stream",
     "text": [
      "hypertension dataset processed successfully.\n"
     ]
    }
   ],
   "source": [
    "from tqdm import tqdm \n",
    "\n",
    "for disease, data1, data2, ground_truth in zip([\"cardiovascular\", \"neoplasm\", \"nervous_system\", \"hypertension\"], \n",
    "                                                [cardiovascular_data, neoplasm_data, nervous_system_data, hypertension_data], \n",
    "                                                [cardiovascular_data1, neoplasm_data1, nervous_system_data1, hypertension_data1], \n",
    "                                                [ground_truth_cardiovascular, ground_truth_neoplasm, ground_truth_nervous_system, ground_truth_hypertension]):\n",
    "    try:\n",
    "        print(f\"Processing {disease} dataset...\")\n",
    "\n",
    "        merged_data1 = ground_truth.merge(data1, on=['drugA', 'drugB'], how=\"left\")\n",
    "        merged_data2 = ground_truth.merge(data2, on=['drugA', 'drugB'], how=\"left\")\n",
    "\n",
    "        merged_data1 = merged_data1.dropna(axis=0, how='all')\n",
    "        merged_data1 = merged_data1.dropna(axis=1, how='all')\n",
    "\n",
    "        merged_data2 = merged_data2.dropna(axis=0, how='all')\n",
    "        merged_data2 = merged_data2.dropna(axis=1, how='all')\n",
    "        \n",
    "        for column in tqdm(merged_data1.columns):\n",
    "            merged_data1 = merged_data1[merged_data1[column].notnull()]\n",
    "\n",
    "        for column in tqdm(merged_data2.columns):\n",
    "            merged_data2 = merged_data2[merged_data2[column].notnull()]\n",
    "\n",
    "        merged_data1.to_csv(f\"C:/Users/sshor/Desktop/Softwarepraktikum2024/Preprocessed/{disease}_ctd_preprocessed.csv\", index=False)\n",
    "        merged_data2.to_csv(f\"C:/Users/sshor/Desktop/Softwarepraktikum2024/Preprocessed/{disease}_primekg_preprocessed.csv\", index=False)\n",
    "\n",
    "        print(f\"{disease} dataset processed successfully.\")\n",
    "    except Exception as e:\n",
    "        print(f\"An error occurred while processing {disease} dataset: {str(e)}\")\n"
   ]
  },
  {
   "cell_type": "markdown",
   "metadata": {},
   "source": [
    "## Data Preprocessing - Cardiovascular Datasets"
   ]
  },
  {
   "cell_type": "code",
   "execution_count": 113,
   "metadata": {},
   "outputs": [],
   "source": [
    "cardio_primekg_prepped = pd.read_csv(r\"C:\\Users\\sshor\\Desktop\\Softwarepraktikum2024\\Preprocessed\\cardiovascular_primekg_preprocessed.csv\")\n",
    "cardio_ctd_prepped = pd.read_csv(r\"C:\\Users\\sshor\\Desktop\\Softwarepraktikum2024\\Preprocessed\\cardiovascular_ctd_preprocessed.csv\")"
   ]
  },
  {
   "cell_type": "code",
   "execution_count": 114,
   "metadata": {},
   "outputs": [
    {
     "data": {
      "text/plain": [
       "(48800, 26)"
      ]
     },
     "execution_count": 114,
     "metadata": {},
     "output_type": "execute_result"
    }
   ],
   "source": [
    "cardio_ctd_prepped.shape"
   ]
  },
  {
   "cell_type": "code",
   "execution_count": 115,
   "metadata": {},
   "outputs": [
    {
     "data": {
      "text/plain": [
       "Index(['drugA', 'drugB', 'drugcomb', 'adv/app', 'sAB', 'opAB', 'meanspAB',\n",
       "       'medianspAB', 'minspAB', 'maxspAB', 'zTDA', 'zTDB', 'zDTA', 'zDTB',\n",
       "       'sAD', 'sBD', 'opAD', 'opBD', 'meanspAD', 'meanspBD', 'medianspAD',\n",
       "       'medianspBD', 'minspAD', 'minspBD', 'maxspAD', 'maxspBD'],\n",
       "      dtype='object')"
      ]
     },
     "execution_count": 115,
     "metadata": {},
     "output_type": "execute_result"
    }
   ],
   "source": [
    "cardio_primekg_prepped.columns"
   ]
  },
  {
   "cell_type": "code",
   "execution_count": 116,
   "metadata": {},
   "outputs": [],
   "source": [
    "#deleting drugcomb column so it doesnt cause errors\n",
    "cardio_ctd_prepped = cardio_ctd_prepped.drop(columns=['drugcomb'], axis=1)"
   ]
  },
  {
   "cell_type": "code",
   "execution_count": 117,
   "metadata": {},
   "outputs": [],
   "source": [
    "cardio_primekg_prepped = cardio_primekg_prepped.drop(columns=['drugcomb'], axis=1)"
   ]
  },
  {
   "cell_type": "code",
   "execution_count": 118,
   "metadata": {},
   "outputs": [],
   "source": [
    "# Couldnt call KNNClassifier because of NAs, tried to troubleshoot this, but still getting errors\n",
    "cardio_ctd_prepped.replace(['', 'NA', 'N/A', 'NaN', 'nan'], pd.NA, inplace=True)\n",
    "cardio_primekg_prepped.replace(['', 'NA', 'N/A', 'NaN', 'nan'], pd.NA, inplace=True)\n",
    "\n",
    "cardio_ctd_prepped.dropna(how='any', inplace=True)\n",
    "cardio_primekg_prepped.dropna(how='any', inplace=True)\n"
   ]
  },
  {
   "cell_type": "code",
   "execution_count": 122,
   "metadata": {},
   "outputs": [],
   "source": [
    "#loop approach\n",
    "def standardize_na_values(df):\n",
    "    na_values_str = ['NA', 'N/A', 'NaN', 'nan']\n",
    "    df.replace(na_values_str, np.nan, inplace=True)\n",
    "    return df\n",
    "\n",
    "cardio_ctd_prepped = standardize_na_values(cardio_ctd_prepped)\n",
    "cardio_primekg_prepped = standardize_na_values(cardio_primekg_prepped)\n",
    "\n",
    "# Now you can drop the NaN values safely\n",
    "cardio_ctd_prepped.dropna(how='any', inplace=True)\n",
    "cardio_primekg_prepped.dropna(how='any', inplace=True)\n"
   ]
  },
  {
   "cell_type": "code",
   "execution_count": 123,
   "metadata": {},
   "outputs": [
    {
     "name": "stdout",
     "output_type": "stream",
     "text": [
      "drugA         0\n",
      "drugB         0\n",
      "adv/app       0\n",
      "sAB           0\n",
      "opAB          0\n",
      "meanspAB      0\n",
      "medianspAB    0\n",
      "minspAB       0\n",
      "maxspAB       0\n",
      "zTDA          0\n",
      "zTDB          0\n",
      "zDTA          0\n",
      "zDTB          0\n",
      "sAD           0\n",
      "sBD           0\n",
      "opAD          0\n",
      "opBD          0\n",
      "meanspAD      0\n",
      "meanspBD      0\n",
      "medianspAD    0\n",
      "medianspBD    0\n",
      "minspAD       0\n",
      "minspBD       0\n",
      "maxspAD       0\n",
      "maxspBD       0\n",
      "dtype: int64\n"
     ]
    }
   ],
   "source": [
    "missing_values = cardio_primekg_prepped.isna().sum()\n",
    "print(missing_values)"
   ]
  },
  {
   "cell_type": "code",
   "execution_count": 127,
   "metadata": {},
   "outputs": [
    {
     "name": "stdout",
     "output_type": "stream",
     "text": [
      "         zTDA            zTDB            zDTA            zDTB             sAD  \\\n",
      "         self   other    self   other    self   other    self   other    self   \n",
      "0     -0.3643 -0.4530  0.1597  0.0942 -0.0540  0.4329 -2.7527 -2.1794  0.1487   \n",
      "1     -0.0984 -0.0921 -0.0155 -0.1411  1.0552  2.8242 -2.9421 -3.1260  0.0814   \n",
      "2     -0.1356 -0.2022 -0.0155 -0.1411  0.9306  2.0088 -2.9421 -3.1260  0.0214   \n",
      "3      0.7223  0.6652  1.4400  1.3965 -0.3301  0.3527 -2.4233 -2.5898  0.2248   \n",
      "4     -1.1919 -1.2837  0.5537  0.5146 -2.3052 -3.0794 -3.7472 -1.3749  0.1125   \n",
      "...       ...     ...     ...     ...     ...     ...     ...     ...     ...   \n",
      "48795 -0.4024 -0.4426 -0.5293 -0.5846 -3.2018 -3.7685 -3.0188 -0.5832  0.6213   \n",
      "48796  0.1228 -0.0342 -1.6059 -1.7087  0.7328 -0.2110 -1.0046 -1.2896  0.0692   \n",
      "48797  0.1228 -0.0342 -1.6059 -1.7087  0.7328 -0.2110 -1.0046 -1.2896  0.0692   \n",
      "48798  0.1228 -0.0342 -1.6059 -1.7087  0.7328 -0.2110 -1.0046 -1.2896  0.0692   \n",
      "48799  0.1228 -0.0342 -0.2446 -0.2883  0.7328 -0.2110  0.2576  0.4350  0.0692   \n",
      "\n",
      "               ... medianspBD        minspAD       minspBD       maxspAD  \\\n",
      "        other  ...       self  other    self other    self other    self   \n",
      "0      0.1376  ...       0.62  0.610    0.14  0.18     NaN   NaN    1.29   \n",
      "1      0.0762  ...       0.49  0.480    0.00  0.18     NaN   NaN    1.69   \n",
      "2      0.0118  ...       0.49  0.480     NaN   NaN     NaN   NaN    1.69   \n",
      "3      0.2169  ...        NaN    NaN    0.00  0.17     NaN   NaN    1.62   \n",
      "4      0.1023  ...       0.57  0.560     NaN   NaN     NaN   NaN    1.25   \n",
      "...       ...  ...        ...    ...     ...   ...     ...   ...     ...   \n",
      "48795  0.6111  ...       0.52  0.510     NaN   NaN     0.0  0.14    1.51   \n",
      "48796  0.0569  ...       0.31  0.290     NaN   NaN     NaN   NaN    1.44   \n",
      "48797  0.0569  ...       0.31  0.290     NaN   NaN     NaN   NaN    1.44   \n",
      "48798  0.0569  ...       0.31  0.290     NaN   NaN     NaN   NaN    1.44   \n",
      "48799  0.0569  ...       0.61  0.595     NaN   NaN     NaN   NaN    1.44   \n",
      "\n",
      "            maxspBD        \n",
      "      other    self other  \n",
      "0      1.09    1.57  1.36  \n",
      "1      1.64    1.35  1.06  \n",
      "2      1.64    1.35  1.06  \n",
      "3      1.37    1.43  1.19  \n",
      "4      1.12    1.46  1.20  \n",
      "...     ...     ...   ...  \n",
      "48795  1.24    1.39  1.12  \n",
      "48796  1.30    1.08  0.84  \n",
      "48797  1.30    1.08  0.84  \n",
      "48798  1.30    1.08  0.84  \n",
      "48799  1.30    1.47  1.22  \n",
      "\n",
      "[48800 rows x 32 columns]\n"
     ]
    }
   ],
   "source": [
    "differences = cardio_ctd_prepped.compare(cardio_primekg_prepped)\n",
    "print(differences)"
   ]
  },
  {
   "cell_type": "markdown",
   "metadata": {},
   "source": [
    "## Working with primekg dataset"
   ]
  },
  {
   "cell_type": "code",
   "execution_count": 39,
   "metadata": {},
   "outputs": [],
   "source": [
    "# Features (X) and target (y) for primekg\n",
    "X = cardio_primekg_prepped.drop(columns=['adv/app'])\n",
    "y = cardio_primekg_prepped['adv/app']"
   ]
  },
  {
   "cell_type": "code",
   "execution_count": 41,
   "metadata": {},
   "outputs": [],
   "source": [
    "from sklearn.model_selection import train_test_split\n",
    "\n",
    "X_train, X_test, y_train, y_test = train_test_split(X, y, test_size=0.3, stratify=y, random_state=42)\n"
   ]
  },
  {
   "cell_type": "code",
   "execution_count": 54,
   "metadata": {},
   "outputs": [],
   "source": [
    "from sklearn.pipeline import Pipeline\n",
    "from sklearn.preprocessing import StandardScaler, MinMaxScaler, MaxAbsScaler, RobustScaler, OrdinalEncoder\n",
    "from sklearn.preprocessing import OneHotEncoder\n",
    "from sklearn.compose import ColumnTransformer\n",
    "\n",
    "from sklearn.metrics import accuracy_score, roc_curve, roc_auc_score\n",
    "from sklearn.metrics import precision_score, recall_score, f1_score, confusion_matrix \n",
    "\n",
    "from xgboost import XGBClassifier\n",
    "\n",
    "\n",
    "from matplotlib import pyplot as plt"
   ]
  },
  {
   "cell_type": "code",
   "execution_count": 75,
   "metadata": {},
   "outputs": [
    {
     "data": {
      "text/html": [
       "<style>#sk-container-id-9 {color: black;}#sk-container-id-9 pre{padding: 0;}#sk-container-id-9 div.sk-toggleable {background-color: white;}#sk-container-id-9 label.sk-toggleable__label {cursor: pointer;display: block;width: 100%;margin-bottom: 0;padding: 0.3em;box-sizing: border-box;text-align: center;}#sk-container-id-9 label.sk-toggleable__label-arrow:before {content: \"▸\";float: left;margin-right: 0.25em;color: #696969;}#sk-container-id-9 label.sk-toggleable__label-arrow:hover:before {color: black;}#sk-container-id-9 div.sk-estimator:hover label.sk-toggleable__label-arrow:before {color: black;}#sk-container-id-9 div.sk-toggleable__content {max-height: 0;max-width: 0;overflow: hidden;text-align: left;background-color: #f0f8ff;}#sk-container-id-9 div.sk-toggleable__content pre {margin: 0.2em;color: black;border-radius: 0.25em;background-color: #f0f8ff;}#sk-container-id-9 input.sk-toggleable__control:checked~div.sk-toggleable__content {max-height: 200px;max-width: 100%;overflow: auto;}#sk-container-id-9 input.sk-toggleable__control:checked~label.sk-toggleable__label-arrow:before {content: \"▾\";}#sk-container-id-9 div.sk-estimator input.sk-toggleable__control:checked~label.sk-toggleable__label {background-color: #d4ebff;}#sk-container-id-9 div.sk-label input.sk-toggleable__control:checked~label.sk-toggleable__label {background-color: #d4ebff;}#sk-container-id-9 input.sk-hidden--visually {border: 0;clip: rect(1px 1px 1px 1px);clip: rect(1px, 1px, 1px, 1px);height: 1px;margin: -1px;overflow: hidden;padding: 0;position: absolute;width: 1px;}#sk-container-id-9 div.sk-estimator {font-family: monospace;background-color: #f0f8ff;border: 1px dotted black;border-radius: 0.25em;box-sizing: border-box;margin-bottom: 0.5em;}#sk-container-id-9 div.sk-estimator:hover {background-color: #d4ebff;}#sk-container-id-9 div.sk-parallel-item::after {content: \"\";width: 100%;border-bottom: 1px solid gray;flex-grow: 1;}#sk-container-id-9 div.sk-label:hover label.sk-toggleable__label {background-color: #d4ebff;}#sk-container-id-9 div.sk-serial::before {content: \"\";position: absolute;border-left: 1px solid gray;box-sizing: border-box;top: 0;bottom: 0;left: 50%;z-index: 0;}#sk-container-id-9 div.sk-serial {display: flex;flex-direction: column;align-items: center;background-color: white;padding-right: 0.2em;padding-left: 0.2em;position: relative;}#sk-container-id-9 div.sk-item {position: relative;z-index: 1;}#sk-container-id-9 div.sk-parallel {display: flex;align-items: stretch;justify-content: center;background-color: white;position: relative;}#sk-container-id-9 div.sk-item::before, #sk-container-id-9 div.sk-parallel-item::before {content: \"\";position: absolute;border-left: 1px solid gray;box-sizing: border-box;top: 0;bottom: 0;left: 50%;z-index: -1;}#sk-container-id-9 div.sk-parallel-item {display: flex;flex-direction: column;z-index: 1;position: relative;background-color: white;}#sk-container-id-9 div.sk-parallel-item:first-child::after {align-self: flex-end;width: 50%;}#sk-container-id-9 div.sk-parallel-item:last-child::after {align-self: flex-start;width: 50%;}#sk-container-id-9 div.sk-parallel-item:only-child::after {width: 0;}#sk-container-id-9 div.sk-dashed-wrapped {border: 1px dashed gray;margin: 0 0.4em 0.5em 0.4em;box-sizing: border-box;padding-bottom: 0.4em;background-color: white;}#sk-container-id-9 div.sk-label label {font-family: monospace;font-weight: bold;display: inline-block;line-height: 1.2em;}#sk-container-id-9 div.sk-label-container {text-align: center;}#sk-container-id-9 div.sk-container {/* jupyter's `normalize.less` sets `[hidden] { display: none; }` but bootstrap.min.css set `[hidden] { display: none !important; }` so we also need the `!important` here to be able to override the default hidden behavior on the sphinx rendered scikit-learn.org. See: https://github.com/scikit-learn/scikit-learn/issues/21755 */display: inline-block !important;position: relative;}#sk-container-id-9 div.sk-text-repr-fallback {display: none;}</style><div id=\"sk-container-id-9\" class=\"sk-top-container\"><div class=\"sk-text-repr-fallback\"><pre>Pipeline(steps=[(&#x27;preprocessor&#x27;,\n",
       "                 ColumnTransformer(transformers=[(&#x27;num&#x27;, StandardScaler(),\n",
       "                                                  [&#x27;sAB&#x27;, &#x27;opAB&#x27;, &#x27;meanspAB&#x27;,\n",
       "                                                   &#x27;medianspAB&#x27;, &#x27;minspAB&#x27;,\n",
       "                                                   &#x27;maxspAB&#x27;, &#x27;zTDA&#x27;, &#x27;zTDB&#x27;,\n",
       "                                                   &#x27;zDTA&#x27;, &#x27;zDTB&#x27;, &#x27;sAD&#x27;, &#x27;sBD&#x27;,\n",
       "                                                   &#x27;opAD&#x27;, &#x27;opBD&#x27;, &#x27;meanspAD&#x27;,\n",
       "                                                   &#x27;meanspBD&#x27;, &#x27;medianspAD&#x27;,\n",
       "                                                   &#x27;medianspBD&#x27;, &#x27;minspAD&#x27;,\n",
       "                                                   &#x27;minspBD&#x27;, &#x27;maxspAD&#x27;,\n",
       "                                                   &#x27;maxspBD&#x27;]),\n",
       "                                                 (&#x27;cat&#x27;,\n",
       "                                                  OrdinalEncoder(handle_unknown=&#x27;use_encoded_value&#x27;,\n",
       "                                                                 unk...\n",
       "                               feature_types=None, gamma=None, grow_policy=None,\n",
       "                               importance_type=None,\n",
       "                               interaction_constraints=None, learning_rate=None,\n",
       "                               max_bin=None, max_cat_threshold=None,\n",
       "                               max_cat_to_onehot=None, max_delta_step=None,\n",
       "                               max_depth=None, max_leaves=None,\n",
       "                               min_child_weight=None, missing=nan,\n",
       "                               monotone_constraints=None, multi_strategy=None,\n",
       "                               n_estimators=None, n_jobs=None,\n",
       "                               num_parallel_tree=None, random_state=None, ...))])</pre><b>In a Jupyter environment, please rerun this cell to show the HTML representation or trust the notebook. <br />On GitHub, the HTML representation is unable to render, please try loading this page with nbviewer.org.</b></div><div class=\"sk-container\" hidden><div class=\"sk-item sk-dashed-wrapped\"><div class=\"sk-label-container\"><div class=\"sk-label sk-toggleable\"><input class=\"sk-toggleable__control sk-hidden--visually\" id=\"sk-estimator-id-57\" type=\"checkbox\" ><label for=\"sk-estimator-id-57\" class=\"sk-toggleable__label sk-toggleable__label-arrow\">Pipeline</label><div class=\"sk-toggleable__content\"><pre>Pipeline(steps=[(&#x27;preprocessor&#x27;,\n",
       "                 ColumnTransformer(transformers=[(&#x27;num&#x27;, StandardScaler(),\n",
       "                                                  [&#x27;sAB&#x27;, &#x27;opAB&#x27;, &#x27;meanspAB&#x27;,\n",
       "                                                   &#x27;medianspAB&#x27;, &#x27;minspAB&#x27;,\n",
       "                                                   &#x27;maxspAB&#x27;, &#x27;zTDA&#x27;, &#x27;zTDB&#x27;,\n",
       "                                                   &#x27;zDTA&#x27;, &#x27;zDTB&#x27;, &#x27;sAD&#x27;, &#x27;sBD&#x27;,\n",
       "                                                   &#x27;opAD&#x27;, &#x27;opBD&#x27;, &#x27;meanspAD&#x27;,\n",
       "                                                   &#x27;meanspBD&#x27;, &#x27;medianspAD&#x27;,\n",
       "                                                   &#x27;medianspBD&#x27;, &#x27;minspAD&#x27;,\n",
       "                                                   &#x27;minspBD&#x27;, &#x27;maxspAD&#x27;,\n",
       "                                                   &#x27;maxspBD&#x27;]),\n",
       "                                                 (&#x27;cat&#x27;,\n",
       "                                                  OrdinalEncoder(handle_unknown=&#x27;use_encoded_value&#x27;,\n",
       "                                                                 unk...\n",
       "                               feature_types=None, gamma=None, grow_policy=None,\n",
       "                               importance_type=None,\n",
       "                               interaction_constraints=None, learning_rate=None,\n",
       "                               max_bin=None, max_cat_threshold=None,\n",
       "                               max_cat_to_onehot=None, max_delta_step=None,\n",
       "                               max_depth=None, max_leaves=None,\n",
       "                               min_child_weight=None, missing=nan,\n",
       "                               monotone_constraints=None, multi_strategy=None,\n",
       "                               n_estimators=None, n_jobs=None,\n",
       "                               num_parallel_tree=None, random_state=None, ...))])</pre></div></div></div><div class=\"sk-serial\"><div class=\"sk-item sk-dashed-wrapped\"><div class=\"sk-label-container\"><div class=\"sk-label sk-toggleable\"><input class=\"sk-toggleable__control sk-hidden--visually\" id=\"sk-estimator-id-58\" type=\"checkbox\" ><label for=\"sk-estimator-id-58\" class=\"sk-toggleable__label sk-toggleable__label-arrow\">preprocessor: ColumnTransformer</label><div class=\"sk-toggleable__content\"><pre>ColumnTransformer(transformers=[(&#x27;num&#x27;, StandardScaler(),\n",
       "                                 [&#x27;sAB&#x27;, &#x27;opAB&#x27;, &#x27;meanspAB&#x27;, &#x27;medianspAB&#x27;,\n",
       "                                  &#x27;minspAB&#x27;, &#x27;maxspAB&#x27;, &#x27;zTDA&#x27;, &#x27;zTDB&#x27;, &#x27;zDTA&#x27;,\n",
       "                                  &#x27;zDTB&#x27;, &#x27;sAD&#x27;, &#x27;sBD&#x27;, &#x27;opAD&#x27;, &#x27;opBD&#x27;,\n",
       "                                  &#x27;meanspAD&#x27;, &#x27;meanspBD&#x27;, &#x27;medianspAD&#x27;,\n",
       "                                  &#x27;medianspBD&#x27;, &#x27;minspAD&#x27;, &#x27;minspBD&#x27;, &#x27;maxspAD&#x27;,\n",
       "                                  &#x27;maxspBD&#x27;]),\n",
       "                                (&#x27;cat&#x27;,\n",
       "                                 OrdinalEncoder(handle_unknown=&#x27;use_encoded_value&#x27;,\n",
       "                                                unknown_value=nan),\n",
       "                                 [&#x27;drugA&#x27;, &#x27;drugB&#x27;])])</pre></div></div></div><div class=\"sk-parallel\"><div class=\"sk-parallel-item\"><div class=\"sk-item\"><div class=\"sk-label-container\"><div class=\"sk-label sk-toggleable\"><input class=\"sk-toggleable__control sk-hidden--visually\" id=\"sk-estimator-id-59\" type=\"checkbox\" ><label for=\"sk-estimator-id-59\" class=\"sk-toggleable__label sk-toggleable__label-arrow\">num</label><div class=\"sk-toggleable__content\"><pre>[&#x27;sAB&#x27;, &#x27;opAB&#x27;, &#x27;meanspAB&#x27;, &#x27;medianspAB&#x27;, &#x27;minspAB&#x27;, &#x27;maxspAB&#x27;, &#x27;zTDA&#x27;, &#x27;zTDB&#x27;, &#x27;zDTA&#x27;, &#x27;zDTB&#x27;, &#x27;sAD&#x27;, &#x27;sBD&#x27;, &#x27;opAD&#x27;, &#x27;opBD&#x27;, &#x27;meanspAD&#x27;, &#x27;meanspBD&#x27;, &#x27;medianspAD&#x27;, &#x27;medianspBD&#x27;, &#x27;minspAD&#x27;, &#x27;minspBD&#x27;, &#x27;maxspAD&#x27;, &#x27;maxspBD&#x27;]</pre></div></div></div><div class=\"sk-serial\"><div class=\"sk-item\"><div class=\"sk-estimator sk-toggleable\"><input class=\"sk-toggleable__control sk-hidden--visually\" id=\"sk-estimator-id-60\" type=\"checkbox\" ><label for=\"sk-estimator-id-60\" class=\"sk-toggleable__label sk-toggleable__label-arrow\">StandardScaler</label><div class=\"sk-toggleable__content\"><pre>StandardScaler()</pre></div></div></div></div></div></div><div class=\"sk-parallel-item\"><div class=\"sk-item\"><div class=\"sk-label-container\"><div class=\"sk-label sk-toggleable\"><input class=\"sk-toggleable__control sk-hidden--visually\" id=\"sk-estimator-id-61\" type=\"checkbox\" ><label for=\"sk-estimator-id-61\" class=\"sk-toggleable__label sk-toggleable__label-arrow\">cat</label><div class=\"sk-toggleable__content\"><pre>[&#x27;drugA&#x27;, &#x27;drugB&#x27;]</pre></div></div></div><div class=\"sk-serial\"><div class=\"sk-item\"><div class=\"sk-estimator sk-toggleable\"><input class=\"sk-toggleable__control sk-hidden--visually\" id=\"sk-estimator-id-62\" type=\"checkbox\" ><label for=\"sk-estimator-id-62\" class=\"sk-toggleable__label sk-toggleable__label-arrow\">OrdinalEncoder</label><div class=\"sk-toggleable__content\"><pre>OrdinalEncoder(handle_unknown=&#x27;use_encoded_value&#x27;, unknown_value=nan)</pre></div></div></div></div></div></div></div></div><div class=\"sk-item\"><div class=\"sk-estimator sk-toggleable\"><input class=\"sk-toggleable__control sk-hidden--visually\" id=\"sk-estimator-id-63\" type=\"checkbox\" ><label for=\"sk-estimator-id-63\" class=\"sk-toggleable__label sk-toggleable__label-arrow\">XGBClassifier</label><div class=\"sk-toggleable__content\"><pre>XGBClassifier(base_score=None, booster=None, callbacks=None,\n",
       "              colsample_bylevel=None, colsample_bynode=None,\n",
       "              colsample_bytree=None, device=None, early_stopping_rounds=None,\n",
       "              enable_categorical=False, eval_metric=None, feature_types=None,\n",
       "              gamma=None, grow_policy=None, importance_type=None,\n",
       "              interaction_constraints=None, learning_rate=None, max_bin=None,\n",
       "              max_cat_threshold=None, max_cat_to_onehot=None,\n",
       "              max_delta_step=None, max_depth=None, max_leaves=None,\n",
       "              min_child_weight=None, missing=nan, monotone_constraints=None,\n",
       "              multi_strategy=None, n_estimators=None, n_jobs=None,\n",
       "              num_parallel_tree=None, random_state=None, ...)</pre></div></div></div></div></div></div></div>"
      ],
      "text/plain": [
       "Pipeline(steps=[('preprocessor',\n",
       "                 ColumnTransformer(transformers=[('num', StandardScaler(),\n",
       "                                                  ['sAB', 'opAB', 'meanspAB',\n",
       "                                                   'medianspAB', 'minspAB',\n",
       "                                                   'maxspAB', 'zTDA', 'zTDB',\n",
       "                                                   'zDTA', 'zDTB', 'sAD', 'sBD',\n",
       "                                                   'opAD', 'opBD', 'meanspAD',\n",
       "                                                   'meanspBD', 'medianspAD',\n",
       "                                                   'medianspBD', 'minspAD',\n",
       "                                                   'minspBD', 'maxspAD',\n",
       "                                                   'maxspBD']),\n",
       "                                                 ('cat',\n",
       "                                                  OrdinalEncoder(handle_unknown='use_encoded_value',\n",
       "                                                                 unk...\n",
       "                               feature_types=None, gamma=None, grow_policy=None,\n",
       "                               importance_type=None,\n",
       "                               interaction_constraints=None, learning_rate=None,\n",
       "                               max_bin=None, max_cat_threshold=None,\n",
       "                               max_cat_to_onehot=None, max_delta_step=None,\n",
       "                               max_depth=None, max_leaves=None,\n",
       "                               min_child_weight=None, missing=nan,\n",
       "                               monotone_constraints=None, multi_strategy=None,\n",
       "                               n_estimators=None, n_jobs=None,\n",
       "                               num_parallel_tree=None, random_state=None, ...))])"
      ]
     },
     "execution_count": 75,
     "metadata": {},
     "output_type": "execute_result"
    }
   ],
   "source": [
    "#Ending up working with XGBoosting because somehow there are still some NAs in our dataset (couldn't troubleshoot it)\n",
    "\n",
    "from sklearn.neighbors import KNeighborsClassifier\n",
    "import numpy as np\n",
    "\n",
    "\n",
    "base_categorical_features = ['drugA', 'drugB']\n",
    "base_numerical_features = list(X_train.columns)\n",
    "\n",
    "for cat in base_categorical_features:\n",
    "    base_numerical_features.remove(cat)\n",
    "\n",
    "numeric_transformer = StandardScaler() \n",
    "categorical_transformer = OrdinalEncoder(handle_unknown='use_encoded_value', unknown_value=np.nan)\n",
    "\n",
    "preprocessor = ColumnTransformer(transformers=[(\"num\", numeric_transformer, base_numerical_features), \n",
    "                                               (\"cat\", categorical_transformer, base_categorical_features)])\n",
    "\n",
    "pipe = Pipeline(steps=[(\"preprocessor\", preprocessor),\n",
    "                       (\"classifier\",  XGBClassifier())])\n",
    "\n",
    "pipe.fit(X_train, y_train)\n"
   ]
  },
  {
   "cell_type": "code",
   "execution_count": 76,
   "metadata": {},
   "outputs": [
    {
     "data": {
      "image/png": "[encoded data removed]",
      "text/plain": [
       "<Figure size 1200x500 with 2 Axes>"
      ]
     },
     "metadata": {},
     "output_type": "display_data"
    }
   ],
   "source": [
    "y_pred_proba = pipe.predict_proba(X_test)[:,1]\n",
    "fpr, tpr, _ = roc_curve (y_test, y_pred_proba)\n",
    "auc = roc_auc_score (y_test, y_pred_proba)\n",
    "\n",
    "f, (ax1, ax2) = plt.subplots(1, 2, sharey=True, figsize=(12, 5))\n",
    "\n",
    "#create Test ROC curve\n",
    "ax1.set_title('Test ROC')\n",
    "ax1.plot (fpr,tpr,label=\" AUC= \"+str(auc)[:6])\n",
    "ax1.fill_between(fpr, tpr, alpha=.5)\n",
    "ax1.plot([0,1], [0,1], linestyle=(0, (5, 5)), linewidth=2, color='navy')\n",
    "ax1.grid(linestyle=\"-\", alpha=.2)\n",
    "ax1.set_ylabel('True Positive Rate')\n",
    "ax1.set_xlabel('False Positive Rate')\n",
    "ax1.legend(loc=4)\n",
    "\n",
    "y_pred_proba = pipe.predict_proba(X_train)[:,1]\n",
    "fpr, tpr, _ = roc_curve (y_train, y_pred_proba)\n",
    "auc = roc_auc_score (y_train, y_pred_proba)\n",
    "\n",
    "#create Train ROC curve\n",
    "ax2.set_title('Train ROC')\n",
    "ax2.plot (fpr,tpr,label=\" AUC= \"+str(auc)[:6])\n",
    "ax2.fill_between(fpr, tpr, alpha=.5)\n",
    "ax2.plot([0,1], [0,1], linestyle=(0, (5, 5)), linewidth=2, color='navy')\n",
    "ax2.grid(linestyle=\"-\", alpha=.2)\n",
    "ax2.set_ylabel('True Positive Rate')\n",
    "ax2.set_xlabel('False Positive Rate')\n",
    "ax2.legend(loc=4)\n",
    "\n",
    "plt.show()"
   ]
  },
  {
   "cell_type": "code",
   "execution_count": 78,
   "metadata": {},
   "outputs": [
    {
     "name": "stdout",
     "output_type": "stream",
     "text": [
      "precision= 0.631578947368421\n",
      "recall= 0.3116883116883117\n",
      "f1-score= 0.41739130434782606\n",
      "accuracy= 0.9954234972677596\n"
     ]
    }
   ],
   "source": [
    "y_pred = pipe.predict(X_test)\n",
    "\n",
    "print('precision=', precision_score(y_test, y_pred))\n",
    "print('recall=', recall_score(y_test, y_pred))\n",
    "print('f1-score=', f1_score(y_test, y_pred))\n",
    "print('accuracy=', accuracy_score(y_test, y_pred))"
   ]
  },
  {
   "cell_type": "code",
   "execution_count": 79,
   "metadata": {},
   "outputs": [
    {
     "data": {
      "text/plain": [
       "adv/app\n",
       "0    14563\n",
       "1       77\n",
       "Name: count, dtype: int64"
      ]
     },
     "execution_count": 79,
     "metadata": {},
     "output_type": "execute_result"
    }
   ],
   "source": [
    "# ground truth balancing needed\n",
    "y_test.value_counts()"
   ]
  },
  {
   "cell_type": "code",
   "execution_count": 68,
   "metadata": {},
   "outputs": [
    {
     "data": {
      "image/png": "[encoded data removed]",
      "text/plain": [
       "<Figure size 640x480 with 2 Axes>"
      ]
     },
     "metadata": {},
     "output_type": "display_data"
    }
   ],
   "source": [
    "#model is good in detecting true positives, but isn't good at detecting true negatives\n",
    "from sklearn.metrics import ConfusionMatrixDisplay\n",
    "\n",
    "confusion_matr = confusion_matrix(y_test, y_pred)\n",
    "\n",
    "cm_display = ConfusionMatrixDisplay(confusion_matrix = confusion_matr, display_labels = ['Approved', 'Adversed'])\n",
    "\n",
    "cm_display.plot()\n",
    "plt.show()"
   ]
  },
  {
   "cell_type": "markdown",
   "metadata": {},
   "source": [
    "## Trying out ctd dataset "
   ]
  },
  {
   "cell_type": "code",
   "execution_count": null,
   "metadata": {},
   "outputs": [],
   "source": [
    "# Features (X) and target (y) for primekg\n",
    "X = cardio_ctd_prepped.drop(columns=['adv/app'])\n",
    "y = cardio_ctd_prepped['adv/app']"
   ]
  },
  {
   "cell_type": "code",
   "execution_count": 80,
   "metadata": {},
   "outputs": [],
   "source": [
    "X_train, X_test, y_train, y_test = train_test_split(X, y, test_size=0.3, stratify=y, random_state=42)\n"
   ]
  },
  {
   "cell_type": "code",
   "execution_count": 81,
   "metadata": {},
   "outputs": [
    {
     "data": {
      "text/html": [
       "<style>#sk-container-id-10 {color: black;}#sk-container-id-10 pre{padding: 0;}#sk-container-id-10 div.sk-toggleable {background-color: white;}#sk-container-id-10 label.sk-toggleable__label {cursor: pointer;display: block;width: 100%;margin-bottom: 0;padding: 0.3em;box-sizing: border-box;text-align: center;}#sk-container-id-10 label.sk-toggleable__label-arrow:before {content: \"▸\";float: left;margin-right: 0.25em;color: #696969;}#sk-container-id-10 label.sk-toggleable__label-arrow:hover:before {color: black;}#sk-container-id-10 div.sk-estimator:hover label.sk-toggleable__label-arrow:before {color: black;}#sk-container-id-10 div.sk-toggleable__content {max-height: 0;max-width: 0;overflow: hidden;text-align: left;background-color: #f0f8ff;}#sk-container-id-10 div.sk-toggleable__content pre {margin: 0.2em;color: black;border-radius: 0.25em;background-color: #f0f8ff;}#sk-container-id-10 input.sk-toggleable__control:checked~div.sk-toggleable__content {max-height: 200px;max-width: 100%;overflow: auto;}#sk-container-id-10 input.sk-toggleable__control:checked~label.sk-toggleable__label-arrow:before {content: \"▾\";}#sk-container-id-10 div.sk-estimator input.sk-toggleable__control:checked~label.sk-toggleable__label {background-color: #d4ebff;}#sk-container-id-10 div.sk-label input.sk-toggleable__control:checked~label.sk-toggleable__label {background-color: #d4ebff;}#sk-container-id-10 input.sk-hidden--visually {border: 0;clip: rect(1px 1px 1px 1px);clip: rect(1px, 1px, 1px, 1px);height: 1px;margin: -1px;overflow: hidden;padding: 0;position: absolute;width: 1px;}#sk-container-id-10 div.sk-estimator {font-family: monospace;background-color: #f0f8ff;border: 1px dotted black;border-radius: 0.25em;box-sizing: border-box;margin-bottom: 0.5em;}#sk-container-id-10 div.sk-estimator:hover {background-color: #d4ebff;}#sk-container-id-10 div.sk-parallel-item::after {content: \"\";width: 100%;border-bottom: 1px solid gray;flex-grow: 1;}#sk-container-id-10 div.sk-label:hover label.sk-toggleable__label {background-color: #d4ebff;}#sk-container-id-10 div.sk-serial::before {content: \"\";position: absolute;border-left: 1px solid gray;box-sizing: border-box;top: 0;bottom: 0;left: 50%;z-index: 0;}#sk-container-id-10 div.sk-serial {display: flex;flex-direction: column;align-items: center;background-color: white;padding-right: 0.2em;padding-left: 0.2em;position: relative;}#sk-container-id-10 div.sk-item {position: relative;z-index: 1;}#sk-container-id-10 div.sk-parallel {display: flex;align-items: stretch;justify-content: center;background-color: white;position: relative;}#sk-container-id-10 div.sk-item::before, #sk-container-id-10 div.sk-parallel-item::before {content: \"\";position: absolute;border-left: 1px solid gray;box-sizing: border-box;top: 0;bottom: 0;left: 50%;z-index: -1;}#sk-container-id-10 div.sk-parallel-item {display: flex;flex-direction: column;z-index: 1;position: relative;background-color: white;}#sk-container-id-10 div.sk-parallel-item:first-child::after {align-self: flex-end;width: 50%;}#sk-container-id-10 div.sk-parallel-item:last-child::after {align-self: flex-start;width: 50%;}#sk-container-id-10 div.sk-parallel-item:only-child::after {width: 0;}#sk-container-id-10 div.sk-dashed-wrapped {border: 1px dashed gray;margin: 0 0.4em 0.5em 0.4em;box-sizing: border-box;padding-bottom: 0.4em;background-color: white;}#sk-container-id-10 div.sk-label label {font-family: monospace;font-weight: bold;display: inline-block;line-height: 1.2em;}#sk-container-id-10 div.sk-label-container {text-align: center;}#sk-container-id-10 div.sk-container {/* jupyter's `normalize.less` sets `[hidden] { display: none; }` but bootstrap.min.css set `[hidden] { display: none !important; }` so we also need the `!important` here to be able to override the default hidden behavior on the sphinx rendered scikit-learn.org. See: https://github.com/scikit-learn/scikit-learn/issues/21755 */display: inline-block !important;position: relative;}#sk-container-id-10 div.sk-text-repr-fallback {display: none;}</style><div id=\"sk-container-id-10\" class=\"sk-top-container\"><div class=\"sk-text-repr-fallback\"><pre>Pipeline(steps=[(&#x27;preprocessor&#x27;,\n",
       "                 ColumnTransformer(transformers=[(&#x27;num&#x27;, StandardScaler(),\n",
       "                                                  [&#x27;sAB&#x27;, &#x27;opAB&#x27;, &#x27;meanspAB&#x27;,\n",
       "                                                   &#x27;medianspAB&#x27;, &#x27;minspAB&#x27;,\n",
       "                                                   &#x27;maxspAB&#x27;, &#x27;zTDA&#x27;, &#x27;zTDB&#x27;,\n",
       "                                                   &#x27;zDTA&#x27;, &#x27;zDTB&#x27;, &#x27;sAD&#x27;, &#x27;sBD&#x27;,\n",
       "                                                   &#x27;opAD&#x27;, &#x27;opBD&#x27;, &#x27;meanspAD&#x27;,\n",
       "                                                   &#x27;meanspBD&#x27;, &#x27;medianspAD&#x27;,\n",
       "                                                   &#x27;medianspBD&#x27;, &#x27;minspAD&#x27;,\n",
       "                                                   &#x27;minspBD&#x27;, &#x27;maxspAD&#x27;,\n",
       "                                                   &#x27;maxspBD&#x27;]),\n",
       "                                                 (&#x27;cat&#x27;,\n",
       "                                                  OrdinalEncoder(handle_unknown=&#x27;use_encoded_value&#x27;,\n",
       "                                                                 unk...\n",
       "                               feature_types=None, gamma=None, grow_policy=None,\n",
       "                               importance_type=None,\n",
       "                               interaction_constraints=None, learning_rate=None,\n",
       "                               max_bin=None, max_cat_threshold=None,\n",
       "                               max_cat_to_onehot=None, max_delta_step=None,\n",
       "                               max_depth=None, max_leaves=None,\n",
       "                               min_child_weight=None, missing=nan,\n",
       "                               monotone_constraints=None, multi_strategy=None,\n",
       "                               n_estimators=None, n_jobs=None,\n",
       "                               num_parallel_tree=None, random_state=None, ...))])</pre><b>In a Jupyter environment, please rerun this cell to show the HTML representation or trust the notebook. <br />On GitHub, the HTML representation is unable to render, please try loading this page with nbviewer.org.</b></div><div class=\"sk-container\" hidden><div class=\"sk-item sk-dashed-wrapped\"><div class=\"sk-label-container\"><div class=\"sk-label sk-toggleable\"><input class=\"sk-toggleable__control sk-hidden--visually\" id=\"sk-estimator-id-64\" type=\"checkbox\" ><label for=\"sk-estimator-id-64\" class=\"sk-toggleable__label sk-toggleable__label-arrow\">Pipeline</label><div class=\"sk-toggleable__content\"><pre>Pipeline(steps=[(&#x27;preprocessor&#x27;,\n",
       "                 ColumnTransformer(transformers=[(&#x27;num&#x27;, StandardScaler(),\n",
       "                                                  [&#x27;sAB&#x27;, &#x27;opAB&#x27;, &#x27;meanspAB&#x27;,\n",
       "                                                   &#x27;medianspAB&#x27;, &#x27;minspAB&#x27;,\n",
       "                                                   &#x27;maxspAB&#x27;, &#x27;zTDA&#x27;, &#x27;zTDB&#x27;,\n",
       "                                                   &#x27;zDTA&#x27;, &#x27;zDTB&#x27;, &#x27;sAD&#x27;, &#x27;sBD&#x27;,\n",
       "                                                   &#x27;opAD&#x27;, &#x27;opBD&#x27;, &#x27;meanspAD&#x27;,\n",
       "                                                   &#x27;meanspBD&#x27;, &#x27;medianspAD&#x27;,\n",
       "                                                   &#x27;medianspBD&#x27;, &#x27;minspAD&#x27;,\n",
       "                                                   &#x27;minspBD&#x27;, &#x27;maxspAD&#x27;,\n",
       "                                                   &#x27;maxspBD&#x27;]),\n",
       "                                                 (&#x27;cat&#x27;,\n",
       "                                                  OrdinalEncoder(handle_unknown=&#x27;use_encoded_value&#x27;,\n",
       "                                                                 unk...\n",
       "                               feature_types=None, gamma=None, grow_policy=None,\n",
       "                               importance_type=None,\n",
       "                               interaction_constraints=None, learning_rate=None,\n",
       "                               max_bin=None, max_cat_threshold=None,\n",
       "                               max_cat_to_onehot=None, max_delta_step=None,\n",
       "                               max_depth=None, max_leaves=None,\n",
       "                               min_child_weight=None, missing=nan,\n",
       "                               monotone_constraints=None, multi_strategy=None,\n",
       "                               n_estimators=None, n_jobs=None,\n",
       "                               num_parallel_tree=None, random_state=None, ...))])</pre></div></div></div><div class=\"sk-serial\"><div class=\"sk-item sk-dashed-wrapped\"><div class=\"sk-label-container\"><div class=\"sk-label sk-toggleable\"><input class=\"sk-toggleable__control sk-hidden--visually\" id=\"sk-estimator-id-65\" type=\"checkbox\" ><label for=\"sk-estimator-id-65\" class=\"sk-toggleable__label sk-toggleable__label-arrow\">preprocessor: ColumnTransformer</label><div class=\"sk-toggleable__content\"><pre>ColumnTransformer(transformers=[(&#x27;num&#x27;, StandardScaler(),\n",
       "                                 [&#x27;sAB&#x27;, &#x27;opAB&#x27;, &#x27;meanspAB&#x27;, &#x27;medianspAB&#x27;,\n",
       "                                  &#x27;minspAB&#x27;, &#x27;maxspAB&#x27;, &#x27;zTDA&#x27;, &#x27;zTDB&#x27;, &#x27;zDTA&#x27;,\n",
       "                                  &#x27;zDTB&#x27;, &#x27;sAD&#x27;, &#x27;sBD&#x27;, &#x27;opAD&#x27;, &#x27;opBD&#x27;,\n",
       "                                  &#x27;meanspAD&#x27;, &#x27;meanspBD&#x27;, &#x27;medianspAD&#x27;,\n",
       "                                  &#x27;medianspBD&#x27;, &#x27;minspAD&#x27;, &#x27;minspBD&#x27;, &#x27;maxspAD&#x27;,\n",
       "                                  &#x27;maxspBD&#x27;]),\n",
       "                                (&#x27;cat&#x27;,\n",
       "                                 OrdinalEncoder(handle_unknown=&#x27;use_encoded_value&#x27;,\n",
       "                                                unknown_value=nan),\n",
       "                                 [&#x27;drugA&#x27;, &#x27;drugB&#x27;])])</pre></div></div></div><div class=\"sk-parallel\"><div class=\"sk-parallel-item\"><div class=\"sk-item\"><div class=\"sk-label-container\"><div class=\"sk-label sk-toggleable\"><input class=\"sk-toggleable__control sk-hidden--visually\" id=\"sk-estimator-id-66\" type=\"checkbox\" ><label for=\"sk-estimator-id-66\" class=\"sk-toggleable__label sk-toggleable__label-arrow\">num</label><div class=\"sk-toggleable__content\"><pre>[&#x27;sAB&#x27;, &#x27;opAB&#x27;, &#x27;meanspAB&#x27;, &#x27;medianspAB&#x27;, &#x27;minspAB&#x27;, &#x27;maxspAB&#x27;, &#x27;zTDA&#x27;, &#x27;zTDB&#x27;, &#x27;zDTA&#x27;, &#x27;zDTB&#x27;, &#x27;sAD&#x27;, &#x27;sBD&#x27;, &#x27;opAD&#x27;, &#x27;opBD&#x27;, &#x27;meanspAD&#x27;, &#x27;meanspBD&#x27;, &#x27;medianspAD&#x27;, &#x27;medianspBD&#x27;, &#x27;minspAD&#x27;, &#x27;minspBD&#x27;, &#x27;maxspAD&#x27;, &#x27;maxspBD&#x27;]</pre></div></div></div><div class=\"sk-serial\"><div class=\"sk-item\"><div class=\"sk-estimator sk-toggleable\"><input class=\"sk-toggleable__control sk-hidden--visually\" id=\"sk-estimator-id-67\" type=\"checkbox\" ><label for=\"sk-estimator-id-67\" class=\"sk-toggleable__label sk-toggleable__label-arrow\">StandardScaler</label><div class=\"sk-toggleable__content\"><pre>StandardScaler()</pre></div></div></div></div></div></div><div class=\"sk-parallel-item\"><div class=\"sk-item\"><div class=\"sk-label-container\"><div class=\"sk-label sk-toggleable\"><input class=\"sk-toggleable__control sk-hidden--visually\" id=\"sk-estimator-id-68\" type=\"checkbox\" ><label for=\"sk-estimator-id-68\" class=\"sk-toggleable__label sk-toggleable__label-arrow\">cat</label><div class=\"sk-toggleable__content\"><pre>[&#x27;drugA&#x27;, &#x27;drugB&#x27;]</pre></div></div></div><div class=\"sk-serial\"><div class=\"sk-item\"><div class=\"sk-estimator sk-toggleable\"><input class=\"sk-toggleable__control sk-hidden--visually\" id=\"sk-estimator-id-69\" type=\"checkbox\" ><label for=\"sk-estimator-id-69\" class=\"sk-toggleable__label sk-toggleable__label-arrow\">OrdinalEncoder</label><div class=\"sk-toggleable__content\"><pre>OrdinalEncoder(handle_unknown=&#x27;use_encoded_value&#x27;, unknown_value=nan)</pre></div></div></div></div></div></div></div></div><div class=\"sk-item\"><div class=\"sk-estimator sk-toggleable\"><input class=\"sk-toggleable__control sk-hidden--visually\" id=\"sk-estimator-id-70\" type=\"checkbox\" ><label for=\"sk-estimator-id-70\" class=\"sk-toggleable__label sk-toggleable__label-arrow\">XGBClassifier</label><div class=\"sk-toggleable__content\"><pre>XGBClassifier(base_score=None, booster=None, callbacks=None,\n",
       "              colsample_bylevel=None, colsample_bynode=None,\n",
       "              colsample_bytree=None, device=None, early_stopping_rounds=None,\n",
       "              enable_categorical=False, eval_metric=None, feature_types=None,\n",
       "              gamma=None, grow_policy=None, importance_type=None,\n",
       "              interaction_constraints=None, learning_rate=None, max_bin=None,\n",
       "              max_cat_threshold=None, max_cat_to_onehot=None,\n",
       "              max_delta_step=None, max_depth=None, max_leaves=None,\n",
       "              min_child_weight=None, missing=nan, monotone_constraints=None,\n",
       "              multi_strategy=None, n_estimators=None, n_jobs=None,\n",
       "              num_parallel_tree=None, random_state=None, ...)</pre></div></div></div></div></div></div></div>"
      ],
      "text/plain": [
       "Pipeline(steps=[('preprocessor',\n",
       "                 ColumnTransformer(transformers=[('num', StandardScaler(),\n",
       "                                                  ['sAB', 'opAB', 'meanspAB',\n",
       "                                                   'medianspAB', 'minspAB',\n",
       "                                                   'maxspAB', 'zTDA', 'zTDB',\n",
       "                                                   'zDTA', 'zDTB', 'sAD', 'sBD',\n",
       "                                                   'opAD', 'opBD', 'meanspAD',\n",
       "                                                   'meanspBD', 'medianspAD',\n",
       "                                                   'medianspBD', 'minspAD',\n",
       "                                                   'minspBD', 'maxspAD',\n",
       "                                                   'maxspBD']),\n",
       "                                                 ('cat',\n",
       "                                                  OrdinalEncoder(handle_unknown='use_encoded_value',\n",
       "                                                                 unk...\n",
       "                               feature_types=None, gamma=None, grow_policy=None,\n",
       "                               importance_type=None,\n",
       "                               interaction_constraints=None, learning_rate=None,\n",
       "                               max_bin=None, max_cat_threshold=None,\n",
       "                               max_cat_to_onehot=None, max_delta_step=None,\n",
       "                               max_depth=None, max_leaves=None,\n",
       "                               min_child_weight=None, missing=nan,\n",
       "                               monotone_constraints=None, multi_strategy=None,\n",
       "                               n_estimators=None, n_jobs=None,\n",
       "                               num_parallel_tree=None, random_state=None, ...))])"
      ]
     },
     "execution_count": 81,
     "metadata": {},
     "output_type": "execute_result"
    }
   ],
   "source": [
    "base_categorical_features = ['drugA', 'drugB']\n",
    "base_numerical_features = list(X_train.columns)\n",
    "\n",
    "for cat in base_categorical_features:\n",
    "    base_numerical_features.remove(cat)\n",
    "\n",
    "numeric_transformer = StandardScaler() \n",
    "categorical_transformer = OrdinalEncoder(handle_unknown='use_encoded_value', unknown_value=np.nan)\n",
    "\n",
    "preprocessor = ColumnTransformer(transformers=[(\"num\", numeric_transformer, base_numerical_features), \n",
    "                                               (\"cat\", categorical_transformer, base_categorical_features)])\n",
    "\n",
    "pipe = Pipeline(steps=[(\"preprocessor\", preprocessor),\n",
    "                       (\"classifier\",  XGBClassifier())])\n",
    "\n",
    "pipe.fit(X_train, y_train)"
   ]
  },
  {
   "cell_type": "code",
   "execution_count": 82,
   "metadata": {},
   "outputs": [
    {
     "data": {
      "image/png": "[encoded data removed]",
      "text/plain": [
       "<Figure size 1200x500 with 2 Axes>"
      ]
     },
     "metadata": {},
     "output_type": "display_data"
    }
   ],
   "source": [
    "y_pred_proba = pipe.predict_proba(X_test)[:,1]\n",
    "fpr, tpr, _ = roc_curve (y_test, y_pred_proba)\n",
    "auc = roc_auc_score (y_test, y_pred_proba)\n",
    "\n",
    "f, (ax1, ax2) = plt.subplots(1, 2, sharey=True, figsize=(12, 5))\n",
    "\n",
    "#create Test ROC curve\n",
    "ax1.set_title('Test ROC')\n",
    "ax1.plot (fpr,tpr,label=\" AUC= \"+str(auc)[:6])\n",
    "ax1.fill_between(fpr, tpr, alpha=.5)\n",
    "ax1.plot([0,1], [0,1], linestyle=(0, (5, 5)), linewidth=2, color='navy')\n",
    "ax1.grid(linestyle=\"-\", alpha=.2)\n",
    "ax1.set_ylabel('True Positive Rate')\n",
    "ax1.set_xlabel('False Positive Rate')\n",
    "ax1.legend(loc=4)\n",
    "\n",
    "y_pred_proba = pipe.predict_proba(X_train)[:,1]\n",
    "fpr, tpr, _ = roc_curve (y_train, y_pred_proba)\n",
    "auc = roc_auc_score (y_train, y_pred_proba)\n",
    "\n",
    "#create Train ROC curve\n",
    "ax2.set_title('Train ROC')\n",
    "ax2.plot (fpr,tpr,label=\" AUC= \"+str(auc)[:6])\n",
    "ax2.fill_between(fpr, tpr, alpha=.5)\n",
    "ax2.plot([0,1], [0,1], linestyle=(0, (5, 5)), linewidth=2, color='navy')\n",
    "ax2.grid(linestyle=\"-\", alpha=.2)\n",
    "ax2.set_ylabel('True Positive Rate')\n",
    "ax2.set_xlabel('False Positive Rate')\n",
    "ax2.legend(loc=4)\n",
    "\n",
    "plt.show()"
   ]
  },
  {
   "cell_type": "code",
   "execution_count": 83,
   "metadata": {},
   "outputs": [
    {
     "name": "stdout",
     "output_type": "stream",
     "text": [
      "precision= 0.631578947368421\n",
      "recall= 0.3116883116883117\n",
      "f1-score= 0.41739130434782606\n",
      "accuracy= 0.9954234972677596\n"
     ]
    }
   ],
   "source": [
    "y_pred = pipe.predict(X_test)\n",
    "\n",
    "print('precision=', precision_score(y_test, y_pred))\n",
    "print('recall=', recall_score(y_test, y_pred))\n",
    "print('f1-score=', f1_score(y_test, y_pred))\n",
    "print('accuracy=', accuracy_score(y_test, y_pred))"
   ]
  },
  {
   "cell_type": "code",
   "execution_count": 84,
   "metadata": {},
   "outputs": [
    {
     "data": {
      "text/plain": [
       "adv/app\n",
       "0    14563\n",
       "1       77\n",
       "Name: count, dtype: int64"
      ]
     },
     "execution_count": 84,
     "metadata": {},
     "output_type": "execute_result"
    }
   ],
   "source": [
    "y_test.value_counts()"
   ]
  },
  {
   "cell_type": "code",
   "execution_count": 86,
   "metadata": {},
   "outputs": [
    {
     "data": {
      "image/png": "[encoded data removed]",
      "text/plain": [
       "<Figure size 640x480 with 2 Axes>"
      ]
     },
     "metadata": {},
     "output_type": "display_data"
    }
   ],
   "source": [
    "confusion_matr = confusion_matrix(y_test, y_pred)\n",
    "\n",
    "cm_display = ConfusionMatrixDisplay(confusion_matrix = confusion_matr, display_labels = ['Approved', 'Adversed'])\n",
    "\n",
    "cm_display.plot()\n",
    "plt.show()"
   ]
  },
  {
   "cell_type": "code",
   "execution_count": 88,
   "metadata": {},
   "outputs": [
    {
     "name": "stdout",
     "output_type": "stream",
     "text": [
      "False\n"
     ]
    }
   ],
   "source": [
    "are_identical =cardio_ctd_prepped.equals(cardio_primekg_prepped)\n",
    "print(are_identical)"
   ]
  },
  {
   "cell_type": "markdown",
   "metadata": {},
   "source": [
    "## KNN"
   ]
  },
  {
   "cell_type": "code",
   "execution_count": null,
   "metadata": {},
   "outputs": [],
   "source": [
    "#defining types of distances\n",
    "import numpy as np\n",
    "\n",
    "def euclidean_distance(X, Y):\n",
    "    norm_X = np.sum(np.square(X), axis=1)\n",
    "    norm_Y = np.sum(np.square(Y), axis=1)\n",
    "    return np.sqrt(norm_Y - 2 * X @ Y.T + np.reshape(norm_X, (X.shape[0], 1)))\n",
    "\n",
    "\n",
    "def cosine_distance(X, Y):\n",
    "    norm_X = np.sqrt(np.sum(np.square(X), axis=1))\n",
    "    norm_X = np.where(norm_X != 0, norm_X, np.nan)\n",
    "    norm_Y = np.sqrt(np.sum(np.square(Y), axis=1))\n",
    "    norm_Y = np.where(norm_Y != 0, norm_Y, np.nan)\n",
    "    res = np.divide(X@Y.T, norm_Y)\n",
    "    res = np.divide(res, np.reshape(norm_X, (X.shape[0], 1)))\n",
    "    res = np.where(np.isnan(res), 0, 1 - res)\n",
    "    return res"
   ]
  },
  {
   "cell_type": "code",
   "execution_count": null,
   "metadata": {},
   "outputs": [],
   "source": [
    "from sklearn.base import BaseEstimator, ClassifierMixin\n",
    "from sklearn.neighbors import NearestNeighbors\n",
    "\n",
    "#custom KNNClassifier class\n",
    "class KNNClassifier(BaseEstimator, ClassifierMixin):\n",
    "    def __init__(self, k=5, weights='uniform', metric='euclidean'):\n",
    "        self.k = k\n",
    "        self.weights = weights\n",
    "        self.metric = metric\n",
    "        self.nn_model = None\n",
    "\n",
    "    def fit(self, X, y):\n",
    "        self.X = X\n",
    "        self.y = y\n",
    "        if self.metric == 'euclidean':\n",
    "            distance_func = euclidean_distance\n",
    "        elif self.metric == 'cosine':\n",
    "            distance_func = cosine_distance\n",
    "        else:\n",
    "            raise ValueError(\"Invalid distance metric. Supported metrics: 'euclidean', 'cosine'.\")\n",
    "\n",
    "        self.nn_model = NearestNeighbors(n_neighbors=self.k, algorithm='brute', metric=distance_func)\n",
    "        self.nn_model.fit(X)\n",
    "\n",
    "    def predict(self, X):\n",
    "        distances, indices = self.nn_model.kneighbors(X)\n",
    "        if self.weights == 'uniform':\n",
    "            weights = np.ones_like(distances)\n",
    "        elif self.weights == 'distance':\n",
    "            weights = 1.0 / distances\n",
    "        else:\n",
    "            raise ValueError(\"Invalid weight scheme. Supported weights: 'uniform', 'distance'.\")\n",
    "\n",
    "        # Weighted majority voting\n",
    "        class_counts = np.zeros((X.shape[0], len(np.unique(self.y))))\n",
    "        for i in range(self.k):\n",
    "            class_counts += np.eye(len(np.unique(self.y)))[self.y[indices[:, i]]]\n",
    "\n",
    "        # Get the index of the class with the maximum count\n",
    "        predicted_classes = np.argmax(class_counts, axis=1)\n",
    "        return predicted_classes\n",
    "\n"
   ]
  },
  {
   "cell_type": "code",
   "execution_count": null,
   "metadata": {},
   "outputs": [],
   "source": [
    "import numpy as np\n",
    "\n",
    "def kfold(n, n_folds):\n",
    "    res = []\n",
    "    indexes = np.arange(n)\n",
    "    folds = np.array(np.array_split(indexes, n_folds))\n",
    "    for num in range(n_folds):\n",
    "        arr_test = np.array(folds[num])\n",
    "        elements = np.arange(n)\n",
    "        arr_train = elements[np.isin(elements, arr_test, invert=True)]\n",
    "        res.append((arr_train, arr_test))\n",
    "    return res\n"
   ]
  },
  {
   "cell_type": "code",
   "execution_count": null,
   "metadata": {},
   "outputs": [],
   "source": [
    "from sklearn.model_selection import train_test_split\n",
    "from sklearn.metrics import accuracy_score\n",
    "from sklearn.base import clone\n",
    "\n",
    "y = merged_cardiovascular['adv/app']\n",
    "X = merged_cardiovascular.drop(columns=['adv/app', 'drugA', 'drugB', 'drugcomb', 'sA', 'sB', 'opA', 'opB'])\n",
    "\n",
    "# Step 1: Splitting the dataset into training and testing \n",
    "X_train, X_test, Y_train, Y_test = train_test_split(X, y, test_size=0.3, random_state=42)\n",
    "\n",
    "# Step 2: k-fold cross-validation\n",
    "n_folds = 5\n",
    "splits = kfold(len(X_train), n_folds)\n",
    "\n",
    "# Step 3: Train and evaluate the model on each fold\n",
    "model = KNNClassifier(k=5, weights='uniform', metric='euclidean')\n",
    "scores = []\n",
    "\n",
    "for train_index, val_index in splits:\n",
    "    X_train_fold, X_val_fold = X_train.iloc[train_index], X_train.iloc[val_index]\n",
    "    Y_train_fold, Y_val_fold = Y_train.iloc[train_index], Y_train.iloc[val_index]\n",
    "    \n",
    "    # Clone the model to avoid modifying the original instance\n",
    "    cloned_model = clone(model)\n",
    "    cloned_model.fit(X_train_fold, Y_train_fold)\n",
    "    \n",
    "    #  predictions on the validation set\n",
    "    Y_val_pred = cloned_model.predict(X_val_fold)\n",
    "    \n",
    "    # Evaluate the accuracy of the model\n",
    "    accuracy = accuracy_score(Y_val_fold, Y_val_pred)\n",
    "    scores.append(accuracy)\n",
    "\n",
    "# Step 4: Select the best model and evaluate it on the testing set\n",
    "best_model_index = np.argmax(scores)\n",
    "best_model = clone(model)\n",
    "best_model.fit(X_train, Y_train)\n",
    "Y_test_pred = best_model.predict(X_test)\n",
    "test_accuracy = accuracy_score(Y_test, Y_test_pred)\n",
    "print(\"Test Accuracy:\", test_accuracy)\n"
   ]
  }
 ],
 "metadata": {
  "kernelspec": {
   "display_name": "myenv",
   "language": "python",
   "name": "python3"
  },
  "language_info": {
   "codemirror_mode": {
    "name": "ipython",
    "version": 3
   },
   "file_extension": ".py",
   "mimetype": "text/x-python",
   "name": "python",
   "nbconvert_exporter": "python",
   "pygments_lexer": "ipython3",
   "version": "3.11.8"
  }
 },
 "nbformat": 4,
 "nbformat_minor": 2
}
