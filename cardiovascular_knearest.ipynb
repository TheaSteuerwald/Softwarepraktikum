{
 "cells": [
  {
   "metadata": {
    "ExecuteTime": {
     "end_time": "2024-03-20T10:24:05.397728Z",
     "start_time": "2024-03-20T10:24:05.389029Z"
    }
   },
   "cell_type": "code",
   "source": [
    "from sklearn.model_selection import train_test_split\n",
    "from sklearn.neighbors import KNeighborsClassifier\n",
    "from sklearn.model_selection import cross_val_score\n",
    "from sklearn.preprocessing import StandardScaler\n",
    "import pandas as pd\n",
    "import numpy as np\n",
    "#from imblearn.over_sampling import SMOTE\n"
   ],
   "id": "4253ff29ed626e9a",
   "outputs": [],
   "execution_count": 27
  },
  {
   "metadata": {
    "ExecuteTime": {
     "end_time": "2024-03-20T10:25:24.425212Z",
     "start_time": "2024-03-20T10:24:30.599539Z"
    }
   },
   "cell_type": "code",
   "source": [
    "features_df = pd.read_csv('ctd_cadiovascular_20240223_scores.tsv', sep='\\t')\n",
    "\n",
    "ground_truth_df = pd.read_csv('merged_cardio.tsv', sep='\\t')\n",
    "\n",
    "print(features_df.head())\n",
    "print(ground_truth_df.head())"
   ],
   "id": "c0f8d4a2c13fae41",
   "outputs": [
    {
     "name": "stdout",
     "output_type": "stream",
     "text": [
      "     drugA    drugB     sAB  opAB  meanspAB  medianspAB  minspAB  maxspAB  \\\n",
      "0  DB06709  DB08506  0.3427     0     0.615       0.630     0.46     0.74   \n",
      "1  DB06709  DB02376  0.4188     0     0.685       0.685     0.56     0.81   \n",
      "2  DB06709  DB04282  0.4188     0     0.685       0.685     0.56     0.81   \n",
      "3  DB06709  DB04564  0.4188     0     0.685       0.685     0.56     0.81   \n",
      "4  DB06709  DB04659  0.4188     0     0.685       0.685     0.56     0.81   \n",
      "\n",
      "     zTDA    zTDB  ...  opAD  opBD  meanspAD  meanspBD  medianspAD  \\\n",
      "0  0.5097  1.3545  ...   2.0   0.0    0.5983    0.5773        0.59   \n",
      "1  0.5097 -1.3890  ...   2.0   0.0    0.5983    0.5969        0.59   \n",
      "2  0.5097 -1.3890  ...   2.0   0.0    0.5983    0.5969        0.59   \n",
      "3  0.5097 -1.3890  ...   2.0   0.0    0.5983    0.5969        0.59   \n",
      "4  0.5097 -1.3890  ...   2.0   0.0    0.5983    0.5969        0.59   \n",
      "\n",
      "   medianspBD  minspAD  minspBD  maxspAD  maxspBD  \n",
      "0        0.56      0.0     0.28     1.47     1.30  \n",
      "1        0.58      0.0     0.27     1.47     1.38  \n",
      "2        0.58      0.0     0.27     1.47     1.38  \n",
      "3        0.58      0.0     0.27     1.47     1.38  \n",
      "4        0.58      0.0     0.27     1.47     1.38  \n",
      "\n",
      "[5 rows x 28 columns]\n",
      "     drugA    drugB                drugcomb  adv/app\n",
      "0  DB00310  DB00206  ('DB00206', 'DB00310')        0\n",
      "1  DB01275  DB00206  ('DB00206', 'DB01275')        0\n",
      "2  DB00721  DB00277  ('DB00277', 'DB00721')        0\n",
      "3  DB00001  DB00908  ('DB00001', 'DB00908')        0\n",
      "4  DB00001  DB00806  ('DB00001', 'DB00806')        0\n"
     ]
    }
   ],
   "execution_count": 29
  },
  {
   "metadata": {
    "ExecuteTime": {
     "end_time": "2024-03-20T10:30:56.438353Z",
     "start_time": "2024-03-20T10:30:52.629636Z"
    }
   },
   "cell_type": "code",
   "source": [
    "merged_df = pd.merge(features_df, ground_truth_df, on=['drugA', 'drugB'])\n",
    "merged_df.set_index(['drugA', 'drugB'], inplace=True)\n",
    "\n",
    "X = merged_df.drop(['adv/app','drugcomb','sA','sB','opA','opB'], axis=1)\n",
    "Y = merged_df['adv/app']\n",
    "print(X)\n",
    "print(Y)\n",
    "# Splitting the dataset\n",
    "X_train, X_test, Y_train, Y_test = train_test_split(X, Y, test_size=0.2, random_state=42)\n",
    "\n",
    "# Scaling features\n",
    "scaler = StandardScaler()\n",
    "X_train_scaled = scaler.fit_transform(X_train)\n",
    "X_test_scaled = scaler.transform(X_test)"
   ],
   "id": "eb2054f5f4a4023c",
   "outputs": [
    {
     "name": "stdout",
     "output_type": "stream",
     "text": [
      "                    sAB  opAB  meanspAB  medianspAB  minspAB  maxspAB    zTDA  \\\n",
      "drugA   drugB                                                                   \n",
      "DB00001 DB00908  0.2497     0    0.5420       0.470     0.42     0.86 -1.0162   \n",
      "        DB00721  0.3518     0    0.7025       0.605     0.48     1.12 -1.0162   \n",
      "        DB01109  0.0183     0    0.2867       0.340     0.12     0.40 -1.0162   \n",
      "        DB00606  0.3436     0    0.5617       0.540     0.40     0.78 -1.0162   \n",
      "        DB00482  0.2900     0    0.4883       0.495     0.29     0.67 -1.0162   \n",
      "...                 ...   ...       ...         ...      ...      ...     ...   \n",
      "DB08899 DB08932  0.1233     0    0.3000       0.300     0.28     0.32 -1.2095   \n",
      "DB08905 DB08932  0.3833     0    0.5550       0.555     0.55     0.56  0.2120   \n",
      "DB08918 DB08932  0.1547     0    0.5200       0.520     0.41     0.61 -2.0170   \n",
      "DB08932 DB08953  0.3467     0    0.5200       0.520     0.51     0.53 -0.2648   \n",
      "        DB08954  0.0550     0    0.5012       0.530     0.29     0.64 -0.2648   \n",
      "\n",
      "                   zTDB    zDTA    zDTB  ...  opAD  opBD  meanspAD  meanspBD  \\\n",
      "drugA   drugB                            ...                                   \n",
      "DB00001 DB00908 -0.4720 -2.0566 -3.5177  ...   1.0   4.0    0.4878    0.5951   \n",
      "        DB00721 -0.4096 -2.0566 -0.5984  ...   1.0   1.0    0.4878    0.7135   \n",
      "        DB01109  0.4980 -2.0566 -3.4429  ...   1.0   3.0    0.4878    0.5952   \n",
      "        DB00606 -1.3207 -2.0566 -2.5137  ...   1.0   2.0    0.4878    0.5873   \n",
      "        DB00482 -1.6080 -2.0566 -2.8689  ...   1.0   5.0    0.4878    0.5273   \n",
      "...                 ...     ...     ...  ...   ...   ...       ...       ...   \n",
      "DB08899 DB08932 -0.2648 -1.0359 -3.1263  ...   1.0   2.0    0.3357    0.5083   \n",
      "DB08905 DB08932 -0.2648 -0.0925 -3.1263  ...   0.0   2.0    0.5756    0.5083   \n",
      "DB08918 DB08932 -0.2648 -4.2414 -3.1263  ...   2.0   2.0    0.5238    0.5083   \n",
      "DB08932 DB08953 -0.8935 -3.1263 -2.0031  ...   2.0   1.0    0.5083    0.5342   \n",
      "        DB08954 -2.2836 -3.1263 -2.9446  ...   2.0   3.0    0.5083    0.5210   \n",
      "\n",
      "                 medianspAD  medianspBD  minspAD  minspBD  maxspAD  maxspBD  \n",
      "drugA   drugB                                                                \n",
      "DB00001 DB00908        0.47        0.55     0.00      0.0     1.23     1.69  \n",
      "        DB00721        0.47        0.64     0.00      0.0     1.23     1.69  \n",
      "        DB01109        0.47        0.59     0.00      0.0     1.23     1.45  \n",
      "        DB00606        0.47        0.59     0.00      0.0     1.23     1.53  \n",
      "        DB00482        0.47        0.53     0.00      0.0     1.23     1.46  \n",
      "...                     ...         ...      ...      ...      ...      ...  \n",
      "DB08899 DB08932        0.33        0.50     0.00      0.0     1.03     1.29  \n",
      "DB08905 DB08932        0.56        0.50     0.18      0.0     1.30     1.29  \n",
      "DB08918 DB08932        0.52        0.50     0.00      0.0     1.40     1.29  \n",
      "DB08932 DB08953        0.50        0.52     0.00      0.0     1.29     1.34  \n",
      "        DB08954        0.50        0.52     0.00      0.0     1.29     1.40  \n",
      "\n",
      "[48622 rows x 22 columns]\n",
      "drugA    drugB  \n",
      "DB00001  DB00908    0\n",
      "         DB00721    0\n",
      "         DB01109    0\n",
      "         DB00606    0\n",
      "         DB00482    0\n",
      "                   ..\n",
      "DB08899  DB08932    0\n",
      "DB08905  DB08932    0\n",
      "DB08918  DB08932    0\n",
      "DB08932  DB08953    0\n",
      "         DB08954    0\n",
      "Name: adv/app, Length: 48622, dtype: int64\n"
     ]
    }
   ],
   "execution_count": 30
  },
  {
   "metadata": {
    "ExecuteTime": {
     "end_time": "2024-03-20T10:37:43.697328Z",
     "start_time": "2024-03-20T10:31:01.762279Z"
    }
   },
   "cell_type": "code",
   "source": [
    "\n",
    "\n",
    "# Assuming X_train_scaled and Y_train are your features and labels, respectively, and are already prepared\n",
    "\n",
    "# Range of k values to try\n",
    "k_values = range(1, 31)\n",
    "k_scores = []\n",
    "\n",
    "# Perform cross-validation for each value of k\n",
    "for k in k_values:\n",
    "    knn = KNeighborsClassifier(n_neighbors=k)\n",
    "    # Use cross-validation to evaluate model\n",
    "    scores = cross_val_score(knn, X_train_scaled, Y_train, cv=10, scoring='accuracy')  # cv=10 for 10-fold cross-validation\n",
    "    k_scores.append(scores.mean())\n",
    "\n",
    "# Find the value of k that produces the highest average score\n",
    "best_k = k_values[np.argmax(k_scores)]\n",
    "print(f\"Best k: {best_k} with average score: {max(k_scores)}\")\n",
    "\n",
    "# Optionally, plot the results to see the trend\n",
    "import matplotlib.pyplot as plt\n",
    "\n",
    "plt.figure(figsize=(10, 6))\n",
    "plt.plot(k_values, k_scores, marker='o')\n",
    "plt.xlabel('Value of k for KNN')\n",
    "plt.ylabel('Cross-Validated Accuracy')\n",
    "plt.title('KNN Cross-Validation')\n",
    "plt.show()\n"
   ],
   "id": "78398d10609f03e5",
   "outputs": [
    {
     "name": "stdout",
     "output_type": "stream",
     "text": [
      "Best k: 6 with average score: 0.9977376239489008\n"
     ]
    },
    {
     "data": {
      "text/plain": [
       "<Figure size 1000x600 with 1 Axes>"
      ],
      "image/png": "[encoded data removed]"
     },
     "metadata": {},
     "output_type": "display_data"
    }
   ],
   "execution_count": 31
  },
  {
   "cell_type": "code",
   "id": "initial_id",
   "metadata": {
    "collapsed": true,
    "ExecuteTime": {
     "end_time": "2024-03-20T10:39:22.350055Z",
     "start_time": "2024-03-20T10:39:16.499926Z"
    }
   },
   "source": [
    "# Instantiate KNN\n",
    "knn = KNeighborsClassifier()\n",
    "\n",
    "# Training the KNN model\n",
    "knn.fit(X_train_scaled, Y_train)\n",
    "\n",
    "# Evaluating the KNN model\n",
    "accuracy = knn.score(X_test_scaled, Y_test)\n",
    "print(f\"Accuracy: {accuracy}\")\n",
    "\n",
    "# Predicting with the KNN model\n",
    "predictions = knn.predict(X_test_scaled)\n",
    "\n",
    "# Comparing actual and predicted values\n",
    "comparison = pd.DataFrame({'Actual': Y_test, 'Predicted': predictions})\n",
    "\n",
    "# Filtering for mismatches\n",
    "mask = comparison['Actual'] != comparison['Predicted']\n",
    "differences = comparison[mask]\n",
    "\n",
    "print(differences)\n",
    "print(f\"Number of mismatches: {len(differences)}\")\n",
    "\n",
    "# k=6 accuracy : 0.998560411311054\n",
    "# k=5 accuracy : 0.9989717223650385 (Standard)"
   ],
   "outputs": [
    {
     "name": "stdout",
     "output_type": "stream",
     "text": [
      "Accuracy: 0.9989717223650385\n",
      "                 Actual  Predicted\n",
      "drugA   drugB                     \n",
      "DB02701 DB00443       1          0\n",
      "DB00281 DB00750       1          0\n",
      "        DB00591       1          0\n",
      "DB00201 DB00945       1          0\n",
      "DB00281 DB01718       1          0\n",
      "DB00691 DB00999       1          0\n",
      "DB00264 DB00999       1          0\n",
      "DB00381 DB01076       1          0\n",
      "DB00316 DB00388       1          0\n",
      "DB01086 DB00825       1          0\n",
      "Number of mismatches: 10\n"
     ]
    }
   ],
   "execution_count": 36
  },
  {
   "metadata": {
    "ExecuteTime": {
     "end_time": "2024-03-20T10:39:26.917754Z",
     "start_time": "2024-03-20T10:39:26.888143Z"
    }
   },
   "cell_type": "code",
   "source": [
    "from sklearn.metrics import classification_report\n",
    "\n",
    "# Annahme: Sie haben Ihr Modell bereits trainiert und Vorhersagen generiert\n",
    "# predictions = knn.predict(X_test_scaled)\n",
    "# Y_test enthält die tatsächlichen Klassenlabels\n",
    "\n",
    "# Berechnung und Ausgabe von F1-Score, Präzision und Rückruf für jede Klasse\n",
    "report = classification_report(Y_test, predictions)\n",
    "print(report)"
   ],
   "id": "2ad12bc8cfe1bb4e",
   "outputs": [
    {
     "name": "stdout",
     "output_type": "stream",
     "text": [
      "              precision    recall  f1-score   support\n",
      "\n",
      "           0       1.00      1.00      1.00      9711\n",
      "           1       1.00      0.29      0.44        14\n",
      "\n",
      "    accuracy                           1.00      9725\n",
      "   macro avg       1.00      0.64      0.72      9725\n",
      "weighted avg       1.00      1.00      1.00      9725\n",
      "\n"
     ]
    }
   ],
   "execution_count": 37
  },
  {
   "metadata": {},
   "cell_type": "code",
   "outputs": [],
   "execution_count": null,
   "source": "",
   "id": "b9a796fa22d46e25"
  }
 ],
 "metadata": {
  "kernelspec": {
   "display_name": "Python 3",
   "language": "python",
   "name": "python3"
  },
  "language_info": {
   "codemirror_mode": {
    "name": "ipython",
    "version": 2
   },
   "file_extension": ".py",
   "mimetype": "text/x-python",
   "name": "python",
   "nbconvert_exporter": "python",
   "pygments_lexer": "ipython2",
   "version": "2.7.6"
  }
 },
 "nbformat": 4,
 "nbformat_minor": 5
}
