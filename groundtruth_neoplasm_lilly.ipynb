{
 "cells": [
  {
   "cell_type": "markdown",
   "source": [],
   "metadata": {
    "collapsed": false
   },
   "id": "bd57fb006075ab47"
  },
  {
   "cell_type": "code",
   "id": "initial_id",
   "metadata": {
    "collapsed": true,
    "jupyter": {
     "outputs_hidden": true
    },
    "ExecuteTime": {
     "end_time": "2024-03-18T14:06:10.960667Z",
     "start_time": "2024-03-18T14:06:09.201459Z"
    }
   },
   "source": [
    "#Thea Steuerwald, Gesa Röefzaad, Sofya Shorzhina, Lilly Wiesmann\n",
    "\n",
    "import numpy as np\n",
    "import pandas as pd\n",
    "import matplotlib.pyplot as plt\n",
    "from pandas.core.interchange import column"
   ],
   "outputs": [],
   "execution_count": 2
  },
  {
   "cell_type": "code",
   "id": "4d108eacb17deb7",
   "metadata": {
    "collapsed": false,
    "ExecuteTime": {
     "end_time": "2024-03-18T09:57:56.930132Z",
     "start_time": "2024-03-18T09:57:56.830537Z"
    }
   },
   "source": [
    "file_mixed=\"ground truth/20240124_drugbank_v5.1.11_full_database_drug_combis_mixture_hypertension_drugbank-id.tsv\" \n",
    "file_ddi=\"ground truth/20240124_drugbank_v5.1.11_full_database_drug_combis_ddi_hypertension_drugbank-id.tsv\"\n",
    "\n",
    "df_mixed=pd.read_csv(file_mixed,sep='\\t')\n",
    "df_ddi=pd.read_csv(file_ddi,sep='\\t')"
   ],
   "outputs": [],
   "execution_count": 10
  },
  {
   "cell_type": "markdown",
   "source": [
    "add new column to see which combination adverse or approved is\n",
    "DDI's = adverse (1)  and mixed = approved (0)"
   ],
   "metadata": {
    "collapsed": false
   },
   "id": "563823011d8f7944"
  },
  {
   "cell_type": "code",
   "source": [
    "df_mixed['adv/app']=0\n",
    "df_ddi['adv/app']= 1\n",
    "\n",
    "\n",
    "df_mixed.to_csv('mixed_column.tsv',sep='\\t',index=False)\n",
    "df_ddi.to_csv('ddi_column.tsv',sep='\\t',index=False)\n",
    "\n",
    "mixed=pd.read_csv('mixed_column.tsv',sep='\\t')\n",
    "ddi=pd.read_csv('ddi_column.tsv',sep='\\t')\n",
    "\n"
   ],
   "metadata": {
    "collapsed": false,
    "ExecuteTime": {
     "end_time": "2024-03-18T09:57:57.211345Z",
     "start_time": "2024-03-18T09:57:56.935143Z"
    }
   },
   "id": "ed475627d731093b",
   "outputs": [],
   "execution_count": 11
  },
  {
   "cell_type": "markdown",
   "source": [
    "merge df"
   ],
   "metadata": {
    "collapsed": false
   },
   "id": "a5bd45bcb12ca4ae"
  },
  {
   "cell_type": "code",
   "source": [
    "merged_df=pd.concat([mixed,ddi],ignore_index=True)\n",
    "#combined_df = merged_dfNeoplasms.drop_duplicates()\n",
    "merged_df.to_csv('merged_hyper.tsv',sep='\\t',index=False)\n",
    "print(merged_df)"
   ],
   "metadata": {
    "collapsed": false,
    "ExecuteTime": {
     "end_time": "2024-03-18T09:59:03.746031Z",
     "start_time": "2024-03-18T09:59:03.613016Z"
    }
   },
   "id": "cdb9899c6b1366dd",
   "outputs": [
    {
     "name": "stdout",
     "output_type": "stream",
     "text": [
      "         drugA    drugB  drugA_for_disease  drugB_for_disease  \\\n",
      "0      DB00232  DB01089              False               True   \n",
      "1      DB00310  DB00575              False               True   \n",
      "2      DB00350  DB00396               True              False   \n",
      "3      DB00350  DB01216               True              False   \n",
      "4      DB00350  DB00443               True              False   \n",
      "...        ...      ...                ...                ...   \n",
      "37029  DB13779  DB15456               True              False   \n",
      "37030  DB13779  DB14185               True              False   \n",
      "37031  DB13779  DB15861               True              False   \n",
      "37032  DB13779  DB16629               True              False   \n",
      "37033  DB13779  DB15226               True              False   \n",
      "\n",
      "                     drugcomb  adv/app  \n",
      "0      ('DB00232', 'DB01089')        0  \n",
      "1      ('DB00310', 'DB00575')        0  \n",
      "2      ('DB00350', 'DB00396')        0  \n",
      "3      ('DB00350', 'DB01216')        0  \n",
      "4      ('DB00350', 'DB00443')        0  \n",
      "...                       ...      ...  \n",
      "37029  ('DB13779', 'DB15456')        1  \n",
      "37030  ('DB13779', 'DB14185')        1  \n",
      "37031  ('DB13779', 'DB15861')        1  \n",
      "37032  ('DB13779', 'DB16629')        1  \n",
      "37033  ('DB13779', 'DB15226')        1  \n",
      "\n",
      "[37034 rows x 6 columns]\n"
     ]
    }
   ],
   "execution_count": 14
  },
  {
   "cell_type": "markdown",
   "source": [],
   "metadata": {
    "collapsed": false
   },
   "id": "46b4f07d265833fb"
  },
  {
   "cell_type": "code",
   "source": [
    "compareMerged=pd.merge(df_mixed,df_ddi,how='inner',on=\"drugcomb\")\n",
    "print(compareMerged)\n",
    "\n",
    "compareMerged=merged_df.drop_duplicates(keep='last',subset=\"drugcomb\")\n",
    "compareMerged.to_csv(\"merged_Hypertension.tsv\", sep='\\t', index=False)\n",
    "print(compareMerged)\n",
    "#identical_columns=set(df_mixedNeoplasms).intersection(set(df_ddiNeoplasms))\n",
    "#print(\"identical_columns:\")\n",
    "#for column in identical_columns:\n",
    "#    print(column)\n",
    "    \n"
   ],
   "metadata": {
    "collapsed": false,
    "ExecuteTime": {
     "end_time": "2024-03-18T09:59:21.419082Z",
     "start_time": "2024-03-18T09:59:21.223488Z"
    }
   },
   "id": "6ccb124ba5b74eb",
   "outputs": [
    {
     "name": "stdout",
     "output_type": "stream",
     "text": [
      "   drugA_x  drugB_x  drugA_for_disease_x  drugB_for_disease_x  \\\n",
      "0  DB00350  DB01216                 True                False   \n",
      "1  DB00350  DB00755                 True                False   \n",
      "\n",
      "                 drugcomb  adv/app_x  drugA_y  drugB_y  drugA_for_disease_y  \\\n",
      "0  ('DB00350', 'DB01216')          0  DB00350  DB01216                 True   \n",
      "1  ('DB00350', 'DB00755')          0  DB00350  DB00755                 True   \n",
      "\n",
      "   drugB_for_disease_y  adv/app_y  \n",
      "0                False          1  \n",
      "1                False          1  \n",
      "         drugA    drugB  drugA_for_disease  drugB_for_disease  \\\n",
      "0      DB00232  DB01089              False               True   \n",
      "1      DB00310  DB00575              False               True   \n",
      "2      DB00350  DB00396               True              False   \n",
      "4      DB00350  DB00443               True              False   \n",
      "6      DB00350  DB00158               True              False   \n",
      "...        ...      ...                ...                ...   \n",
      "37029  DB13779  DB15456               True              False   \n",
      "37030  DB13779  DB14185               True              False   \n",
      "37031  DB13779  DB15861               True              False   \n",
      "37032  DB13779  DB16629               True              False   \n",
      "37033  DB13779  DB15226               True              False   \n",
      "\n",
      "                     drugcomb  adv/app  \n",
      "0      ('DB00232', 'DB01089')        0  \n",
      "1      ('DB00310', 'DB00575')        0  \n",
      "2      ('DB00350', 'DB00396')        0  \n",
      "4      ('DB00350', 'DB00443')        0  \n",
      "6      ('DB00158', 'DB00350')        0  \n",
      "...                       ...      ...  \n",
      "37029  ('DB13779', 'DB15456')        1  \n",
      "37030  ('DB13779', 'DB14185')        1  \n",
      "37031  ('DB13779', 'DB15861')        1  \n",
      "37032  ('DB13779', 'DB16629')        1  \n",
      "37033  ('DB13779', 'DB15226')        1  \n",
      "\n",
      "[37032 rows x 6 columns]\n"
     ]
    }
   ],
   "execution_count": 15
  },
  {
   "cell_type": "code",
   "source": [
    "df_subset = pd.read_csv('ctd_cadiovascular_20240223_scores.tsv', sep='\\t', nrows=20)\n",
    "\n",
    "df_subset.to_csv('erste_20_zeilen.tsv', sep='\\t', index=False)\n"
   ],
   "metadata": {
    "collapsed": false,
    "ExecuteTime": {
     "end_time": "2024-03-18T14:06:16.033824Z",
     "start_time": "2024-03-18T14:06:16.011348Z"
    }
   },
   "id": "f553c609e11ee9c3",
   "outputs": [],
   "execution_count": 3
  },
  {
   "metadata": {},
   "cell_type": "code",
   "outputs": [],
   "execution_count": null,
   "source": "",
   "id": "36c1fdea8a159a68"
  }
 ],
 "metadata": {
  "kernelspec": {
   "display_name": "Python 3 (ipykernel)",
   "language": "python",
   "name": "python3"
  },
  "language_info": {
   "codemirror_mode": {
    "name": "ipython",
    "version": 3
   },
   "file_extension": ".py",
   "mimetype": "text/x-python",
   "name": "python",
   "nbconvert_exporter": "python",
   "pygments_lexer": "ipython3",
   "version": "3.11.8"
  }
 },
 "nbformat": 4,
 "nbformat_minor": 5
}
