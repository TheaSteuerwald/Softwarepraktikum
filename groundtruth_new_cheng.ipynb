{
 "cells": [
  {
   "cell_type": "markdown",
   "source": [],
   "metadata": {
    "collapsed": false
   },
   "id": "bd57fb006075ab47"
  },
  {
   "cell_type": "code",
   "execution_count": 1,
   "id": "initial_id",
   "metadata": {
    "collapsed": true,
    "jupyter": {
     "outputs_hidden": true
    },
    "ExecuteTime": {
     "end_time": "2024-03-18T08:16:50.644419Z",
     "start_time": "2024-03-18T08:16:50.639253Z"
    }
   },
   "outputs": [],
   "source": [
    "#Thea Steuerwald, Gesa Röefzaad, Sofya Shorzhina, Lilly Wiesmann\n",
    "\n",
    "import numpy as np\n",
    "import pandas as pd\n",
    "import matplotlib.pyplot as plt\n",
    "from pandas.core.interchange import column"
   ]
  },
  {
   "cell_type": "code",
   "execution_count": 2,
   "id": "4d108eacb17deb7",
   "metadata": {
    "collapsed": false,
    "ExecuteTime": {
     "end_time": "2024-03-18T08:16:50.878109Z",
     "start_time": "2024-03-18T08:16:50.695921Z"
    }
   },
   "outputs": [],
   "source": [
    "file_adv=\"cheng_2019_suppl_data_4_advrs_all_drug_combs_cardiovascular_drugbank-id.tsv\"\n",
    "file_appr=\"cheng_2019_suppl_data_3_apprv_all_drug_combs_cardiovascular_drugbank-id.tsv\"\n",
    "file_old=\"merged_cardio.tsv\"\n",
    "\n",
    "df_adv=pd.read_csv(file_adv,sep='\\t')\n",
    "df_appr=pd.read_csv(file_appr,sep='\\t')\n",
    "df_old=pd.read_csv(file_old,sep='\\t')"
   ]
  },
  {
   "cell_type": "markdown",
   "source": [
    "add new column to see which combination adverse or approved is\n",
    "DDI's = adverse (1)  and mixed = approved (0)"
   ],
   "metadata": {
    "collapsed": false
   },
   "id": "563823011d8f7944"
  },
  {
   "cell_type": "code",
   "outputs": [],
   "source": [
    "df_appr['adv/app']=0\n",
    "df_adv['adv/app']= 1"
   ],
   "metadata": {
    "collapsed": false,
    "ExecuteTime": {
     "end_time": "2024-03-18T08:16:51.632872Z",
     "start_time": "2024-03-18T08:16:50.880278Z"
    }
   },
   "id": "ed475627d731093b",
   "execution_count": 3
  },
  {
   "cell_type": "markdown",
   "source": [
    "merge df"
   ],
   "metadata": {
    "collapsed": false
   },
   "id": "a5bd45bcb12ca4ae"
  },
  {
   "cell_type": "code",
   "outputs": [],
   "source": [
    "merged_df=pd.concat([df_adv,df_appr,df_old],ignore_index=True)"
   ],
   "metadata": {
    "collapsed": false,
    "ExecuteTime": {
     "end_time": "2024-03-18T08:42:06.193296Z",
     "start_time": "2024-03-18T08:42:05.733249Z"
    }
   },
   "id": "cdb9899c6b1366dd",
   "execution_count": 4
  },
  {
   "cell_type": "markdown",
   "source": [],
   "metadata": {
    "collapsed": false
   },
   "id": "46b4f07d265833fb"
  },
  {
   "cell_type": "code",
   "outputs": [],
   "source": [
    "compareMerged=merged_df.drop_duplicates(keep='last',subset=\"drugcomb\")\n",
    "compareMerged=compareMerged.drop(['drugA_for_disease','drugB_for_disease'], axis=1)\n",
    "compareMerged.to_csv(\"merged_cardio_1.tsv\", sep='\\t', index=False)"
   ],
   "metadata": {
    "collapsed": false,
    "ExecuteTime": {
     "end_time": "2024-03-18T08:48:39.739577Z",
     "start_time": "2024-03-18T08:48:39.213694Z"
    }
   },
   "id": "6ccb124ba5b74eb",
   "execution_count": 9
  },
  {
   "cell_type": "code",
   "outputs": [
    {
     "name": "stdout",
     "output_type": "stream",
     "text": [
      "Anzahl der Zeilen (old): 290141\n",
      "Anzahl der Zeilen (new): 290503\n"
     ]
    }
   ],
   "source": [
    "\n",
    "print(\"Anzahl der Zeilen (old):\", df_old.shape[0])\n",
    "print(\"Anzahl der Zeilen (new):\", compareMerged.shape[0])\n"
   ],
   "metadata": {
    "collapsed": false,
    "ExecuteTime": {
     "end_time": "2024-03-18T08:16:52.242842Z",
     "start_time": "2024-03-18T08:16:52.238581Z"
    }
   },
   "id": "f553c609e11ee9c3",
   "execution_count": 10
  }
 ],
 "metadata": {
  "kernelspec": {
   "display_name": "Python 3 (ipykernel)",
   "language": "python",
   "name": "python3"
  },
  "language_info": {
   "codemirror_mode": {
    "name": "ipython",
    "version": 3
   },
   "file_extension": ".py",
   "mimetype": "text/x-python",
   "name": "python",
   "nbconvert_exporter": "python",
   "pygments_lexer": "ipython3",
   "version": "3.11.8"
  }
 },
 "nbformat": 4,
 "nbformat_minor": 5
}
