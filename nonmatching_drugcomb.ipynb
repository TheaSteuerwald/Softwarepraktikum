{
 "cells": [
  {
   "cell_type": "code",
   "id": "initial_id",
   "metadata": {
    "collapsed": true,
    "ExecuteTime": {
     "end_time": "2024-03-25T12:38:42.478651Z",
     "start_time": "2024-03-25T12:38:40.513193Z"
    }
   },
   "source": "import pandas as pd ",
   "outputs": [],
   "execution_count": 1
  },
  {
   "metadata": {
    "ExecuteTime": {
     "end_time": "2024-03-25T12:39:29.137836Z",
     "start_time": "2024-03-25T12:38:45.046340Z"
    }
   },
   "cell_type": "code",
   "source": [
    "features_df = pd.read_csv('ctd_cadiovascular_20240223_scores.tsv', sep='\\t')\n",
    "ground_truth_df = pd.read_csv('merged_cardio.tsv', sep='\\t')\n",
    "\n",
    "print(features_df)\n",
    "print(ground_truth_df)"
   ],
   "id": "150905b3c7e8fe52",
   "outputs": [
    {
     "name": "stdout",
     "output_type": "stream",
     "text": [
      "           drugA    drugB     sAB  opAB  meanspAB  medianspAB  minspAB  \\\n",
      "0        DB06709  DB08506  0.3427     0    0.6150       0.630     0.46   \n",
      "1        DB06709  DB02376  0.4188     0    0.6850       0.685     0.56   \n",
      "2        DB06709  DB04282  0.4188     0    0.6850       0.685     0.56   \n",
      "3        DB06709  DB04564  0.4188     0    0.6850       0.685     0.56   \n",
      "4        DB06709  DB04659  0.4188     0    0.6850       0.685     0.56   \n",
      "...          ...      ...     ...   ...       ...         ...      ...   \n",
      "9730661  DB08873  DB07191  0.1295     0    0.6093       0.625     0.44   \n",
      "9730662  DB08873  DB08846  0.1319     0    0.4865       0.460     0.20   \n",
      "9730663  DB08873  DB08865  0.1585     0    0.4858       0.480     0.26   \n",
      "9730664  DB08873  DB05891  0.1004     0    0.8725       0.870     0.65   \n",
      "9730665  DB08873  DB05508  0.2084     0    0.5350       0.530     0.41   \n",
      "\n",
      "         maxspAB    zTDA    zTDB  ...  opAD  opBD  meanspAD  meanspBD  \\\n",
      "0           0.74  0.5097  1.3545  ...   2.0   0.0    0.5983    0.5773   \n",
      "1           0.81  0.5097 -1.3890  ...   2.0   0.0    0.5983    0.5969   \n",
      "2           0.81  0.5097 -1.3890  ...   2.0   0.0    0.5983    0.5969   \n",
      "3           0.81  0.5097 -1.3890  ...   2.0   0.0    0.5983    0.5969   \n",
      "4           0.81  0.5097 -1.3890  ...   2.0   0.0    0.5983    0.5969   \n",
      "...          ...     ...     ...  ...   ...   ...       ...       ...   \n",
      "9730661     0.86  1.6600  0.3209  ...   2.0   4.0    0.5511    0.5643   \n",
      "9730662     0.93  1.6600 -3.7289  ...   2.0  13.0    0.5511    0.4554   \n",
      "9730663     0.97  1.6600 -2.7959  ...   2.0  26.0    0.5511    0.4512   \n",
      "9730664     1.19  1.6600  0.6265  ...   2.0   3.0    0.5511    0.8358   \n",
      "9730665     0.70  1.6600 -0.8874  ...   2.0   3.0    0.5511    0.4836   \n",
      "\n",
      "         medianspAD  medianspBD  minspAD  minspBD  maxspAD  maxspBD  \n",
      "0              0.59        0.56      0.0     0.28     1.47     1.30  \n",
      "1              0.59        0.58      0.0     0.27     1.47     1.38  \n",
      "2              0.59        0.58      0.0     0.27     1.47     1.38  \n",
      "3              0.59        0.58      0.0     0.27     1.47     1.38  \n",
      "4              0.59        0.58      0.0     0.27     1.47     1.38  \n",
      "...             ...         ...      ...      ...      ...      ...  \n",
      "9730661        0.54        0.55      0.0     0.00     1.42     1.45  \n",
      "9730662        0.54        0.44      0.0     0.00     1.42     1.62  \n",
      "9730663        0.54        0.44      0.0     0.00     1.42     1.58  \n",
      "9730664        0.54        0.83      0.0     0.00     1.42     1.78  \n",
      "9730665        0.54        0.47      0.0     0.00     1.42     1.27  \n",
      "\n",
      "[9730666 rows x 28 columns]\n",
      "          drugA    drugB                drugcomb  adv/app\n",
      "0       DB01098  DB00677  ('DB00677', 'DB01098')        1\n",
      "1       DB01098  DB03880  ('DB01098', 'DB03880')        1\n",
      "2       DB01126  DB00872  ('DB00872', 'DB01126')        1\n",
      "3       DB01194  DB00872  ('DB00872', 'DB01194')        1\n",
      "4       DB01339  DB01427  ('DB01339', 'DB01427')        1\n",
      "...         ...      ...                     ...      ...\n",
      "290498  DB14123  DB14533  ('DB14123', 'DB14533')        1\n",
      "290499  DB14336  DB00640  ('DB00640', 'DB14336')        1\n",
      "290500  DB14500  DB00898  ('DB00898', 'DB14500')        1\n",
      "290501  DB14533  DB00825  ('DB00825', 'DB14533')        1\n",
      "290502  DB14533  DB00645  ('DB00645', 'DB14533')        1\n",
      "\n",
      "[290503 rows x 4 columns]\n"
     ]
    }
   ],
   "execution_count": 2
  },
  {
   "metadata": {
    "ExecuteTime": {
     "end_time": "2024-03-25T12:40:02.923643Z",
     "start_time": "2024-03-25T12:39:53.781181Z"
    }
   },
   "cell_type": "code",
   "source": [
    "merged_copy = pd.merge(ground_truth_df, features_df, on=['drugA', 'drugB'], how='left', indicator=True)\n",
    "\n",
    "# Filtere die Zeilen, die keine Übereinstimmungen haben\n",
    "non_matching_df = merged_copy[merged_copy['_merge'] == 'left_only']\n",
    "\n",
    "# Entferne die Hilfsspalte '_merge', falls nötig\n",
    "non_matching_df = non_matching_df.drop(columns=['_merge'])\n",
    "print(non_matching_df)\n",
    "\n",
    "# Reduziere den DataFrame auf die gewünschten Spalten\n",
    "non_matching_reduced_df = non_matching_df['drugcomb']\n",
    "\n",
    "# Speichere den reduzierten DataFrame als TSV-Datei\n",
    "non_matching_reduced_df.to_csv('nonmatching_drugcomb_cardio_ctd.tsv', sep='\\t', index=False)"
   ],
   "id": "5d20fd671d4cc8c9",
   "outputs": [
    {
     "name": "stdout",
     "output_type": "stream",
     "text": [
      "          drugA    drugB                drugcomb  adv/app  sAB  opAB  \\\n",
      "0       DB01098  DB00677  ('DB00677', 'DB01098')        1  NaN   NaN   \n",
      "2       DB01126  DB00872  ('DB00872', 'DB01126')        1  NaN   NaN   \n",
      "3       DB01194  DB00872  ('DB00872', 'DB01194')        1  NaN   NaN   \n",
      "4       DB01339  DB01427  ('DB01339', 'DB01427')        1  NaN   NaN   \n",
      "7       DB00690  DB00559  ('DB00559', 'DB00690')        1  NaN   NaN   \n",
      "...         ...      ...                     ...      ...  ...   ...   \n",
      "290498  DB14123  DB14533  ('DB14123', 'DB14533')        1  NaN   NaN   \n",
      "290499  DB14336  DB00640  ('DB00640', 'DB14336')        1  NaN   NaN   \n",
      "290500  DB14500  DB00898  ('DB00898', 'DB14500')        1  NaN   NaN   \n",
      "290501  DB14533  DB00825  ('DB00825', 'DB14533')        1  NaN   NaN   \n",
      "290502  DB14533  DB00645  ('DB00645', 'DB14533')        1  NaN   NaN   \n",
      "\n",
      "        meanspAB  medianspAB  minspAB  maxspAB  ...  opAD  opBD  meanspAD  \\\n",
      "0            NaN         NaN      NaN      NaN  ...   NaN   NaN       NaN   \n",
      "2            NaN         NaN      NaN      NaN  ...   NaN   NaN       NaN   \n",
      "3            NaN         NaN      NaN      NaN  ...   NaN   NaN       NaN   \n",
      "4            NaN         NaN      NaN      NaN  ...   NaN   NaN       NaN   \n",
      "7            NaN         NaN      NaN      NaN  ...   NaN   NaN       NaN   \n",
      "...          ...         ...      ...      ...  ...   ...   ...       ...   \n",
      "290498       NaN         NaN      NaN      NaN  ...   NaN   NaN       NaN   \n",
      "290499       NaN         NaN      NaN      NaN  ...   NaN   NaN       NaN   \n",
      "290500       NaN         NaN      NaN      NaN  ...   NaN   NaN       NaN   \n",
      "290501       NaN         NaN      NaN      NaN  ...   NaN   NaN       NaN   \n",
      "290502       NaN         NaN      NaN      NaN  ...   NaN   NaN       NaN   \n",
      "\n",
      "        meanspBD  medianspAD  medianspBD  minspAD  minspBD  maxspAD  maxspBD  \n",
      "0            NaN         NaN         NaN      NaN      NaN      NaN      NaN  \n",
      "2            NaN         NaN         NaN      NaN      NaN      NaN      NaN  \n",
      "3            NaN         NaN         NaN      NaN      NaN      NaN      NaN  \n",
      "4            NaN         NaN         NaN      NaN      NaN      NaN      NaN  \n",
      "7            NaN         NaN         NaN      NaN      NaN      NaN      NaN  \n",
      "...          ...         ...         ...      ...      ...      ...      ...  \n",
      "290498       NaN         NaN         NaN      NaN      NaN      NaN      NaN  \n",
      "290499       NaN         NaN         NaN      NaN      NaN      NaN      NaN  \n",
      "290500       NaN         NaN         NaN      NaN      NaN      NaN      NaN  \n",
      "290501       NaN         NaN         NaN      NaN      NaN      NaN      NaN  \n",
      "290502       NaN         NaN         NaN      NaN      NaN      NaN      NaN  \n",
      "\n",
      "[241703 rows x 30 columns]\n"
     ]
    }
   ],
   "execution_count": 3
  }
 ],
 "metadata": {
  "kernelspec": {
   "display_name": "Python 3",
   "language": "python",
   "name": "python3"
  },
  "language_info": {
   "codemirror_mode": {
    "name": "ipython",
    "version": 2
   },
   "file_extension": ".py",
   "mimetype": "text/x-python",
   "name": "python",
   "nbconvert_exporter": "python",
   "pygments_lexer": "ipython2",
   "version": "2.7.6"
  }
 },
 "nbformat": 4,
 "nbformat_minor": 5
}
