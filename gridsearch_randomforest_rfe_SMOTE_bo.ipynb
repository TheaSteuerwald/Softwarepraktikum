{
 "cells": [
  {
   "cell_type": "code",
   "id": "initial_id",
   "metadata": {
    "collapsed": true,
    "ExecuteTime": {
     "end_time": "2024-03-26T10:51:46.859217Z",
     "start_time": "2024-03-26T10:51:39.677514Z"
    }
   },
   "source": [
    "from sklearn.model_selection import train_test_split\n",
    "from sklearn.model_selection import GridSearchCV\n",
    "from sklearn.ensemble import RandomForestClassifier\n",
    "from sklearn.tree import DecisionTreeClassifier\n",
    "\n",
    "from sklearn.metrics import accuracy_score, precision_score, recall_score, f1_score, matthews_corrcoef, make_scorer\n",
    "import pandas as pd\n",
    "from skopt import BayesSearchCV\n",
    "from imblearn.over_sampling import SMOTE\n",
    "from sklearn.feature_selection import RFE"
   ],
   "outputs": [],
   "execution_count": 1
  },
  {
   "metadata": {
    "ExecuteTime": {
     "end_time": "2024-03-26T10:53:00.339392Z",
     "start_time": "2024-03-26T10:51:55.379234Z"
    }
   },
   "cell_type": "code",
   "source": [
    "features_df = pd.read_csv('ctd_cadiovascular_20240223_scores.tsv', sep='\\t')\n",
    "ground_truth_df = pd.read_csv('features/merged_cardio.tsv', sep='\\t')\n",
    "\n",
    "print(features_df)\n",
    "print(ground_truth_df)"
   ],
   "id": "5d5eb54b75d0894a",
   "outputs": [
    {
     "name": "stdout",
     "output_type": "stream",
     "text": [
      "           drugA    drugB     sAB  opAB  meanspAB  medianspAB  minspAB  \\\n",
      "0        DB06709  DB08506  0.3427     0    0.6150       0.630     0.46   \n",
      "1        DB06709  DB02376  0.4188     0    0.6850       0.685     0.56   \n",
      "2        DB06709  DB04282  0.4188     0    0.6850       0.685     0.56   \n",
      "3        DB06709  DB04564  0.4188     0    0.6850       0.685     0.56   \n",
      "4        DB06709  DB04659  0.4188     0    0.6850       0.685     0.56   \n",
      "...          ...      ...     ...   ...       ...         ...      ...   \n",
      "9730661  DB08873  DB07191  0.1295     0    0.6093       0.625     0.44   \n",
      "9730662  DB08873  DB08846  0.1319     0    0.4865       0.460     0.20   \n",
      "9730663  DB08873  DB08865  0.1585     0    0.4858       0.480     0.26   \n",
      "9730664  DB08873  DB05891  0.1004     0    0.8725       0.870     0.65   \n",
      "9730665  DB08873  DB05508  0.2084     0    0.5350       0.530     0.41   \n",
      "\n",
      "         maxspAB    zTDA    zTDB  ...  opAD  opBD  meanspAD  meanspBD  \\\n",
      "0           0.74  0.5097  1.3545  ...   2.0   0.0    0.5983    0.5773   \n",
      "1           0.81  0.5097 -1.3890  ...   2.0   0.0    0.5983    0.5969   \n",
      "2           0.81  0.5097 -1.3890  ...   2.0   0.0    0.5983    0.5969   \n",
      "3           0.81  0.5097 -1.3890  ...   2.0   0.0    0.5983    0.5969   \n",
      "4           0.81  0.5097 -1.3890  ...   2.0   0.0    0.5983    0.5969   \n",
      "...          ...     ...     ...  ...   ...   ...       ...       ...   \n",
      "9730661     0.86  1.6600  0.3209  ...   2.0   4.0    0.5511    0.5643   \n",
      "9730662     0.93  1.6600 -3.7289  ...   2.0  13.0    0.5511    0.4554   \n",
      "9730663     0.97  1.6600 -2.7959  ...   2.0  26.0    0.5511    0.4512   \n",
      "9730664     1.19  1.6600  0.6265  ...   2.0   3.0    0.5511    0.8358   \n",
      "9730665     0.70  1.6600 -0.8874  ...   2.0   3.0    0.5511    0.4836   \n",
      "\n",
      "         medianspAD  medianspBD  minspAD  minspBD  maxspAD  maxspBD  \n",
      "0              0.59        0.56      0.0     0.28     1.47     1.30  \n",
      "1              0.59        0.58      0.0     0.27     1.47     1.38  \n",
      "2              0.59        0.58      0.0     0.27     1.47     1.38  \n",
      "3              0.59        0.58      0.0     0.27     1.47     1.38  \n",
      "4              0.59        0.58      0.0     0.27     1.47     1.38  \n",
      "...             ...         ...      ...      ...      ...      ...  \n",
      "9730661        0.54        0.55      0.0     0.00     1.42     1.45  \n",
      "9730662        0.54        0.44      0.0     0.00     1.42     1.62  \n",
      "9730663        0.54        0.44      0.0     0.00     1.42     1.58  \n",
      "9730664        0.54        0.83      0.0     0.00     1.42     1.78  \n",
      "9730665        0.54        0.47      0.0     0.00     1.42     1.27  \n",
      "\n",
      "[9730666 rows x 28 columns]\n",
      "          drugA    drugB                drugcomb  adv/app\n",
      "0       DB01098  DB00677  ('DB00677', 'DB01098')        1\n",
      "1       DB01098  DB03880  ('DB01098', 'DB03880')        1\n",
      "2       DB01126  DB00872  ('DB00872', 'DB01126')        1\n",
      "3       DB01194  DB00872  ('DB00872', 'DB01194')        1\n",
      "4       DB01339  DB01427  ('DB01339', 'DB01427')        1\n",
      "...         ...      ...                     ...      ...\n",
      "290498  DB14123  DB14533  ('DB14123', 'DB14533')        1\n",
      "290499  DB14336  DB00640  ('DB00640', 'DB14336')        1\n",
      "290500  DB14500  DB00898  ('DB00898', 'DB14500')        1\n",
      "290501  DB14533  DB00825  ('DB00825', 'DB14533')        1\n",
      "290502  DB14533  DB00645  ('DB00645', 'DB14533')        1\n",
      "\n",
      "[290503 rows x 4 columns]\n"
     ]
    }
   ],
   "execution_count": 2
  },
  {
   "metadata": {
    "ExecuteTime": {
     "end_time": "2024-03-26T10:54:54.431947Z",
     "start_time": "2024-03-26T10:54:50.317499Z"
    }
   },
   "cell_type": "code",
   "source": [
    "merged_df = pd.merge(features_df, ground_truth_df, on=['drugA', 'drugB'])\n",
    "\n",
    "merged_df.set_index(['drugA', 'drugB'], inplace=True)\n",
    "\n",
    "X = merged_df.drop(['adv/app','drugcomb','sA','sB','opA','opB'], axis=1)                     \n",
    "Y = merged_df['adv/app']\n"
   ],
   "id": "5a1a1218eacffa39",
   "outputs": [],
   "execution_count": 3
  },
  {
   "metadata": {
    "ExecuteTime": {
     "end_time": "2024-03-25T15:56:52.101941Z",
     "start_time": "2024-03-25T15:56:52.093941Z"
    }
   },
   "cell_type": "code",
   "source": [
    "#run this: oversampled\n",
    "#from imblearn.over_sampling import SMOTE\n",
    "#from sklearn.model_selection import train_test_split\n",
    "\n",
    "#X_train, X_test, y_train, y_test = train_test_split(X, Y, test_size=0.2, random_state=42)\n",
    "\n",
    "#sm = SMOTE(random_state=42)\n",
    "\n",
    "#X_train_res, y_train_res = sm.fit_resample(X_train, y_train)"
   ],
   "id": "49f8b9d0b1f7adb5",
   "outputs": [],
   "execution_count": 6
  },
  {
   "metadata": {
    "ExecuteTime": {
     "end_time": "2024-03-26T10:54:55.578584Z",
     "start_time": "2024-03-26T10:54:55.531543Z"
    }
   },
   "cell_type": "code",
   "source": [
    "#run this: normal \n",
    "X_train, X_test, Y_train, Y_test = train_test_split(X, Y, stratify=Y, test_size=0.2,random_state=42)"
   ],
   "id": "988fcec8267594ee",
   "outputs": [],
   "execution_count": 4
  },
  {
   "cell_type": "code",
   "source": [
    "# Step 1: Define the search space for Bayesian Optimization\n",
    "search_spaces = {\n",
    "    'max_depth': (1, 20),\n",
    "    'min_samples_leaf': (1, 20),\n",
    "    'min_samples_split': (2, 20),\n",
    "    'class_weight': ['balanced', None]\n",
    "}\n",
    "\n",
    "# Step 2: Define a custom scorer for accuracy to use with BayesSearchCV\n",
    "accuracy_scorer = make_scorer(accuracy_score)\n",
    "\n",
    "# Step 3: Instantiate SMOTETomek\n",
    "optimizer = SMOTE(random_state=42)\n",
    "\n",
    "# Step 4: Apply Oversampling\n",
    "X_train_resampled, Y_train_resampled = optimizer.fit_resample(X_train, Y_train)\n",
    "\n",
    "# Step 5: Recursive Feature Elimination\n",
    "dt_classifier = DecisionTreeClassifier(random_state=42)\n",
    "rfe = RFE(estimator=dt_classifier, n_features_to_select=10, step=1)\n",
    "X_train_resampled_rfe = rfe.fit_transform(X_train_resampled, Y_train_resampled)\n",
    "X_test_rfe = rfe.transform(X_test)\n",
    "\n",
    "# Step 6: Bayesian Optimization\n",
    "opt = BayesSearchCV(\n",
    "    estimator=DecisionTreeClassifier(),\n",
    "    search_spaces=search_spaces,\n",
    "    n_iter=10,\n",
    "    scoring=accuracy_scorer,\n",
    "    cv=5\n",
    ")\n",
    "opt.fit(X_train_resampled_rfe, Y_train_resampled)\n",
    "\n",
    "print(\"\")"
   ],
   "metadata": {
    "collapsed": false,
    "ExecuteTime": {
     "end_time": "2024-03-26T10:55:57.034663Z",
     "start_time": "2024-03-26T10:55:06.882569Z"
    }
   },
   "id": "a7a9a64f2231d1ae",
   "outputs": [
    {
     "name": "stdout",
     "output_type": "stream",
     "text": [
      "77668\n"
     ]
    }
   ],
   "execution_count": 5
  },
  {
   "metadata": {
    "ExecuteTime": {
     "end_time": "2024-03-26T11:04:53.003278Z",
     "start_time": "2024-03-26T11:04:52.997993Z"
    }
   },
   "cell_type": "code",
   "source": [
    "# Definiere das Grid der Hyperparameter, die du testen möchtest\n",
    "param_grid = {\n",
    "    'n_estimators': [100, 200, 300],  # Anzahl der Bäume\n",
    "    'max_depth': [None, 10, 20, 30],  # Maximale Tiefe der Bäume\n",
    "    'min_samples_split': [2, 5, 10],  # Minimale Anzahl von Samples, um einen Knoten zu teilen\n",
    "    'min_samples_leaf': [1, 2, 4]  # Minimale Anzahl von Samples in einem Blatt\n",
    "   # Methode für das Sampling der Datensätze\n",
    "}\n"
   ],
   "id": "c302789bace69991",
   "outputs": [],
   "execution_count": 7
  },
  {
   "metadata": {},
   "cell_type": "markdown",
   "source": [],
   "id": "3af13d8deffe3824"
  },
  {
   "metadata": {
    "ExecuteTime": {
     "end_time": "2024-03-26T13:19:02.648445Z",
     "start_time": "2024-03-26T11:04:57.178188Z"
    }
   },
   "cell_type": "code",
   "source": [
    "# Initialisiere den RandomForestClassifier\n",
    "rf = RandomForestClassifier()\n",
    "\n",
    "# Initialisiere den GridSearchCV\n",
    "grid_search = GridSearchCV(estimator=rf, param_grid=param_grid, cv=5, n_jobs=-1, scoring='f1_weighted')\n",
    "\n",
    "# Führe den GridSearch aus\n",
    "grid_search.fit(X_train_resampled_rfe, Y_train_resampled)\n",
    "\n",
    "\n",
    "# Zeige die besten Parameter und den besten Score an\n",
    "print(\"Beste Parameter:\", grid_search.best_params_)\n",
    "print(\"Bester Score:\", grid_search.best_score_)"
   ],
   "id": "e94bb7c0b527d808",
   "outputs": [
    {
     "name": "stdout",
     "output_type": "stream",
     "text": [
      "Beste Parameter: {'max_depth': None, 'min_samples_leaf': 1, 'min_samples_split': 2, 'n_estimators': 100}\n",
      "Bester Score: 0.9964592972852759\n"
     ]
    }
   ],
   "execution_count": 8
  },
  {
   "metadata": {
    "ExecuteTime": {
     "end_time": "2024-03-26T13:24:39.489001Z",
     "start_time": "2024-03-26T13:24:19.945921Z"
    }
   },
   "cell_type": "code",
   "source": [
    "# Initialisiere und trainiere das Modell mit den besten Parametern\n",
    "model = RandomForestClassifier( max_depth= None, min_samples_leaf=1,min_samples_split=2, n_estimators=100, random_state=42)\n",
    "model.fit(X_train_resampled_rfe, Y_train_resampled)\n",
    "\n",
    "# Mache Vorhersagen auf dem Testset\n",
    "y_pred = model.predict(X_test_rfe)\n",
    "\n",
    "# Berechne und drucke verschiedene Fehlermetriken aus\n",
    "accuracy = accuracy_score(Y_test, y_pred)\n",
    "precision = precision_score(Y_test, y_pred, average='binary')\n",
    "recall = recall_score(Y_test, y_pred, average='binary')\n",
    "f1 = f1_score(Y_test, y_pred, average='weighted')\n",
    "mcc = matthews_corrcoef(Y_test, y_pred)\n",
    "\n",
    "print(f\"Accuracy: {accuracy}\")\n",
    "print(f\"Precision: {precision}\")\n",
    "print(f\"Recall: {recall}\")\n",
    "print(f\"F1-Score: {f1}\")\n",
    "print(f\"Matthews Correlation Coefficient: {mcc}\")\n",
    "\n",
    "'''\n",
    "with tuned hyperparameters: bootstrap= False , max_depth= 20, min_samples_leaf=1,min_samples_split=2, n_estimators=100, random_state=42\n",
    "Accuracy: 0.9941598360655738\n",
    "Precision: 0.35\n",
    "Recall: 0.13725490196078433\n",
    "F1-Score: 0.9928895250541236\n",
    "Matthews Correlation Coefficient: 0.21669468006516002\n",
    "\n",
    "max_depth= 20, min_samples_leaf=1,min_samples_split=2, n_estimators=100, random_state=42\n",
    "\n",
    "Accuracy: 0.9942622950819672\n",
    "Precision: 0.3684210526315789\n",
    "Recall: 0.13725490196078433\n",
    "F1-Score: 0.9929555396350459\n",
    "Matthews Correlation Coefficient: 0.2224811074144708\n",
    "\n",
    "bayes/rfe optimiert: \n",
    "Accuracy: 0.9920081967213115\n",
    "Precision: 0.2127659574468085\n",
    "Recall: 0.19607843137254902\n",
    "F1-Score: 0.9918459216592028\n",
    "Matthews Correlation Coefficient: 0.20024084624469762\n",
    "'''"
   ],
   "id": "48612b39043fc9d4",
   "outputs": [
    {
     "name": "stdout",
     "output_type": "stream",
     "text": [
      "Accuracy: 0.9920081967213115\n",
      "Precision: 0.2127659574468085\n",
      "Recall: 0.19607843137254902\n",
      "F1-Score: 0.9918459216592028\n",
      "Matthews Correlation Coefficient: 0.20024084624469762\n"
     ]
    },
    {
     "data": {
      "text/plain": [
       "'\\nwith tuned hyperparameters: bootstrap= False , max_depth= 20, min_samples_leaf=1,min_samples_split=2, n_estimators=100, random_state=42\\nAccuracy: 0.9941598360655738\\nPrecision: 0.35\\nRecall: 0.13725490196078433\\nF1-Score: 0.9928895250541236\\nMatthews Correlation Coefficient: 0.21669468006516002\\n\\nmax_depth= 20, min_samples_leaf=1,min_samples_split=2, n_estimators=100, random_state=42\\n\\nAccuracy: 0.9942622950819672\\nPrecision: 0.3684210526315789\\nRecall: 0.13725490196078433\\nF1-Score: 0.9929555396350459\\nMatthews Correlation Coefficient: 0.2224811074144708\\n\\nbayes/rfe optimiert: \\nAccuracy: 0.9920081967213115\\nPrecision: 0.2127659574468085\\nRecall: 0.19607843137254902\\nF1-Score: 0.9918459216592028\\nMatthews Correlation Coefficient: 0.20024084624469762\\n\\n'"
      ]
     },
     "execution_count": 9,
     "metadata": {},
     "output_type": "execute_result"
    }
   ],
   "execution_count": 9
  },
  {
   "metadata": {},
   "cell_type": "code",
   "outputs": [],
   "execution_count": null,
   "source": "",
   "id": "9bcffb8172dcd02f"
  }
 ],
 "metadata": {
  "kernelspec": {
   "display_name": "Python 3",
   "language": "python",
   "name": "python3"
  },
  "language_info": {
   "codemirror_mode": {
    "name": "ipython",
    "version": 2
   },
   "file_extension": ".py",
   "mimetype": "text/x-python",
   "name": "python",
   "nbconvert_exporter": "python",
   "pygments_lexer": "ipython2",
   "version": "2.7.6"
  }
 },
 "nbformat": 4,
 "nbformat_minor": 5
}
