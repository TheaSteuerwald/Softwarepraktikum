{
 "cells": [
  {
   "cell_type": "code",
   "execution_count": 1,
   "id": "initial_id",
   "metadata": {
    "collapsed": true,
    "ExecuteTime": {
     "end_time": "2024-03-20T13:09:23.299704Z",
     "start_time": "2024-03-20T13:09:21.560806Z"
    }
   },
   "outputs": [],
   "source": [
    "from sklearn.model_selection import train_test_split\n",
    "from sklearn.neighbors import KNeighborsClassifier\n",
    "from sklearn.metrics import accuracy_score\n",
    "import numpy as np\n",
    "import matplotlib.pyplot as plt\n",
    "from sklearn.model_selection import cross_val_score\n",
    "import pandas as pd\n",
    "from sklearn.preprocessing import StandardScaler\n",
    "from sklearn.metrics import classification_report\n"
   ]
  },
  {
   "cell_type": "code",
   "outputs": [
    {
     "name": "stdout",
     "output_type": "stream",
     "text": [
      "     drugA    drugB     sAB  opAB  meanspAB  medianspAB  minspAB  maxspAB  \\\n",
      "0  DB06709  DB08506  0.3427     0     0.615       0.630     0.46     0.74   \n",
      "1  DB06709  DB02376  0.4188     0     0.685       0.685     0.56     0.81   \n",
      "2  DB06709  DB04282  0.4188     0     0.685       0.685     0.56     0.81   \n",
      "3  DB06709  DB04564  0.4188     0     0.685       0.685     0.56     0.81   \n",
      "4  DB06709  DB04659  0.4188     0     0.685       0.685     0.56     0.81   \n",
      "\n",
      "     zTDA    zTDB  ...  opAD  opBD  meanspAD  meanspBD  medianspAD  \\\n",
      "0  0.5751  1.4603  ...   3.0   0.0    0.6014    0.5850        0.59   \n",
      "1  0.5751 -1.3073  ...   3.0   0.0    0.6014    0.6046        0.59   \n",
      "2  0.5751 -1.3073  ...   3.0   0.0    0.6014    0.6046        0.59   \n",
      "3  0.5751 -1.3073  ...   3.0   0.0    0.6014    0.6046        0.59   \n",
      "4  0.5751 -1.3073  ...   3.0   0.0    0.6014    0.6046        0.59   \n",
      "\n",
      "   medianspBD  minspAD  minspBD  maxspAD  maxspBD  \n",
      "0        0.57      0.0     0.28     1.38     1.13  \n",
      "1        0.59      0.0     0.27     1.38     1.12  \n",
      "2        0.59      0.0     0.27     1.38     1.12  \n",
      "3        0.59      0.0     0.27     1.38     1.12  \n",
      "4        0.59      0.0     0.27     1.38     1.12  \n",
      "\n",
      "[5 rows x 28 columns]\n",
      "     drugA    drugB                drugcomb  adv/app\n",
      "0  DB00201  DB00201  ('DB00201', 'DB00201')        0\n",
      "1  DB00945  DB00647  ('DB00647', 'DB00945')        0\n",
      "2  DB01551  DB00316  ('DB00316', 'DB01551')        0\n",
      "3  DB00281  DB01234  ('DB00281', 'DB01234')        0\n",
      "4  DB01173  DB00945  ('DB00945', 'DB01173')        0\n"
     ]
    }
   ],
   "source": [
    "features_df = pd.read_csv(\n",
    "    'C:/Users/Gesa/Uni/Softwarepraktikum/Softwarepraktikum/features/ctd_nervous-system_20240223_scores.tsv', sep='\\t')\n",
    "\n",
    "ground_truth_df = pd.read_csv('C:/Users/Gesa/Uni/Softwarepraktikum/Softwarepraktikum/merged_nerveSys.tsv', sep='\\t')\n",
    "\n",
    "print(features_df.head())\n",
    "print(ground_truth_df.head())"
   ],
   "metadata": {
    "collapsed": false,
    "ExecuteTime": {
     "end_time": "2024-03-20T13:09:42.182016Z",
     "start_time": "2024-03-20T13:09:25.643502Z"
    }
   },
   "id": "1ca09a6c9711325c",
   "execution_count": 2
  },
  {
   "cell_type": "code",
   "outputs": [
    {
     "name": "stdout",
     "output_type": "stream",
     "text": [
      "                    sAB  opAB  meanspAB  medianspAB  minspAB  maxspAB    zTDA  \\\n",
      "drugA   drugB                                                                   \n",
      "DB00001 DB01175  0.2975     0    0.6125       0.615     0.55     0.67 -0.8823   \n",
      "        DB00721  0.3518     0    0.7025       0.605     0.48     1.12 -0.8823   \n",
      "        DB00564  0.4200     0    0.4200       0.420     0.42     0.42 -0.8823   \n",
      "        DB01367  0.3075     0    0.4967       0.640     0.20     0.65 -0.8823   \n",
      "        DB00780  0.3698     0    0.5711       0.640     0.33     0.71 -0.8823   \n",
      "...                 ...   ...       ...         ...      ...      ...     ...   \n",
      "DB08918 DB09000  0.1055     0    0.5187       0.510     0.17     0.79 -1.9883   \n",
      "DB08927 DB09000  0.5919     0    0.7585       0.740     0.64     0.91  0.9986   \n",
      "DB08953 DB09000  0.3705     0    0.5362       0.500     0.43     0.69 -0.8864   \n",
      "DB08954 DB09000 -0.0081     0    0.5165       0.530     0.18     0.81 -2.1913   \n",
      "DB09000 DB09017  0.3391     0    0.5123       0.520     0.30     0.69 -0.4190   \n",
      "\n",
      "                   zTDB    zDTA    zDTB  ...  meanspAD  meanspBD  medianspAD  \\\n",
      "drugA   drugB                            ...                                   \n",
      "DB00001 DB01175  0.2390 -1.7007 -1.8457  ...    0.4959    0.6264        0.48   \n",
      "        DB00721 -0.3651 -1.7007 -4.1374  ...    0.4959    0.7173        0.48   \n",
      "        DB00564 -1.2337 -1.7007 -0.9065  ...    0.4959    0.4495        0.48   \n",
      "        DB01367 -3.1123 -1.7007 -3.3531  ...    0.4959    0.5481        0.48   \n",
      "        DB00780 -0.6580 -1.7007 -2.2624  ...    0.4959    0.5950        0.48   \n",
      "...                 ...     ...     ...  ...       ...       ...         ...   \n",
      "DB08918 DB09000 -0.4190 -3.6685 -5.6287  ...    0.5263    0.5456        0.52   \n",
      "DB08927 DB09000 -0.4190 -2.7358 -5.6287  ...    0.7448    0.5456        0.74   \n",
      "DB08953 DB09000 -0.4190 -1.8501 -5.6287  ...    0.5349    0.5456        0.52   \n",
      "DB08954 DB09000 -0.4190 -1.9406 -5.6287  ...    0.5263    0.5456        0.53   \n",
      "DB09000 DB09017 -0.3941 -5.6287  0.5871  ...    0.5456    0.5147        0.54   \n",
      "\n",
      "                 medianspBD  minspAD  minspBD  maxspAD  maxspBD  \\\n",
      "drugA   drugB                                                     \n",
      "DB00001 DB01175        0.62      0.0     0.00     1.12     1.38   \n",
      "        DB00721        0.64      0.0     0.00     1.12     1.58   \n",
      "        DB00564        0.44      0.0     0.06     1.12     1.07   \n",
      "        DB01367        0.58      0.0     0.00     1.12     1.29   \n",
      "        DB00780        0.60      0.0     0.00     1.12     1.29   \n",
      "...                     ...      ...      ...      ...      ...   \n",
      "DB08918 DB09000        0.54      0.0     0.00     1.18     1.38   \n",
      "DB08927 DB09000        0.54      0.0     0.00     1.28     1.38   \n",
      "DB08953 DB09000        0.54      0.0     0.00     1.10     1.38   \n",
      "DB08954 DB09000        0.54      0.0     0.00     1.13     1.38   \n",
      "DB09000 DB09017        0.51      0.0     0.22     1.38     1.19   \n",
      "\n",
      "                               drugcomb  adv/app  \n",
      "drugA   drugB                                     \n",
      "DB00001 DB01175  ('DB00001', 'DB01175')        1  \n",
      "        DB00721  ('DB00001', 'DB00721')        1  \n",
      "        DB00564  ('DB00001', 'DB00564')        1  \n",
      "        DB01367  ('DB00001', 'DB01367')        1  \n",
      "        DB00780  ('DB00001', 'DB00780')        1  \n",
      "...                                 ...      ...  \n",
      "DB08918 DB09000  ('DB08918', 'DB09000')        1  \n",
      "DB08927 DB09000  ('DB08927', 'DB09000')        1  \n",
      "DB08953 DB09000  ('DB08953', 'DB09000')        1  \n",
      "DB08954 DB09000  ('DB08954', 'DB09000')        1  \n",
      "DB09000 DB09017  ('DB09000', 'DB09017')        1  \n",
      "\n",
      "[81087 rows x 28 columns]\n"
     ]
    }
   ],
   "source": [
    "merged_df = pd.merge(features_df, ground_truth_df, on=['drugA', 'drugB'])\n",
    "\n",
    "merged_df.set_index(['drugA', 'drugB'], inplace=True)\n",
    "print(merged_df)"
   ],
   "metadata": {
    "collapsed": false,
    "ExecuteTime": {
     "end_time": "2024-03-20T13:09:50.886154Z",
     "start_time": "2024-03-20T13:09:48.781468Z"
    }
   },
   "id": "5ff0b4943de73966",
   "execution_count": 3
  },
  {
   "cell_type": "code",
   "outputs": [
    {
     "name": "stdout",
     "output_type": "stream",
     "text": [
      "                    sAB  opAB  meanspAB  medianspAB  minspAB  maxspAB    zTDA  \\\n",
      "drugA   drugB                                                                   \n",
      "DB00001 DB01175  0.2975     0    0.6125       0.615     0.55     0.67 -0.8823   \n",
      "        DB00721  0.3518     0    0.7025       0.605     0.48     1.12 -0.8823   \n",
      "        DB00564  0.4200     0    0.4200       0.420     0.42     0.42 -0.8823   \n",
      "        DB01367  0.3075     0    0.4967       0.640     0.20     0.65 -0.8823   \n",
      "        DB00780  0.3698     0    0.5711       0.640     0.33     0.71 -0.8823   \n",
      "...                 ...   ...       ...         ...      ...      ...     ...   \n",
      "DB08918 DB09000  0.1055     0    0.5187       0.510     0.17     0.79 -1.9883   \n",
      "DB08927 DB09000  0.5919     0    0.7585       0.740     0.64     0.91  0.9986   \n",
      "DB08953 DB09000  0.3705     0    0.5362       0.500     0.43     0.69 -0.8864   \n",
      "DB08954 DB09000 -0.0081     0    0.5165       0.530     0.18     0.81 -2.1913   \n",
      "DB09000 DB09017  0.3391     0    0.5123       0.520     0.30     0.69 -0.4190   \n",
      "\n",
      "                   zTDB    zDTA    zDTB  ...  opAD  opBD  meanspAD  meanspBD  \\\n",
      "drugA   drugB                            ...                                   \n",
      "DB00001 DB01175  0.2390 -1.7007 -1.8457  ...   1.0   2.0    0.4959    0.6264   \n",
      "        DB00721 -0.3651 -1.7007 -4.1374  ...   1.0   2.0    0.4959    0.7173   \n",
      "        DB00564 -1.2337 -1.7007 -0.9065  ...   1.0   0.0    0.4959    0.4495   \n",
      "        DB01367 -3.1123 -1.7007 -3.3531  ...   1.0   3.0    0.4959    0.5481   \n",
      "        DB00780 -0.6580 -1.7007 -2.2624  ...   1.0   5.0    0.4959    0.5950   \n",
      "...                 ...     ...     ...  ...   ...   ...       ...       ...   \n",
      "DB08918 DB09000 -0.4190 -3.6685 -5.6287  ...   3.0  10.0    0.5263    0.5456   \n",
      "DB08927 DB09000 -0.4190 -2.7358 -5.6287  ...   1.0  10.0    0.7448    0.5456   \n",
      "DB08953 DB09000 -0.4190 -1.8501 -5.6287  ...   1.0  10.0    0.5349    0.5456   \n",
      "DB08954 DB09000 -0.4190 -1.9406 -5.6287  ...   3.0  10.0    0.5263    0.5456   \n",
      "DB09000 DB09017 -0.3941 -5.6287  0.5871  ...  10.0   0.0    0.5456    0.5147   \n",
      "\n",
      "                 medianspAD  medianspBD  minspAD  minspBD  maxspAD  maxspBD  \n",
      "drugA   drugB                                                                \n",
      "DB00001 DB01175        0.48        0.62      0.0     0.00     1.12     1.38  \n",
      "        DB00721        0.48        0.64      0.0     0.00     1.12     1.58  \n",
      "        DB00564        0.48        0.44      0.0     0.06     1.12     1.07  \n",
      "        DB01367        0.48        0.58      0.0     0.00     1.12     1.29  \n",
      "        DB00780        0.48        0.60      0.0     0.00     1.12     1.29  \n",
      "...                     ...         ...      ...      ...      ...      ...  \n",
      "DB08918 DB09000        0.52        0.54      0.0     0.00     1.18     1.38  \n",
      "DB08927 DB09000        0.74        0.54      0.0     0.00     1.28     1.38  \n",
      "DB08953 DB09000        0.52        0.54      0.0     0.00     1.10     1.38  \n",
      "DB08954 DB09000        0.53        0.54      0.0     0.00     1.13     1.38  \n",
      "DB09000 DB09017        0.54        0.51      0.0     0.22     1.38     1.19  \n",
      "\n",
      "[81087 rows x 22 columns]\n"
     ]
    }
   ],
   "source": [
    "X = merged_df.drop(['adv/app','drugcomb','sA','sB','opA','opB'], axis=1)  # Annahme: 'adv/app' ist Ihre Zielvariable\n",
    "Y = merged_df['adv/app']\n",
    "print(X)\n",
    "\n",
    "# Aufteilen des Datensatzes in Trainings-, Validierungs- und Testdaten\n",
    "X_train, X_temp, Y_train, Y_temp = train_test_split(X, Y, test_size=0.2, random_state=42)\n",
    "X_val, X_test, Y_val, Y_test = train_test_split(X_temp, Y_temp, test_size=0.5, random_state=42)\n",
    "\n",
    "#Scaling features \n",
    "scaler= StandardScaler()\n",
    "X_train_scaled = scaler.fit_transform(X_train)\n",
    "X_val_scaled = scaler.transform(X_val)\n",
    "X_test_scaled = scaler.transform(X_test)"
   ],
   "metadata": {
    "collapsed": false,
    "ExecuteTime": {
     "end_time": "2024-03-20T13:15:22.577027Z",
     "start_time": "2024-03-20T13:15:22.496180Z"
    }
   },
   "id": "cc4a4ac1d96e5578",
   "execution_count": 7
  },
  {
   "cell_type": "code",
   "outputs": [
    {
     "name": "stdout",
     "output_type": "stream",
     "text": [
      "Best k: 3 with validation accuracy: 1.00\n",
      "Test accuracy with best k: 1.00\n"
     ]
    },
    {
     "data": {
      "text/plain": "<Figure size 640x480 with 1 Axes>",
      "image/png": "[encoded data removed]"
     },
     "metadata": {},
     "output_type": "display_data"
    }
   ],
   "source": [
    "k_values = list(range(1, 21))  # Zum Beispiel von 1 bis 20\n",
    "\n",
    "# Leere Liste zum Speichern der durchschnittlichen Genauigkeiten für jeden k-Wert\n",
    "mean_accuracy = []\n",
    "\n",
    "best_k = None\n",
    "best_accuracy = 0\n",
    "\n",
    "# Durchlaufen der k-Werte und Bewertung der Leistung auf dem Validierungsdatensatz\n",
    "for k in k_values:\n",
    "    knn = KNeighborsClassifier(n_neighbors=k)\n",
    "    knn.fit(X_train_scaled, Y_train)\n",
    "    predictions = knn.predict(X_val_scaled)\n",
    "    accuracy = accuracy_score(Y_val, predictions)\n",
    "    mean_accuracy.append(accuracy)\n",
    "    if accuracy > best_accuracy:\n",
    "        best_accuracy = accuracy\n",
    "        best_k = k\n",
    "\n",
    "# Verwenden des besten k-Werts, um das endgültige Modell zu trainieren\n",
    "final_knn = KNeighborsClassifier(n_neighbors=best_k)\n",
    "final_knn.fit(X_train_scaled, Y_train)\n",
    "\n",
    "# Bewertung der Leistung des endgültigen Modells auf dem Testdatensatz\n",
    "test_predictions = final_knn.predict(X_test_scaled)\n",
    "test_accuracy = accuracy_score(Y_test, test_predictions)\n",
    "\n",
    "print(f\"Best k: {best_k} with validation accuracy: {best_accuracy:.2f}\")\n",
    "print(f\"Test accuracy with best k: {test_accuracy:.2f}\")\n",
    "\n",
    "plt.plot(k_values, mean_accuracy, marker='o')\n",
    "plt.title('Durchschnittliche Genauigkeit für verschiedene k-Werte')\n",
    "plt.xlabel('k')\n",
    "plt.ylabel('Durchschnittliche Genauigkeit')\n",
    "plt.xticks(k_values)\n",
    "plt.grid(True)\n",
    "plt.show()\n"
   ],
   "metadata": {
    "collapsed": false,
    "ExecuteTime": {
     "end_time": "2024-03-20T13:20:00.395610Z",
     "start_time": "2024-03-20T13:19:47.877508Z"
    }
   },
   "id": "a7d9f354c39b5f9f",
   "execution_count": 9
  },
  {
   "cell_type": "code",
   "outputs": [
    {
     "name": "stdout",
     "output_type": "stream",
     "text": [
      "Genauigkeit des k-NN-Modells auf dem Testdatensatz: 0.9991367616228881\n",
      "                 Actual  Predicted\n",
      "drugA   drugB                     \n",
      "DB00201 DB00945       0          1\n",
      "DB00318 DB00388       0          1\n",
      "DB00945 DB06800       1          0\n",
      "DB00316 DB00852       0          1\n",
      "DB00668 DB00750       0          1\n",
      "DB00318 DB06691       0          1\n",
      "DB01404 DB01381       0          1\n",
      "7\n"
     ]
    }
   ],
   "source": [
    "# Erstellen Sie ein k-NN-Modell mit dem besten k-Wert\n",
    "best_knn = KNeighborsClassifier(n_neighbors=best_k)\n",
    "\n",
    "# Trainieren Sie das k-NN-Modell auf dem gesamten Trainingsdatensatz\n",
    "best_knn.fit(X_train_scaled, Y_train)\n",
    "\n",
    "# Verwenden Sie das trainierte Modell, um Vorhersagen auf dem Testdatensatz zu machen\n",
    "predictions = best_knn.predict(X_test_scaled)\n",
    "\n",
    "# Berechnen Sie die Genauigkeit des Modells auf dem Testdatensatz\n",
    "accuracy = accuracy_score(Y_test, predictions)\n",
    "print(\"Genauigkeit des k-NN-Modells auf dem Testdatensatz:\", accuracy)\n",
    "comparison = pd.DataFrame({'Actual': Y_test, 'Predicted': predictions})\n",
    "mask = comparison['Actual'] != comparison['Predicted']\n",
    "differences = comparison[mask]\n",
    "#0.9991984215069676 k=5\n",
    "#0.9991367616228881 k=13\n",
    "print(differences)\n",
    "print(len(differences))\n"
   ],
   "metadata": {
    "collapsed": false,
    "ExecuteTime": {
     "end_time": "2024-03-20T13:23:38.324115Z",
     "start_time": "2024-03-20T13:23:37.493471Z"
    }
   },
   "id": "2cadc88f3c7bcdc3",
   "execution_count": 10
  },
  {
   "cell_type": "code",
   "outputs": [
    {
     "name": "stdout",
     "output_type": "stream",
     "text": [
      "              precision    recall  f1-score   support\n",
      "\n",
      "           0       0.67      0.25      0.36         8\n",
      "           1       1.00      1.00      1.00      8101\n",
      "\n",
      "    accuracy                           1.00      8109\n",
      "   macro avg       0.83      0.62      0.68      8109\n",
      "weighted avg       1.00      1.00      1.00      8109\n"
     ]
    }
   ],
   "source": [
    "report=classification_report(Y_test,predictions)\n",
    "print(report)"
   ],
   "metadata": {
    "collapsed": false,
    "ExecuteTime": {
     "end_time": "2024-03-20T13:25:22.486715Z",
     "start_time": "2024-03-20T13:25:22.468793Z"
    }
   },
   "id": "3256d277493351c6",
   "execution_count": 11
  },
  {
   "cell_type": "code",
   "outputs": [],
   "source": [],
   "metadata": {
    "collapsed": false
   },
   "id": "f85f2dcea7859ae5"
  }
 ],
 "metadata": {
  "kernelspec": {
   "display_name": "Python 3",
   "language": "python",
   "name": "python3"
  },
  "language_info": {
   "codemirror_mode": {
    "name": "ipython",
    "version": 2
   },
   "file_extension": ".py",
   "mimetype": "text/x-python",
   "name": "python",
   "nbconvert_exporter": "python",
   "pygments_lexer": "ipython2",
   "version": "2.7.6"
  }
 },
 "nbformat": 4,
 "nbformat_minor": 5
}
