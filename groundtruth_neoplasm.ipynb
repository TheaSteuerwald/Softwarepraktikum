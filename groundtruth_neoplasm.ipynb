{
 "cells": [
  {
   "cell_type": "code",
   "execution_count": 37,
   "id": "initial_id",
   "metadata": {
    "collapsed": true,
    "jupyter": {
     "outputs_hidden": true
    },
    "ExecuteTime": {
     "end_time": "2024-03-17T17:59:50.716736Z",
     "start_time": "2024-03-17T17:59:50.713393Z"
    }
   },
   "outputs": [],
   "source": [
    "import numpy as np\n",
    "import pandas as pd\n",
    "import matplotlib.pyplot as plt\n",
    "from pandas.core.interchange import column"
   ]
  },
  {
   "cell_type": "code",
   "execution_count": 43,
   "id": "4d108eacb17deb7",
   "metadata": {
    "collapsed": false,
    "ExecuteTime": {
     "end_time": "2024-03-17T18:18:04.636517Z",
     "start_time": "2024-03-17T18:18:04.515870Z"
    }
   },
   "outputs": [],
   "source": [
    "file_mixedNeoplasm=\"20240124_drugbank_v5.1.11_full_database_drug_combis_mixture_neoplasms_drugbank-id.tsv\" \n",
    "\n",
    "file_ddiNeoplasms=\"20240124_drugbank_v5.1.11_full_database_drug_combis_ddi_neoplasms_drugbank-id.tsv\"\n",
    "\n",
    "df_mixedNeoplasms=pd.read_csv(file_mixedNeoplasm,sep='\\t')\n",
    "df_ddiNeoplasms=pd.read_csv(file_ddiNeoplasms,sep='\\t')"
   ]
  },
  {
   "cell_type": "markdown",
   "source": [
    "add new column to see which combination adverse or approved is\n",
    "DDI's = adverse (1)  and mixed = approved (0)"
   ],
   "metadata": {
    "collapsed": false
   },
   "id": "563823011d8f7944"
  },
  {
   "cell_type": "code",
   "outputs": [],
   "source": [
    "df_mixedNeoplasms['adv/app']=0\n",
    "df_ddiNeoplasms['adv/app']= 1\n",
    "\n",
    "\n",
    "df_mixedNeoplasms.to_csv('mixed_neoplasms_column.tsv',sep='\\t',index=False)\n",
    "df_ddiNeoplasms.to_csv('ddi_neoplasms_column.tsv',sep='\\t',index=False)\n",
    "\n",
    "mixedNeo=pd.read_csv('mixed_neoplasms_column.tsv',sep='\\t')\n",
    "ddiNeo=pd.read_csv('ddi_neoplasms_column.tsv',sep='\\t')\n",
    "\n"
   ],
   "metadata": {
    "collapsed": false,
    "ExecuteTime": {
     "end_time": "2024-03-17T17:59:51.266636Z",
     "start_time": "2024-03-17T17:59:50.848703Z"
    }
   },
   "id": "ed475627d731093b",
   "execution_count": 39
  },
  {
   "cell_type": "markdown",
   "source": [
    "merge df"
   ],
   "metadata": {
    "collapsed": false
   },
   "id": "a5bd45bcb12ca4ae"
  },
  {
   "cell_type": "code",
   "outputs": [],
   "source": [
    "merged_dfNeoplasms=pd.concat([mixedNeo,ddiNeo],ignore_index=True)\n",
    "\n",
    "merged_dfNeoplasms.to_csv('merged_Neoplasm.tsv',sep='\\t',index=False)"
   ],
   "metadata": {
    "collapsed": false,
    "ExecuteTime": {
     "end_time": "2024-03-17T18:06:33.868100Z",
     "start_time": "2024-03-17T18:06:33.609249Z"
    }
   },
   "id": "cdb9899c6b1366dd",
   "execution_count": 42
  },
  {
   "cell_type": "markdown",
   "source": [],
   "metadata": {
    "collapsed": false
   },
   "id": "46b4f07d265833fb"
  },
  {
   "cell_type": "code",
   "outputs": [
    {
     "name": "stdout",
     "output_type": "stream",
     "text": [
      "identical 'drugcomb':\n",
      "   drugA_x  drugB_x  drugA_for_disease_x  drugB_for_disease_x  \\\n",
      "0  DB00199  DB00755                False                 True   \n",
      "1  DB00350  DB00755                False                 True   \n",
      "2  DB00544  DB00645                 True                False   \n",
      "3  DB00544  DB00586                 True                False   \n",
      "4  DB00741  DB00755                False                 True   \n",
      "5  DB00755  DB01190                 True                False   \n",
      "6  DB00936  DB00544                False                 True   \n",
      "7  DB01006  DB11730                False                 True   \n",
      "\n",
      "                 drugcomb  drugA_y  drugB_y  drugA_for_disease_y  \\\n",
      "0  ('DB00199', 'DB00755')  DB00199  DB00755                False   \n",
      "1  ('DB00350', 'DB00755')  DB00350  DB00755                False   \n",
      "2  ('DB00544', 'DB00645')  DB00544  DB00645                 True   \n",
      "3  ('DB00544', 'DB00586')  DB00544  DB00586                 True   \n",
      "4  ('DB00741', 'DB00755')  DB00741  DB00755                False   \n",
      "5  ('DB00755', 'DB01190')  DB00755  DB01190                 True   \n",
      "6  ('DB00544', 'DB00936')  DB00544  DB00936                 True   \n",
      "7  ('DB01006', 'DB11730')  DB01006  DB11730                False   \n",
      "\n",
      "   drugB_for_disease_y  \n",
      "0                 True  \n",
      "1                 True  \n",
      "2                False  \n",
      "3                False  \n",
      "4                 True  \n",
      "5                False  \n",
      "6                False  \n",
      "7                 True  \n"
     ]
    }
   ],
   "source": [
    "def compare_column(file_mixedNeoplasm,file_ddiNeoplasms,column):\n",
    "    df_mixedNeoplasms=pd.read_csv(file_mixedNeoplasm,sep='\\t')\n",
    "    df_ddiNeoplasms=pd.read_csv(file_ddiNeoplasms,sep='\\t')\n",
    "\n",
    "compareMerged=pd.merge(df_mixedNeoplasms,df_ddiNeoplasms,how='inner',on=column)\n",
    "print(\"identical '{}':\".format(column))\n",
    "print(compareMerged)\n",
    "\n",
    "#identical_columns=set(df_mixedNeoplasms).intersection(set(df_ddiNeoplasms))\n",
    "#print(\"identical_columns:\")\n",
    "#for column in identical_columns:\n",
    "#    print(column)\n",
    "    \n"
   ],
   "metadata": {
    "collapsed": false,
    "ExecuteTime": {
     "end_time": "2024-03-17T18:28:57.249388Z",
     "start_time": "2024-03-17T18:28:57.200200Z"
    }
   },
   "id": "6ccb124ba5b74eb",
   "execution_count": 47
  },
  {
   "cell_type": "code",
   "outputs": [],
   "source": [],
   "metadata": {
    "collapsed": false
   },
   "id": "f553c609e11ee9c3"
  }
 ],
 "metadata": {
  "kernelspec": {
   "display_name": "Python 3 (ipykernel)",
   "language": "python",
   "name": "python3"
  },
  "language_info": {
   "codemirror_mode": {
    "name": "ipython",
    "version": 3
   },
   "file_extension": ".py",
   "mimetype": "text/x-python",
   "name": "python",
   "nbconvert_exporter": "python",
   "pygments_lexer": "ipython3",
   "version": "3.11.8"
  }
 },
 "nbformat": 4,
 "nbformat_minor": 5
}
