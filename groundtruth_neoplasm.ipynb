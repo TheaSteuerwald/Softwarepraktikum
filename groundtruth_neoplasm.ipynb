{
 "cells": [
  {
   "cell_type": "markdown",
   "source": [],
   "metadata": {
    "collapsed": false
   },
   "id": "bd57fb006075ab47"
  },
  {
   "cell_type": "code",
   "execution_count": 9,
   "id": "initial_id",
   "metadata": {
    "collapsed": true,
    "jupyter": {
     "outputs_hidden": true
    },
    "ExecuteTime": {
     "end_time": "2024-03-18T08:16:50.644419Z",
     "start_time": "2024-03-18T08:16:50.639253Z"
    }
   },
   "outputs": [],
   "source": [
    "#Thea Steuerwald, Gesa Röefzaad, Sofya Shorzhina, Lilly Wiesmann\n",
    "\n",
    "import numpy as np\n",
    "import pandas as pd\n",
    "import matplotlib.pyplot as plt\n",
    "from pandas.core.interchange import column"
   ]
  },
  {
   "cell_type": "code",
   "execution_count": 10,
   "id": "4d108eacb17deb7",
   "metadata": {
    "collapsed": false,
    "ExecuteTime": {
     "end_time": "2024-03-18T08:16:50.878109Z",
     "start_time": "2024-03-18T08:16:50.695921Z"
    }
   },
   "outputs": [],
   "source": [
    "file_mixedNeoplasm=\"C:/Users/Gesa/Uni/Softwarepraktikum/ground_truth/20240124_drugbank_v5.1.11_full_database_drug_combis_mixture_neoplasms_drugbank-id.tsv\" \n",
    "file_ddiNeoplasms=\"C:/Users/Gesa/Uni/Softwarepraktikum/ground_truth/20240124_drugbank_v5.1.11_full_database_drug_combis_ddi_neoplasms_drugbank-id.tsv\"\n",
    "\n",
    "df_mixedNeoplasms=pd.read_csv(file_mixedNeoplasm,sep='\\t')\n",
    "df_ddiNeoplasms=pd.read_csv(file_ddiNeoplasms,sep='\\t')"
   ]
  },
  {
   "cell_type": "markdown",
   "source": [
    "add new column to see which combination adverse or approved is\n",
    "DDI's = adverse (1)  and mixed = approved (0)"
   ],
   "metadata": {
    "collapsed": false
   },
   "id": "563823011d8f7944"
  },
  {
   "cell_type": "code",
   "outputs": [],
   "source": [
    "df_mixedNeoplasms['adv/app']=0\n",
    "df_ddiNeoplasms['adv/app']= 1\n",
    "\n",
    "\n",
    "df_mixedNeoplasms.to_csv('mixed_neoplasms_column.tsv',sep='\\t',index=False)\n",
    "df_ddiNeoplasms.to_csv('ddi_neoplasms_column.tsv',sep='\\t',index=False)\n",
    "\n",
    "mixedNeo=pd.read_csv('mixed_neoplasms_column.tsv',sep='\\t')\n",
    "ddiNeo=pd.read_csv('ddi_neoplasms_column.tsv',sep='\\t')\n",
    "\n"
   ],
   "metadata": {
    "collapsed": false,
    "ExecuteTime": {
     "end_time": "2024-03-18T08:16:51.632872Z",
     "start_time": "2024-03-18T08:16:50.880278Z"
    }
   },
   "id": "ed475627d731093b",
   "execution_count": 11
  },
  {
   "cell_type": "markdown",
   "source": [
    "merge df"
   ],
   "metadata": {
    "collapsed": false
   },
   "id": "a5bd45bcb12ca4ae"
  },
  {
   "cell_type": "code",
   "outputs": [],
   "source": [
    "merged_dfNeoplasms=pd.concat([mixedNeo,ddiNeo],ignore_index=True)\n",
    "#combined_df = merged_dfNeoplasms.drop_duplicates()\n",
    "merged_dfNeoplasms.to_csv('merged_Neoplasm.tsv',sep='\\t',index=False)"
   ],
   "metadata": {
    "collapsed": false,
    "ExecuteTime": {
     "end_time": "2024-03-18T08:42:06.193296Z",
     "start_time": "2024-03-18T08:42:05.733249Z"
    }
   },
   "id": "cdb9899c6b1366dd",
   "execution_count": 23
  },
  {
   "cell_type": "markdown",
   "source": [],
   "metadata": {
    "collapsed": false
   },
   "id": "46b4f07d265833fb"
  },
  {
   "cell_type": "code",
   "outputs": [
    {
     "name": "stdout",
     "output_type": "stream",
     "text": [
      "   drugA_x  drugB_x  drugA_for_disease_x  drugB_for_disease_x  \\\n",
      "0  DB00199  DB00755                False                 True   \n",
      "1  DB00350  DB00755                False                 True   \n",
      "2  DB00544  DB00645                 True                False   \n",
      "3  DB00544  DB00586                 True                False   \n",
      "4  DB00741  DB00755                False                 True   \n",
      "5  DB00755  DB01190                 True                False   \n",
      "6  DB00936  DB00544                False                 True   \n",
      "7  DB01006  DB11730                False                 True   \n",
      "\n",
      "                 drugcomb  adv/app_x  drugA_y  drugB_y  drugA_for_disease_y  \\\n",
      "0  ('DB00199', 'DB00755')          0  DB00199  DB00755                False   \n",
      "1  ('DB00350', 'DB00755')          0  DB00350  DB00755                False   \n",
      "2  ('DB00544', 'DB00645')          0  DB00544  DB00645                 True   \n",
      "3  ('DB00544', 'DB00586')          0  DB00544  DB00586                 True   \n",
      "4  ('DB00741', 'DB00755')          0  DB00741  DB00755                False   \n",
      "5  ('DB00755', 'DB01190')          0  DB00755  DB01190                 True   \n",
      "6  ('DB00544', 'DB00936')          0  DB00544  DB00936                 True   \n",
      "7  ('DB01006', 'DB11730')          0  DB01006  DB11730                False   \n",
      "\n",
      "   drugB_for_disease_y  adv/app_y  \n",
      "0                 True          1  \n",
      "1                 True          1  \n",
      "2                False          1  \n",
      "3                False          1  \n",
      "4                 True          1  \n",
      "5                False          1  \n",
      "6                False          1  \n",
      "7                 True          1  \n"
     ]
    }
   ],
   "source": [
    "compareMerged=pd.merge(df_mixedNeoplasms,df_ddiNeoplasms,how='inner',on=\"drugcomb\")\n",
    "print(compareMerged)\n",
    "\n",
    "compareMerged=merged_dfNeoplasms.drop_duplicates(keep=False,subset=\"drugcomb\")\n",
    "compareMerged.to_csv(\"merged_Neo.tsv\", sep='\\t', index=False)\n",
    "\n",
    "#identical_columns=set(df_mixedNeoplasms).intersection(set(df_ddiNeoplasms))\n",
    "#print(\"identical_columns:\")\n",
    "#for column in identical_columns:\n",
    "#    print(column)\n",
    "    \n"
   ],
   "metadata": {
    "collapsed": false,
    "ExecuteTime": {
     "end_time": "2024-03-18T08:48:39.739577Z",
     "start_time": "2024-03-18T08:48:39.213694Z"
    }
   },
   "id": "6ccb124ba5b74eb",
   "execution_count": 25
  },
  {
   "cell_type": "code",
   "outputs": [],
   "source": [],
   "metadata": {
    "collapsed": false,
    "ExecuteTime": {
     "end_time": "2024-03-18T08:16:52.242842Z",
     "start_time": "2024-03-18T08:16:52.238581Z"
    }
   },
   "id": "f553c609e11ee9c3",
   "execution_count": 13
  }
 ],
 "metadata": {
  "kernelspec": {
   "display_name": "Python 3 (ipykernel)",
   "language": "python",
   "name": "python3"
  },
  "language_info": {
   "codemirror_mode": {
    "name": "ipython",
    "version": 3
   },
   "file_extension": ".py",
   "mimetype": "text/x-python",
   "name": "python",
   "nbconvert_exporter": "python",
   "pygments_lexer": "ipython3",
   "version": "3.11.8"
  }
 },
 "nbformat": 4,
 "nbformat_minor": 5
}
