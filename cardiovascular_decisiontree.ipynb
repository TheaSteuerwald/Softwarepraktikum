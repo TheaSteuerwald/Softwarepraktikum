{
 "cells": [
  {
   "metadata": {},
   "cell_type": "markdown",
   "source": "downloading necessary modules",
   "id": "d5b91b6f886749d2"
  },
  {
   "metadata": {
    "ExecuteTime": {
     "end_time": "2024-03-20T12:58:14.028665Z",
     "start_time": "2024-03-20T12:58:14.023708Z"
    }
   },
   "cell_type": "code",
   "source": [
    "import pandas as pd\n",
    "from sklearn.tree import DecisionTreeClassifier\n",
    "from sklearn.model_selection import train_test_split\n",
    "import numpy as np\n",
    "import matplotlib.pyplot as plt\n",
    "from sklearn.metrics import classification_report\n"
   ],
   "id": "f71c838f16c9f4f9",
   "outputs": [],
   "execution_count": 20
  },
  {
   "metadata": {},
   "cell_type": "markdown",
   "source": "reading features + ground truth ",
   "id": "a5af62429e6cfacc"
  },
  {
   "metadata": {
    "ExecuteTime": {
     "end_time": "2024-03-20T12:59:10.058457Z",
     "start_time": "2024-03-20T12:58:16.378430Z"
    }
   },
   "cell_type": "code",
   "source": [
    "features_df = pd.read_csv('ctd_cadiovascular_20240223_scores.tsv', sep='\\t')\n",
    "ground_truth_df = pd.read_csv('merged_cardio.tsv', sep='\\t')\n",
    "\n",
    "print(features_df)\n",
    "print(ground_truth_df)"
   ],
   "id": "3f453e9b82102728",
   "outputs": [
    {
     "name": "stdout",
     "output_type": "stream",
     "text": [
      "           drugA    drugB     sAB  opAB  meanspAB  medianspAB  minspAB  \\\n",
      "0        DB06709  DB08506  0.3427     0    0.6150       0.630     0.46   \n",
      "1        DB06709  DB02376  0.4188     0    0.6850       0.685     0.56   \n",
      "2        DB06709  DB04282  0.4188     0    0.6850       0.685     0.56   \n",
      "3        DB06709  DB04564  0.4188     0    0.6850       0.685     0.56   \n",
      "4        DB06709  DB04659  0.4188     0    0.6850       0.685     0.56   \n",
      "...          ...      ...     ...   ...       ...         ...      ...   \n",
      "9730661  DB08873  DB07191  0.1295     0    0.6093       0.625     0.44   \n",
      "9730662  DB08873  DB08846  0.1319     0    0.4865       0.460     0.20   \n",
      "9730663  DB08873  DB08865  0.1585     0    0.4858       0.480     0.26   \n",
      "9730664  DB08873  DB05891  0.1004     0    0.8725       0.870     0.65   \n",
      "9730665  DB08873  DB05508  0.2084     0    0.5350       0.530     0.41   \n",
      "\n",
      "         maxspAB    zTDA    zTDB  ...  opAD  opBD  meanspAD  meanspBD  \\\n",
      "0           0.74  0.5097  1.3545  ...   2.0   0.0    0.5983    0.5773   \n",
      "1           0.81  0.5097 -1.3890  ...   2.0   0.0    0.5983    0.5969   \n",
      "2           0.81  0.5097 -1.3890  ...   2.0   0.0    0.5983    0.5969   \n",
      "3           0.81  0.5097 -1.3890  ...   2.0   0.0    0.5983    0.5969   \n",
      "4           0.81  0.5097 -1.3890  ...   2.0   0.0    0.5983    0.5969   \n",
      "...          ...     ...     ...  ...   ...   ...       ...       ...   \n",
      "9730661     0.86  1.6600  0.3209  ...   2.0   4.0    0.5511    0.5643   \n",
      "9730662     0.93  1.6600 -3.7289  ...   2.0  13.0    0.5511    0.4554   \n",
      "9730663     0.97  1.6600 -2.7959  ...   2.0  26.0    0.5511    0.4512   \n",
      "9730664     1.19  1.6600  0.6265  ...   2.0   3.0    0.5511    0.8358   \n",
      "9730665     0.70  1.6600 -0.8874  ...   2.0   3.0    0.5511    0.4836   \n",
      "\n",
      "         medianspAD  medianspBD  minspAD  minspBD  maxspAD  maxspBD  \n",
      "0              0.59        0.56      0.0     0.28     1.47     1.30  \n",
      "1              0.59        0.58      0.0     0.27     1.47     1.38  \n",
      "2              0.59        0.58      0.0     0.27     1.47     1.38  \n",
      "3              0.59        0.58      0.0     0.27     1.47     1.38  \n",
      "4              0.59        0.58      0.0     0.27     1.47     1.38  \n",
      "...             ...         ...      ...      ...      ...      ...  \n",
      "9730661        0.54        0.55      0.0     0.00     1.42     1.45  \n",
      "9730662        0.54        0.44      0.0     0.00     1.42     1.62  \n",
      "9730663        0.54        0.44      0.0     0.00     1.42     1.58  \n",
      "9730664        0.54        0.83      0.0     0.00     1.42     1.78  \n",
      "9730665        0.54        0.47      0.0     0.00     1.42     1.27  \n",
      "\n",
      "[9730666 rows x 28 columns]\n",
      "          drugA    drugB                drugcomb  adv/app\n",
      "0       DB00310  DB00206  ('DB00206', 'DB00310')        0\n",
      "1       DB01275  DB00206  ('DB00206', 'DB01275')        0\n",
      "2       DB00721  DB00277  ('DB00277', 'DB00721')        0\n",
      "3       DB00001  DB00908  ('DB00001', 'DB00908')        0\n",
      "4       DB00001  DB00806  ('DB00001', 'DB00806')        0\n",
      "...         ...      ...                     ...      ...\n",
      "290136  DB14123  DB14533  ('DB14123', 'DB14533')        1\n",
      "290137  DB14336  DB00640  ('DB00640', 'DB14336')        1\n",
      "290138  DB14500  DB00898  ('DB00898', 'DB14500')        1\n",
      "290139  DB14533  DB00825  ('DB00825', 'DB14533')        1\n",
      "290140  DB14533  DB00645  ('DB00645', 'DB14533')        1\n",
      "\n",
      "[290141 rows x 4 columns]\n"
     ]
    }
   ],
   "execution_count": 21
  },
  {
   "metadata": {},
   "cell_type": "markdown",
   "source": "merge features, ground truth over drugA drugB ",
   "id": "145fc4b6734f94db"
  },
  {
   "metadata": {
    "ExecuteTime": {
     "end_time": "2024-03-20T12:59:21.725985Z",
     "start_time": "2024-03-20T12:59:13.384661Z"
    }
   },
   "cell_type": "code",
   "source": [
    "merged_df = pd.merge(features_df, ground_truth_df, on=['drugA', 'drugB'])\n",
    "merged_df.set_index(['drugA', 'drugB'], inplace=True)\n",
    "print(merged_df)"
   ],
   "id": "51ee314bf099a6bf",
   "outputs": [
    {
     "name": "stdout",
     "output_type": "stream",
     "text": [
      "                    sAB  opAB  meanspAB  medianspAB  minspAB  maxspAB    zTDA  \\\n",
      "drugA   drugB                                                                   \n",
      "DB00001 DB00908  0.2497     0    0.5420       0.470     0.42     0.86 -1.0162   \n",
      "        DB00721  0.3518     0    0.7025       0.605     0.48     1.12 -1.0162   \n",
      "        DB01109  0.0183     0    0.2867       0.340     0.12     0.40 -1.0162   \n",
      "        DB00606  0.3436     0    0.5617       0.540     0.40     0.78 -1.0162   \n",
      "        DB00482  0.2900     0    0.4883       0.495     0.29     0.67 -1.0162   \n",
      "...                 ...   ...       ...         ...      ...      ...     ...   \n",
      "DB08899 DB08932  0.1233     0    0.3000       0.300     0.28     0.32 -1.2095   \n",
      "DB08905 DB08932  0.3833     0    0.5550       0.555     0.55     0.56  0.2120   \n",
      "DB08918 DB08932  0.1547     0    0.5200       0.520     0.41     0.61 -2.0170   \n",
      "DB08932 DB08953  0.3467     0    0.5200       0.520     0.51     0.53 -0.2648   \n",
      "        DB08954  0.0550     0    0.5012       0.530     0.29     0.64 -0.2648   \n",
      "\n",
      "                   zTDB    zDTA    zDTB  ...  meanspAD  meanspBD  medianspAD  \\\n",
      "drugA   drugB                            ...                                   \n",
      "DB00001 DB00908 -0.4720 -2.0566 -3.5177  ...    0.4878    0.5951        0.47   \n",
      "        DB00721 -0.4096 -2.0566 -0.5984  ...    0.4878    0.7135        0.47   \n",
      "        DB01109  0.4980 -2.0566 -3.4429  ...    0.4878    0.5952        0.47   \n",
      "        DB00606 -1.3207 -2.0566 -2.5137  ...    0.4878    0.5873        0.47   \n",
      "        DB00482 -1.6080 -2.0566 -2.8689  ...    0.4878    0.5273        0.47   \n",
      "...                 ...     ...     ...  ...       ...       ...         ...   \n",
      "DB08899 DB08932 -0.2648 -1.0359 -3.1263  ...    0.3357    0.5083        0.33   \n",
      "DB08905 DB08932 -0.2648 -0.0925 -3.1263  ...    0.5756    0.5083        0.56   \n",
      "DB08918 DB08932 -0.2648 -4.2414 -3.1263  ...    0.5238    0.5083        0.52   \n",
      "DB08932 DB08953 -0.8935 -3.1263 -2.0031  ...    0.5083    0.5342        0.50   \n",
      "        DB08954 -2.2836 -3.1263 -2.9446  ...    0.5083    0.5210        0.50   \n",
      "\n",
      "                 medianspBD  minspAD  minspBD  maxspAD  maxspBD  \\\n",
      "drugA   drugB                                                     \n",
      "DB00001 DB00908        0.55     0.00      0.0     1.23     1.69   \n",
      "        DB00721        0.64     0.00      0.0     1.23     1.69   \n",
      "        DB01109        0.59     0.00      0.0     1.23     1.45   \n",
      "        DB00606        0.59     0.00      0.0     1.23     1.53   \n",
      "        DB00482        0.53     0.00      0.0     1.23     1.46   \n",
      "...                     ...      ...      ...      ...      ...   \n",
      "DB08899 DB08932        0.50     0.00      0.0     1.03     1.29   \n",
      "DB08905 DB08932        0.50     0.18      0.0     1.30     1.29   \n",
      "DB08918 DB08932        0.50     0.00      0.0     1.40     1.29   \n",
      "DB08932 DB08953        0.52     0.00      0.0     1.29     1.34   \n",
      "        DB08954        0.52     0.00      0.0     1.29     1.40   \n",
      "\n",
      "                               drugcomb  adv/app  \n",
      "drugA   drugB                                     \n",
      "DB00001 DB00908  ('DB00001', 'DB00908')        0  \n",
      "        DB00721  ('DB00001', 'DB00721')        0  \n",
      "        DB01109  ('DB00001', 'DB01109')        0  \n",
      "        DB00606  ('DB00001', 'DB00606')        0  \n",
      "        DB00482  ('DB00001', 'DB00482')        0  \n",
      "...                                 ...      ...  \n",
      "DB08899 DB08932  ('DB08899', 'DB08932')        0  \n",
      "DB08905 DB08932  ('DB08905', 'DB08932')        0  \n",
      "DB08918 DB08932  ('DB08918', 'DB08932')        0  \n",
      "DB08932 DB08953  ('DB08932', 'DB08953')        0  \n",
      "        DB08954  ('DB08932', 'DB08954')        0  \n",
      "\n",
      "[48622 rows x 28 columns]\n"
     ]
    }
   ],
   "execution_count": 22
  },
  {
   "metadata": {},
   "cell_type": "markdown",
   "source": "X and Y for training and testing",
   "id": "ba64077683db6c99"
  },
  {
   "metadata": {
    "ExecuteTime": {
     "end_time": "2024-03-20T12:59:30.454329Z",
     "start_time": "2024-03-20T12:59:30.421959Z"
    }
   },
   "cell_type": "code",
   "source": [
    "X = merged_df.drop(['adv/app','drugcomb','sA','sB','opA','opB'], axis=1)                     #Annahme: 'adv/app' ist Ihre Zielvariable\n",
    "Y = merged_df['adv/app']\n",
    "\n",
    "print(Y)\n",
    "\n"
   ],
   "id": "439a3401b14f985a",
   "outputs": [
    {
     "name": "stdout",
     "output_type": "stream",
     "text": [
      "drugA    drugB  \n",
      "DB00001  DB00908    0\n",
      "         DB00721    0\n",
      "         DB01109    0\n",
      "         DB00606    0\n",
      "         DB00482    0\n",
      "                   ..\n",
      "DB08899  DB08932    0\n",
      "DB08905  DB08932    0\n",
      "DB08918  DB08932    0\n",
      "DB08932  DB08953    0\n",
      "         DB08954    0\n",
      "Name: adv/app, Length: 48622, dtype: int64\n"
     ]
    }
   ],
   "execution_count": 23
  },
  {
   "metadata": {},
   "cell_type": "markdown",
   "source": "split of train and test groups, decisiontreeclassifier, look at feature importances + calculate cumulative sum of features + plot L50",
   "id": "d23ed7186e00149a"
  },
  {
   "metadata": {
    "ExecuteTime": {
     "end_time": "2024-03-20T13:16:22.514807Z",
     "start_time": "2024-03-20T13:16:22.035831Z"
    }
   },
   "cell_type": "code",
   "source": [
    "from sklearn.metrics import accuracy_score\n",
    "\n",
    "X_train, X_test, Y_train, Y_test = train_test_split(X, Y, test_size=0.2, random_state=42)\n",
    "\n",
    "clf = DecisionTreeClassifier(random_state=42, class_weight='balanced')\n",
    "clf.fit(X_train, Y_train)\n",
    "\n",
    "#accuracy = clf.score(X_test, Y_test)\n",
    "# Ausgabe der Genauigkeit und des Klassifikationsberichts\n",
    "\n",
    "#see sklearn documentation: The importance of a feature is computed as the (normalized) total reduction of the criterion brought by that feature. It is also known as the Gini importance.\n",
    "importances = clf.feature_importances_\n",
    "\n",
    "indices = np.argsort(importances)[::-1]\n",
    "predictions = clf.predict(X_test)\n",
    "print(\"Accuracy:\", accuracy_score(Y_test, predictions))\n",
    "print(classification_report(Y_test, predictions))\n",
    "\n",
    "comparison = pd.DataFrame({'Actual': Y_test, 'Predicted': predictions})\n",
    "#print(comparison.head(20))\n",
    "#specific_drug_combination = ('DB01599', 'DB04825')\n",
    "# Create a boolean mask where 'Actual' and 'Predicted' values are not equal\n",
    "mask = comparison['Actual'] != comparison['Predicted']\n",
    "\n",
    "# Apply this mask to your DataFrame to filter rows\n",
    "differences = comparison[mask]\n",
    "\n",
    "#28 falsch predicted\n",
    "print(differences)\n",
    "print(len(differences))\n",
    "\n",
    "#print(filtered_df)\n",
    "cumulative_importances = np.cumsum(importances[indices])\n",
    "\n",
    "num_features_50 = np.where(cumulative_importances >= 0.5)[0][0] + 1\n",
    "\n",
    "# Die wichtigsten Features plotten, die zusammen bis zu 50% der Wichtigkeit ausmachen\n",
    "plt.figure()\n",
    "plt.title(\"Feature Importances\")\n",
    "plt.bar(range(num_features_50), importances[indices][:num_features_50], color='deeppink')\n",
    "plt.xticks(range(num_features_50), X.columns[indices][:num_features_50], rotation=90)\n",
    "plt.show()\n",
    "'''\n",
    "report weights balanced:\n",
    "\n",
    "Accuracy: 0.9969151670951156\n",
    "              precision    recall  f1-score   support\n",
    "\n",
    "           0       1.00      1.00      1.00      9711\n",
    "           1       0.26      0.64      0.38        14\n",
    "\n",
    "    accuracy                           1.00      9725\n",
    "   macro avg       0.63      0.82      0.69      9725\n",
    "weighted avg       1.00      1.00      1.00      9725\n",
    "\n",
    "'''\n",
    "'''\n",
    "report unbalanced: \n",
    "\n",
    "Accuracy: 0.997120822622108\n",
    "              precision    recall  f1-score   support\n",
    "\n",
    "           0       1.00      1.00      1.00      9711\n",
    "           1       0.25      0.50      0.33        14\n",
    "\n",
    "    accuracy                           1.00      9725\n",
    "   macro avg       0.62      0.75      0.67      9725\n",
    "weighted avg       1.00      1.00      1.00      9725\n",
    "'''"
   ],
   "id": "initial_id",
   "outputs": [
    {
     "name": "stdout",
     "output_type": "stream",
     "text": [
      "Accuracy: 0.9969151670951156\n",
      "              precision    recall  f1-score   support\n",
      "\n",
      "           0       1.00      1.00      1.00      9711\n",
      "           1       0.26      0.64      0.38        14\n",
      "\n",
      "    accuracy                           1.00      9725\n",
      "   macro avg       0.63      0.82      0.69      9725\n",
      "weighted avg       1.00      1.00      1.00      9725\n",
      "\n",
      "                 Actual  Predicted\n",
      "drugA   drugB                     \n",
      "DB00222 DB00999       0          1\n",
      "DB00822 DB01098       0          1\n",
      "DB00559 DB00999       0          1\n",
      "DB01342 DB04861       0          1\n",
      "DB00668 DB01320       0          1\n",
      "DB00281 DB00750       1          0\n",
      "DB00232 DB00968       0          1\n",
      "DB00281 DB08906       0          1\n",
      "DB00542 DB00914       0          1\n",
      "DB00308 DB00825       0          1\n",
      "DB00281 DB00635       0          1\n",
      "DB00201 DB00945       1          0\n",
      "DB00228 DB00627       0          1\n",
      "DB00281 DB01718       1          0\n",
      "DB00421 DB01219       0          1\n",
      "DB00489 DB00825       0          1\n",
      "DB00401 DB01114       0          1\n",
      "DB00489 DB00898       0          1\n",
      "DB00350 DB01364       0          1\n",
      "DB00281 DB00998       0          1\n",
      "DB00384 DB01497       0          1\n",
      "DB01064 DB01255       0          1\n",
      "DB00381 DB01076       1          0\n",
      "DB00945 DB06800       0          1\n",
      "DB00297 DB00627       0          1\n",
      "DB00316 DB00388       1          0\n",
      "DB00327 DB00591       0          1\n",
      "DB00421 DB00631       0          1\n",
      "DB00275 DB04861       0          1\n",
      "DB00591 DB00798       0          1\n",
      "30\n"
     ]
    },
    {
     "data": {
      "text/plain": [
       "<Figure size 640x480 with 1 Axes>"
      ],
      "image/png": "[encoded data removed]"
     },
     "metadata": {},
     "output_type": "display_data"
    },
    {
     "data": {
      "text/plain": [
       "'\\nreport unbalanced: \\n\\nAccuracy: 0.997120822622108\\n              precision    recall  f1-score   support\\n\\n           0       1.00      1.00      1.00      9711\\n           1       0.25      0.50      0.33        14\\n\\n    accuracy                           1.00      9725\\n   macro avg       0.62      0.75      0.67      9725\\nweighted avg       1.00      1.00      1.00      9725\\n'"
      ]
     },
     "execution_count": 25,
     "metadata": {},
     "output_type": "execute_result"
    }
   ],
   "execution_count": 25
  },
  {
   "metadata": {
    "ExecuteTime": {
     "end_time": "2024-03-20T12:53:40.544196Z",
     "start_time": "2024-03-20T12:53:40.517487Z"
    }
   },
   "cell_type": "code",
   "source": [
    "report = classification_report(Y_test, predictions)\n",
    "print(report)"
   ],
   "id": "3637cf0792de9340",
   "outputs": [
    {
     "name": "stdout",
     "output_type": "stream",
     "text": [
      "              precision    recall  f1-score   support\n",
      "\n",
      "           0       1.00      1.00      1.00      9711\n",
      "           1       0.26      0.64      0.38        14\n",
      "\n",
      "    accuracy                           1.00      9725\n",
      "   macro avg       0.63      0.82      0.69      9725\n",
      "weighted avg       1.00      1.00      1.00      9725\n",
      "\n"
     ]
    }
   ],
   "execution_count": 17
  }
 ],
 "metadata": {
  "kernelspec": {
   "display_name": "Python 3",
   "language": "python",
   "name": "python3"
  },
  "language_info": {
   "codemirror_mode": {
    "name": "ipython",
    "version": 2
   },
   "file_extension": ".py",
   "mimetype": "text/x-python",
   "name": "python",
   "nbconvert_exporter": "python",
   "pygments_lexer": "ipython2",
   "version": "2.7.6"
  }
 },
 "nbformat": 4,
 "nbformat_minor": 5
}
