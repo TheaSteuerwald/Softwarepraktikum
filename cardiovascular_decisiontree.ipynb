{
 "cells": [
  {
   "metadata": {
    "ExecuteTime": {
     "end_time": "2024-03-19T09:53:52.170931Z",
     "start_time": "2024-03-19T09:53:51.120177Z"
    }
   },
   "cell_type": "code",
   "source": [
    "import pandas as pd\n",
    "from sklearn.tree import DecisionTreeClassifier\n",
    "from sklearn.model_selection import train_test_split\n",
    "import numpy as np\n",
    "import matplotlib.pyplot as plt\n"
   ],
   "id": "f71c838f16c9f4f9",
   "outputs": [],
   "execution_count": 2
  },
  {
   "metadata": {
    "ExecuteTime": {
     "end_time": "2024-03-19T10:57:43.387603Z",
     "start_time": "2024-03-19T10:57:14.155298Z"
    }
   },
   "cell_type": "code",
   "source": [
    "features_df = pd.read_csv('ctd_cadiovascular_20240223_scores.tsv', sep='\\t')\n",
    "\n",
    "ground_truth_df = pd.read_csv('merged_cardio.tsv', sep='\\t')\n",
    "\n",
    "print(features_df.head())\n",
    "print(ground_truth_df.head())\n"
   ],
   "id": "3f453e9b82102728",
   "outputs": [
    {
     "name": "stdout",
     "output_type": "stream",
     "text": [
      "     drugA    drugB     sAB  opAB  meanspAB  medianspAB  minspAB  maxspAB  \\\n",
      "0  DB06709  DB08506  0.3427     0     0.615       0.630     0.46     0.74   \n",
      "1  DB06709  DB02376  0.4188     0     0.685       0.685     0.56     0.81   \n",
      "2  DB06709  DB04282  0.4188     0     0.685       0.685     0.56     0.81   \n",
      "3  DB06709  DB04564  0.4188     0     0.685       0.685     0.56     0.81   \n",
      "4  DB06709  DB04659  0.4188     0     0.685       0.685     0.56     0.81   \n",
      "\n",
      "     zTDA    zTDB  ...  opAD  opBD  meanspAD  meanspBD  medianspAD  \\\n",
      "0  0.5097  1.3545  ...   2.0   0.0    0.5983    0.5773        0.59   \n",
      "1  0.5097 -1.3890  ...   2.0   0.0    0.5983    0.5969        0.59   \n",
      "2  0.5097 -1.3890  ...   2.0   0.0    0.5983    0.5969        0.59   \n",
      "3  0.5097 -1.3890  ...   2.0   0.0    0.5983    0.5969        0.59   \n",
      "4  0.5097 -1.3890  ...   2.0   0.0    0.5983    0.5969        0.59   \n",
      "\n",
      "   medianspBD  minspAD  minspBD  maxspAD  maxspBD  \n",
      "0        0.56      0.0     0.28     1.47     1.30  \n",
      "1        0.58      0.0     0.27     1.47     1.38  \n",
      "2        0.58      0.0     0.27     1.47     1.38  \n",
      "3        0.58      0.0     0.27     1.47     1.38  \n",
      "4        0.58      0.0     0.27     1.47     1.38  \n",
      "\n",
      "[5 rows x 28 columns]\n",
      "     drugA    drugB                drugcomb  adv/app\n",
      "0  DB00310  DB00206  ('DB00206', 'DB00310')        0\n",
      "1  DB01275  DB00206  ('DB00206', 'DB01275')        0\n",
      "2  DB00721  DB00277  ('DB00277', 'DB00721')        0\n",
      "3  DB00001  DB00908  ('DB00001', 'DB00908')        0\n",
      "4  DB00001  DB00806  ('DB00001', 'DB00806')        0\n"
     ]
    }
   ],
   "execution_count": 19
  },
  {
   "metadata": {
    "ExecuteTime": {
     "end_time": "2024-03-19T10:58:04.226957Z",
     "start_time": "2024-03-19T10:58:00.013449Z"
    }
   },
   "cell_type": "code",
   "source": [
    "\n",
    "merged_df = pd.merge(features_df, ground_truth_df, on=['drugA', 'drugB'])\n",
    "\n",
    "merged_df.set_index(['drugA', 'drugB'], inplace=True)\n",
    "print(merged_df)"
   ],
   "id": "51ee314bf099a6bf",
   "outputs": [
    {
     "name": "stdout",
     "output_type": "stream",
     "text": [
      "                    sAB  opAB  meanspAB  medianspAB  minspAB  maxspAB    zTDA  \\\n",
      "drugA   drugB                                                                   \n",
      "DB00001 DB00908  0.2497     0    0.5420       0.470     0.42     0.86 -1.0162   \n",
      "        DB00721  0.3518     0    0.7025       0.605     0.48     1.12 -1.0162   \n",
      "        DB01109  0.0183     0    0.2867       0.340     0.12     0.40 -1.0162   \n",
      "        DB00606  0.3436     0    0.5617       0.540     0.40     0.78 -1.0162   \n",
      "        DB00482  0.2900     0    0.4883       0.495     0.29     0.67 -1.0162   \n",
      "...                 ...   ...       ...         ...      ...      ...     ...   \n",
      "DB08899 DB08932  0.1233     0    0.3000       0.300     0.28     0.32 -1.2095   \n",
      "DB08905 DB08932  0.3833     0    0.5550       0.555     0.55     0.56  0.2120   \n",
      "DB08918 DB08932  0.1547     0    0.5200       0.520     0.41     0.61 -2.0170   \n",
      "DB08932 DB08953  0.3467     0    0.5200       0.520     0.51     0.53 -0.2648   \n",
      "        DB08954  0.0550     0    0.5012       0.530     0.29     0.64 -0.2648   \n",
      "\n",
      "                   zTDB    zDTA    zDTB  ...  meanspAD  meanspBD  medianspAD  \\\n",
      "drugA   drugB                            ...                                   \n",
      "DB00001 DB00908 -0.4720 -2.0566 -3.5177  ...    0.4878    0.5951        0.47   \n",
      "        DB00721 -0.4096 -2.0566 -0.5984  ...    0.4878    0.7135        0.47   \n",
      "        DB01109  0.4980 -2.0566 -3.4429  ...    0.4878    0.5952        0.47   \n",
      "        DB00606 -1.3207 -2.0566 -2.5137  ...    0.4878    0.5873        0.47   \n",
      "        DB00482 -1.6080 -2.0566 -2.8689  ...    0.4878    0.5273        0.47   \n",
      "...                 ...     ...     ...  ...       ...       ...         ...   \n",
      "DB08899 DB08932 -0.2648 -1.0359 -3.1263  ...    0.3357    0.5083        0.33   \n",
      "DB08905 DB08932 -0.2648 -0.0925 -3.1263  ...    0.5756    0.5083        0.56   \n",
      "DB08918 DB08932 -0.2648 -4.2414 -3.1263  ...    0.5238    0.5083        0.52   \n",
      "DB08932 DB08953 -0.8935 -3.1263 -2.0031  ...    0.5083    0.5342        0.50   \n",
      "        DB08954 -2.2836 -3.1263 -2.9446  ...    0.5083    0.5210        0.50   \n",
      "\n",
      "                 medianspBD  minspAD  minspBD  maxspAD  maxspBD  \\\n",
      "drugA   drugB                                                     \n",
      "DB00001 DB00908        0.55     0.00      0.0     1.23     1.69   \n",
      "        DB00721        0.64     0.00      0.0     1.23     1.69   \n",
      "        DB01109        0.59     0.00      0.0     1.23     1.45   \n",
      "        DB00606        0.59     0.00      0.0     1.23     1.53   \n",
      "        DB00482        0.53     0.00      0.0     1.23     1.46   \n",
      "...                     ...      ...      ...      ...      ...   \n",
      "DB08899 DB08932        0.50     0.00      0.0     1.03     1.29   \n",
      "DB08905 DB08932        0.50     0.18      0.0     1.30     1.29   \n",
      "DB08918 DB08932        0.50     0.00      0.0     1.40     1.29   \n",
      "DB08932 DB08953        0.52     0.00      0.0     1.29     1.34   \n",
      "        DB08954        0.52     0.00      0.0     1.29     1.40   \n",
      "\n",
      "                               drugcomb  adv/app  \n",
      "drugA   drugB                                     \n",
      "DB00001 DB00908  ('DB00001', 'DB00908')        0  \n",
      "        DB00721  ('DB00001', 'DB00721')        0  \n",
      "        DB01109  ('DB00001', 'DB01109')        0  \n",
      "        DB00606  ('DB00001', 'DB00606')        0  \n",
      "        DB00482  ('DB00001', 'DB00482')        0  \n",
      "...                                 ...      ...  \n",
      "DB08899 DB08932  ('DB08899', 'DB08932')        0  \n",
      "DB08905 DB08932  ('DB08905', 'DB08932')        0  \n",
      "DB08918 DB08932  ('DB08918', 'DB08932')        0  \n",
      "DB08932 DB08953  ('DB08932', 'DB08953')        0  \n",
      "        DB08954  ('DB08932', 'DB08954')        0  \n",
      "\n",
      "[48622 rows x 28 columns]\n"
     ]
    }
   ],
   "execution_count": 20
  },
  {
   "metadata": {
    "ExecuteTime": {
     "end_time": "2024-03-19T10:58:08.153979Z",
     "start_time": "2024-03-19T10:58:08.106605Z"
    }
   },
   "cell_type": "code",
   "source": [
    "X = merged_df.drop(['adv/app','drugcomb','sA','sB','opA','opB'], axis=1)  # Annahme: 'adv/app' ist Ihre Zielvariable\n",
    "Y = merged_df['adv/app']\n",
    "print(X)"
   ],
   "id": "439a3401b14f985a",
   "outputs": [
    {
     "name": "stdout",
     "output_type": "stream",
     "text": [
      "                    sAB  opAB  meanspAB  medianspAB  minspAB  maxspAB    zTDA  \\\n",
      "drugA   drugB                                                                   \n",
      "DB00001 DB00908  0.2497     0    0.5420       0.470     0.42     0.86 -1.0162   \n",
      "        DB00721  0.3518     0    0.7025       0.605     0.48     1.12 -1.0162   \n",
      "        DB01109  0.0183     0    0.2867       0.340     0.12     0.40 -1.0162   \n",
      "        DB00606  0.3436     0    0.5617       0.540     0.40     0.78 -1.0162   \n",
      "        DB00482  0.2900     0    0.4883       0.495     0.29     0.67 -1.0162   \n",
      "...                 ...   ...       ...         ...      ...      ...     ...   \n",
      "DB08899 DB08932  0.1233     0    0.3000       0.300     0.28     0.32 -1.2095   \n",
      "DB08905 DB08932  0.3833     0    0.5550       0.555     0.55     0.56  0.2120   \n",
      "DB08918 DB08932  0.1547     0    0.5200       0.520     0.41     0.61 -2.0170   \n",
      "DB08932 DB08953  0.3467     0    0.5200       0.520     0.51     0.53 -0.2648   \n",
      "        DB08954  0.0550     0    0.5012       0.530     0.29     0.64 -0.2648   \n",
      "\n",
      "                   zTDB    zDTA    zDTB  ...  opAD  opBD  meanspAD  meanspBD  \\\n",
      "drugA   drugB                            ...                                   \n",
      "DB00001 DB00908 -0.4720 -2.0566 -3.5177  ...   1.0   4.0    0.4878    0.5951   \n",
      "        DB00721 -0.4096 -2.0566 -0.5984  ...   1.0   1.0    0.4878    0.7135   \n",
      "        DB01109  0.4980 -2.0566 -3.4429  ...   1.0   3.0    0.4878    0.5952   \n",
      "        DB00606 -1.3207 -2.0566 -2.5137  ...   1.0   2.0    0.4878    0.5873   \n",
      "        DB00482 -1.6080 -2.0566 -2.8689  ...   1.0   5.0    0.4878    0.5273   \n",
      "...                 ...     ...     ...  ...   ...   ...       ...       ...   \n",
      "DB08899 DB08932 -0.2648 -1.0359 -3.1263  ...   1.0   2.0    0.3357    0.5083   \n",
      "DB08905 DB08932 -0.2648 -0.0925 -3.1263  ...   0.0   2.0    0.5756    0.5083   \n",
      "DB08918 DB08932 -0.2648 -4.2414 -3.1263  ...   2.0   2.0    0.5238    0.5083   \n",
      "DB08932 DB08953 -0.8935 -3.1263 -2.0031  ...   2.0   1.0    0.5083    0.5342   \n",
      "        DB08954 -2.2836 -3.1263 -2.9446  ...   2.0   3.0    0.5083    0.5210   \n",
      "\n",
      "                 medianspAD  medianspBD  minspAD  minspBD  maxspAD  maxspBD  \n",
      "drugA   drugB                                                                \n",
      "DB00001 DB00908        0.47        0.55     0.00      0.0     1.23     1.69  \n",
      "        DB00721        0.47        0.64     0.00      0.0     1.23     1.69  \n",
      "        DB01109        0.47        0.59     0.00      0.0     1.23     1.45  \n",
      "        DB00606        0.47        0.59     0.00      0.0     1.23     1.53  \n",
      "        DB00482        0.47        0.53     0.00      0.0     1.23     1.46  \n",
      "...                     ...         ...      ...      ...      ...      ...  \n",
      "DB08899 DB08932        0.33        0.50     0.00      0.0     1.03     1.29  \n",
      "DB08905 DB08932        0.56        0.50     0.18      0.0     1.30     1.29  \n",
      "DB08918 DB08932        0.52        0.50     0.00      0.0     1.40     1.29  \n",
      "DB08932 DB08953        0.50        0.52     0.00      0.0     1.29     1.34  \n",
      "        DB08954        0.50        0.52     0.00      0.0     1.29     1.40  \n",
      "\n",
      "[48622 rows x 22 columns]\n"
     ]
    }
   ],
   "execution_count": 21
  },
  {
   "metadata": {
    "ExecuteTime": {
     "end_time": "2024-03-19T13:13:47.546811Z",
     "start_time": "2024-03-19T13:13:47.029273Z"
    }
   },
   "cell_type": "code",
   "source": [
    "\n",
    "X_train, X_test, Y_train, Y_test = train_test_split(X, Y, test_size=0.2, random_state=42)\n",
    "\n",
    "# Erstellen des Decision Tree Classifiers und Trainieren\n",
    "clf = DecisionTreeClassifier(random_state=42)\n",
    "clf.fit(X_train, Y_train)\n",
    "\n",
    "# Feature-Wichtigkeiten ausgeben\n",
    "importances = clf.feature_importances_\n",
    "\n",
    "# Indizes der Features nach Wichtigkeit sortiert\n",
    "indices = np.argsort(importances)[::-1]\n",
    "\n",
    "# Kumulative Wichtigkeiten berechnen\n",
    "cumulative_importances = np.cumsum(importances[indices])\n",
    "\n",
    "# Finde die Anzahl der Features für 50% der gesamten Wichtigkeit\n",
    "num_features_50 = np.where(cumulative_importances >= 0.5)[0][0] + 1\n",
    "\n",
    "# Die wichtigsten Features plotten, die zusammen bis zu 50% der Wichtigkeit ausmachen\n",
    "plt.figure()\n",
    "plt.title(\"Feature Importances\")\n",
    "plt.bar(range(num_features_50), importances[indices][:num_features_50], color='deeppink')\n",
    "plt.xticks(range(num_features_50), X.columns[indices][:num_features_50], rotation=90)\n",
    "plt.show()"
   ],
   "id": "initial_id",
   "outputs": [
    {
     "data": {
      "text/plain": [
       "<Figure size 640x480 with 1 Axes>"
      ],
      "image/png": "[encoded data removed]"
     },
     "metadata": {},
     "output_type": "display_data"
    }
   ],
   "execution_count": 24
  },
  {
   "metadata": {},
   "cell_type": "code",
   "outputs": [],
   "execution_count": null,
   "source": "",
   "id": "3637cf0792de9340"
  }
 ],
 "metadata": {
  "kernelspec": {
   "display_name": "Python 3",
   "language": "python",
   "name": "python3"
  },
  "language_info": {
   "codemirror_mode": {
    "name": "ipython",
    "version": 2
   },
   "file_extension": ".py",
   "mimetype": "text/x-python",
   "name": "python",
   "nbconvert_exporter": "python",
   "pygments_lexer": "ipython2",
   "version": "2.7.6"
  }
 },
 "nbformat": 4,
 "nbformat_minor": 5
}
