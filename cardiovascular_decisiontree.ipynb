{
 "cells": [
  {
   "metadata": {},
   "cell_type": "markdown",
   "source": "downloading necessary modules",
   "id": "d5b91b6f886749d2"
  },
  {
   "metadata": {
    "ExecuteTime": {
     "end_time": "2024-03-21T10:29:25.970759Z",
     "start_time": "2024-03-21T10:29:25.965013Z"
    }
   },
   "cell_type": "code",
   "source": [
    "import pandas as pd\n",
    "from sklearn.tree import DecisionTreeClassifier\n",
    "from sklearn.model_selection import train_test_split\n",
    "import numpy as np\n",
    "import matplotlib.pyplot as plt\n",
    "from sklearn.metrics import classification_report"
   ],
   "id": "f71c838f16c9f4f9",
   "outputs": [],
   "execution_count": 59
  },
  {
   "metadata": {},
   "cell_type": "markdown",
   "source": "reading features + ground truth ",
   "id": "a5af62429e6cfacc"
  },
  {
   "metadata": {
    "ExecuteTime": {
     "end_time": "2024-03-21T10:43:24.877264Z",
     "start_time": "2024-03-21T10:42:52.544939Z"
    }
   },
   "cell_type": "code",
   "source": [
    "features_df = pd.read_csv('primekg_cardiovascular_20240223_scores.tsv', sep='\\t')\n",
    "ground_truth_df = pd.read_csv('merged_cardio.tsv', sep='\\t')\n",
    "\n",
    "print(features_df)\n",
    "print(ground_truth_df)"
   ],
   "id": "3f453e9b82102728",
   "outputs": [
    {
     "name": "stdout",
     "output_type": "stream",
     "text": [
      "           drugA    drugB     sAB  opAB  meanspAB  medianspAB  minspAB  \\\n",
      "0        DB06709  DB08506  0.3427     0    0.6150       0.630     0.46   \n",
      "1        DB06709  DB02376  0.4188     0    0.6850       0.685     0.56   \n",
      "2        DB06709  DB04282  0.4188     0    0.6850       0.685     0.56   \n",
      "3        DB06709  DB04564  0.4188     0    0.6850       0.685     0.56   \n",
      "4        DB06709  DB04659  0.4188     0    0.6850       0.685     0.56   \n",
      "...          ...      ...     ...   ...       ...         ...      ...   \n",
      "9730661  DB08873  DB07191  0.1295     0    0.6093       0.625     0.44   \n",
      "9730662  DB08873  DB08846  0.1319     0    0.4865       0.460     0.20   \n",
      "9730663  DB08873  DB08865  0.1585     0    0.4858       0.480     0.26   \n",
      "9730664  DB08873  DB05891  0.1004     0    0.8725       0.870     0.65   \n",
      "9730665  DB08873  DB05508  0.2084     0    0.5350       0.530     0.41   \n",
      "\n",
      "         maxspAB    zTDA    zTDB  ...  opAD  opBD  meanspAD  meanspBD  \\\n",
      "0           0.74  0.4405  1.2862  ...   2.0   0.0    0.5876    0.5654   \n",
      "1           0.81  0.4405 -1.4371  ...   2.0   0.0    0.5876    0.5854   \n",
      "2           0.81  0.4405 -1.4371  ...   2.0   0.0    0.5876    0.5854   \n",
      "3           0.81  0.4405 -1.4371  ...   2.0   0.0    0.5876    0.5854   \n",
      "4           0.81  0.4405 -1.4371  ...   2.0   0.0    0.5876    0.5854   \n",
      "...          ...     ...     ...  ...   ...   ...       ...       ...   \n",
      "9730661     0.86  1.4638  0.2561  ...   1.0   0.0    0.5384    0.5529   \n",
      "9730662     0.93  1.4638 -4.1061  ...   1.0   9.0    0.5384    0.4433   \n",
      "9730663     0.97  1.4638 -3.1346  ...   1.0  14.0    0.5384    0.4394   \n",
      "9730664     1.19  1.4638  0.5743  ...   1.0   2.0    0.5384    0.8251   \n",
      "9730665     0.70  1.4638 -0.9154  ...   1.0   0.0    0.5384    0.4730   \n",
      "\n",
      "         medianspAD  medianspBD  minspAD  minspBD  maxspAD  maxspBD  \n",
      "0              0.58        0.55      0.0     0.28     1.19     1.12  \n",
      "1              0.58        0.57      0.0     0.27     1.19     1.13  \n",
      "2              0.58        0.57      0.0     0.27     1.19     1.13  \n",
      "3              0.58        0.57      0.0     0.27     1.19     1.13  \n",
      "4              0.58        0.57      0.0     0.27     1.19     1.13  \n",
      "...             ...         ...      ...      ...      ...      ...  \n",
      "9730661        0.53        0.55      0.0     0.17     1.19     1.19  \n",
      "9730662        0.53        0.42      0.0     0.00     1.19     1.35  \n",
      "9730663        0.53        0.43      0.0     0.00     1.19     1.28  \n",
      "9730664        0.53        0.83      0.0     0.00     1.19     1.56  \n",
      "9730665        0.53        0.46      0.0     0.15     1.19     1.03  \n",
      "\n",
      "[9730666 rows x 28 columns]\n",
      "          drugA    drugB                drugcomb  adv/app\n",
      "0       DB01098  DB00677  ('DB00677', 'DB01098')        1\n",
      "1       DB01098  DB03880  ('DB01098', 'DB03880')        1\n",
      "2       DB01126  DB00872  ('DB00872', 'DB01126')        1\n",
      "3       DB01194  DB00872  ('DB00872', 'DB01194')        1\n",
      "4       DB01339  DB01427  ('DB01339', 'DB01427')        1\n",
      "...         ...      ...                     ...      ...\n",
      "290498  DB14123  DB14533  ('DB14123', 'DB14533')        1\n",
      "290499  DB14336  DB00640  ('DB00640', 'DB14336')        1\n",
      "290500  DB14500  DB00898  ('DB00898', 'DB14500')        1\n",
      "290501  DB14533  DB00825  ('DB00825', 'DB14533')        1\n",
      "290502  DB14533  DB00645  ('DB00645', 'DB14533')        1\n",
      "\n",
      "[290503 rows x 4 columns]\n"
     ]
    }
   ],
   "execution_count": 68
  },
  {
   "metadata": {
    "ExecuteTime": {
     "end_time": "2024-03-21T10:29:58.457287Z",
     "start_time": "2024-03-21T10:29:58.449394Z"
    }
   },
   "cell_type": "code",
   "source": [
    "'''features_df = features_df.drop(['meanspAB', 'meanspBD', 'medianspAD', 'medianspAB',\n",
    "       'medianspBD', 'maxspAB', 'opBD', 'meanspAD', 'minspBD', 'minspAD',\n",
    "       'maxspAD', 'opAB'],axis=1)'''"
   ],
   "id": "902e52feddbd10f3",
   "outputs": [
    {
     "data": {
      "text/plain": [
       "\"features_df = features_df.drop(['meanspAB', 'meanspBD', 'medianspAD', 'medianspAB',\\n       'medianspBD', 'maxspAB', 'opBD', 'meanspAD', 'minspBD', 'minspAD',\\n       'maxspAD', 'opAB'],axis=1)\""
      ]
     },
     "execution_count": 61,
     "metadata": {},
     "output_type": "execute_result"
    }
   ],
   "execution_count": 61
  },
  {
   "metadata": {},
   "cell_type": "markdown",
   "source": "merge features, ground truth over drugA drugB ",
   "id": "145fc4b6734f94db"
  },
  {
   "metadata": {
    "ExecuteTime": {
     "end_time": "2024-03-21T10:43:40.810990Z",
     "start_time": "2024-03-21T10:43:37.051699Z"
    }
   },
   "cell_type": "code",
   "source": [
    "merged_df = pd.merge(features_df, ground_truth_df, on=['drugA', 'drugB'])\n",
    "merged_df.set_index(['drugA', 'drugB'], inplace=True)\n",
    "print(merged_df)"
   ],
   "id": "51ee314bf099a6bf",
   "outputs": [
    {
     "name": "stdout",
     "output_type": "stream",
     "text": [
      "                    sAB  opAB  meanspAB  medianspAB  minspAB  maxspAB    zTDA  \\\n",
      "drugA   drugB                                                                   \n",
      "DB00001 DB00908  0.2497     0    0.5420       0.470     0.42     0.86 -1.1291   \n",
      "        DB00721  0.3518     0    0.7025       0.605     0.48     1.12 -1.1291   \n",
      "        DB01109  0.0183     0    0.2867       0.340     0.12     0.40 -1.1291   \n",
      "        DB00606  0.3436     0    0.5617       0.540     0.40     0.78 -1.1291   \n",
      "        DB00482  0.2900     0    0.4883       0.495     0.29     0.67 -1.1291   \n",
      "...                 ...   ...       ...         ...      ...      ...     ...   \n",
      "DB08899 DB08932  0.1233     0    0.3000       0.300     0.28     0.32 -1.3003   \n",
      "DB08905 DB08932  0.3833     0    0.5550       0.555     0.55     0.56  0.1832   \n",
      "DB08918 DB08932  0.1547     0    0.5200       0.520     0.41     0.61 -2.0806   \n",
      "DB08932 DB08953  0.3467     0    0.5200       0.520     0.51     0.53 -0.3310   \n",
      "        DB08954  0.0550     0    0.5012       0.530     0.29     0.64 -0.3310   \n",
      "\n",
      "                   zTDB    zDTA    zDTB  ...  meanspAD  meanspBD  medianspAD  \\\n",
      "drugA   drugB                            ...                                   \n",
      "DB00001 DB00908 -0.5444 -2.1944 -0.7990  ...    0.4742    0.5836        0.46   \n",
      "        DB00721 -0.4311 -2.1944 -0.6213  ...    0.4742    0.7044        0.46   \n",
      "        DB01109  0.4306 -2.1944 -2.5918  ...    0.4742    0.5843        0.46   \n",
      "        DB00606 -1.3637 -2.1944 -0.1804  ...    0.4742    0.5757        0.46   \n",
      "        DB00482 -1.7423 -2.1944 -2.8512  ...    0.4742    0.5160        0.46   \n",
      "...                 ...     ...     ...  ...       ...       ...         ...   \n",
      "DB08899 DB08932 -0.3310 -0.3566 -3.1219  ...    0.3234    0.4961        0.31   \n",
      "DB08905 DB08932 -0.3310 -0.1719 -3.1219  ...    0.5655    0.4961        0.55   \n",
      "DB08918 DB08932 -0.3310 -2.9254 -3.1219  ...    0.5134    0.4961        0.51   \n",
      "DB08932 DB08953 -0.9117 -3.1219 -0.7795  ...    0.4961    0.5248        0.49   \n",
      "        DB08954 -2.3840 -3.1219 -3.3332  ...    0.4961    0.5094        0.49   \n",
      "\n",
      "                 medianspBD  minspAD  minspBD  maxspAD  maxspBD  \\\n",
      "drugA   drugB                                                     \n",
      "DB00001 DB00908        0.54     0.00     0.00     1.01     1.49   \n",
      "        DB00721        0.63     0.00     0.00     1.01     1.64   \n",
      "        DB01109        0.58     0.00     0.00     1.01     1.20   \n",
      "        DB00606        0.57     0.00     0.11     1.01     1.32   \n",
      "        DB00482        0.52     0.00     0.00     1.01     1.24   \n",
      "...                     ...      ...      ...      ...      ...   \n",
      "DB08899 DB08932        0.49     0.06     0.00     0.89     1.03   \n",
      "DB08905 DB08932        0.49     0.18     0.00     1.13     1.03   \n",
      "DB08918 DB08932        0.49     0.00     0.00     1.12     1.03   \n",
      "DB08932 DB08953        0.51     0.00     0.19     1.03     1.02   \n",
      "        DB08954        0.51     0.00     0.00     1.03     1.22   \n",
      "\n",
      "                               drugcomb  adv/app  \n",
      "drugA   drugB                                     \n",
      "DB00001 DB00908  ('DB00001', 'DB00908')        0  \n",
      "        DB00721  ('DB00001', 'DB00721')        0  \n",
      "        DB01109  ('DB00001', 'DB01109')        0  \n",
      "        DB00606  ('DB00001', 'DB00606')        0  \n",
      "        DB00482  ('DB00001', 'DB00482')        0  \n",
      "...                                 ...      ...  \n",
      "DB08899 DB08932  ('DB08899', 'DB08932')        0  \n",
      "DB08905 DB08932  ('DB08905', 'DB08932')        0  \n",
      "DB08918 DB08932  ('DB08918', 'DB08932')        0  \n",
      "DB08932 DB08953  ('DB08932', 'DB08953')        0  \n",
      "        DB08954  ('DB08932', 'DB08954')        0  \n",
      "\n",
      "[48800 rows x 28 columns]\n"
     ]
    }
   ],
   "execution_count": 69
  },
  {
   "metadata": {},
   "cell_type": "markdown",
   "source": "X and Y for training and testing",
   "id": "ba64077683db6c99"
  },
  {
   "metadata": {
    "ExecuteTime": {
     "end_time": "2024-03-21T10:43:45.188357Z",
     "start_time": "2024-03-21T10:43:45.173575Z"
    }
   },
   "cell_type": "code",
   "source": [
    "X = merged_df.drop(['adv/app','drugcomb','sA','sB','opA','opB'], axis=1)                     #Annahme: 'adv/app' ist Ihre Zielvariable\n",
    "Y = merged_df['adv/app']\n",
    "\n",
    "print(len(Y[Y==0]))\n",
    "print(len(Y[Y==1]))"
   ],
   "id": "439a3401b14f985a",
   "outputs": [
    {
     "name": "stdout",
     "output_type": "stream",
     "text": [
      "48543\n",
      "257\n"
     ]
    }
   ],
   "execution_count": 70
  },
  {
   "metadata": {},
   "cell_type": "markdown",
   "source": "split of train and test groups, decisiontreeclassifier, look at feature importances + calculate cumulative sum of features + plot L50",
   "id": "d23ed7186e00149a"
  },
  {
   "metadata": {},
   "cell_type": "markdown",
   "source": [
    "Bei stark unbalancierten Datensätzen kann es eine Herausforderung sein, sicherzustellen, dass sowohl im Trainings- als auch im Testdatensatz eine repräsentative Verteilung der Klassen vorhanden ist. Hierfür kann die Methode der geschichteten Aufteilung (stratified splitting) hilfreich sein. Stratified Splitting versucht, die ursprüngliche Verteilung der Klassen in jedem Datensatz (Trainings- und Testdatensatz) zu erhalten.\n",
    "\n",
    "In scikit-learn können Sie die Funktion train_test_split mit dem Argument stratify nutzen, um eine geschichtete Aufteilung zu erreichen. Wenn Sie dieses Argument auf Ihre Zielvariable (Labels) setzen, sorgt die Funktion dafür, dass die proportionale Verteilung der Klassen in den Trainings- und Testdatensätzen der Verteilung im gesamten Datensatz entspricht"
   ],
   "id": "a7dae65e59511231"
  },
  {
   "metadata": {
    "ExecuteTime": {
     "end_time": "2024-03-21T10:46:25.869326Z",
     "start_time": "2024-03-21T10:46:25.039497Z"
    }
   },
   "cell_type": "code",
   "source": [
    "from sklearn.metrics import accuracy_score\n",
    "\n",
    "X_train, X_test, Y_train, Y_test = train_test_split(X, Y, stratify=Y, test_size=0.2, random_state=42)\n",
    "\n",
    "clf = DecisionTreeClassifier(random_state=42,class_weight='balanced')\n",
    "clf.fit(X_train, Y_train)\n",
    "\n",
    "#accuracy = clf.score(X_test, Y_test)\n",
    "# Ausgabe der Genauigkeit und des Klassifikationsberichts\n",
    "\n",
    "#see sklearn documentation: The importance of a feature is computed as the (normalized) total reduction of the criterion brought by that feature. It is also known as the Gini importance.\n",
    "importances = clf.feature_importances_\n",
    "indices = np.argsort(importances)[::-1]\n",
    "predictions = clf.predict(X_test)\n",
    "print(\"Accuracy:\", accuracy_score(Y_test, predictions))\n",
    "print(classification_report(Y_test, predictions))\n",
    "\n",
    "comparison = pd.DataFrame({'Actual': Y_test, 'Predicted': predictions})\n",
    "#print(comparison.head(20))\n",
    "#specific_drug_combination = ('DB01599', 'DB04825')\n",
    "# Create a boolean mask where 'Actual' and 'Predicted' values are not equal\n",
    "mask = comparison['Actual'] != comparison['Predicted']\n",
    "\n",
    "# Apply this mask to your DataFrame to filter rows\n",
    "differences = comparison[mask]\n",
    "\n",
    "#28 falsch predicted\n",
    "print(differences)\n",
    "print(len(differences))\n",
    "\n",
    "#print(filtered_df)\n",
    "cumulative_importances = np.cumsum(importances[indices])\n",
    "\n",
    "num_features_50 = np.where(cumulative_importances >= 0.5)[0][0] + 1\n",
    "\n",
    "# Die wichtigsten Features plotten, die zusammen bis zu 50% der Wichtigkeit ausmachen\n",
    "plt.figure()\n",
    "plt.title(\"Feature Importances\")\n",
    "plt.bar(range(len(importances)), importances[indices], color='deeppink')\n",
    "plt.xticks(range(len(importances)),X.columns[indices], rotation=90)\n",
    "print(X.columns[indices])\n",
    "plt.show()\n",
    "\n",
    "'''\n",
    "primekg:\n",
    "report weights balanced  + stratify :\n",
    "Accuracy: 0.9892418032786885\n",
    "              precision    recall  f1-score   support\n",
    "\n",
    "           0       1.00      0.99      0.99      9709\n",
    "           1       0.21      0.37      0.27        51\n",
    "\n",
    "    accuracy                           0.99      9760\n",
    "   macro avg       0.60      0.68      0.63      9760\n",
    "weighted avg       0.99      0.99      0.99      9760\n",
    "\n",
    "report weights balanced  + stratify +removed features :\n",
    "Accuracy: 0.9881147540983607\n",
    "              precision    recall  f1-score   support\n",
    "\n",
    "           0       1.00      0.99      0.99      9709\n",
    "           1       0.18      0.37      0.25        51\n",
    "\n",
    "    accuracy                           0.99      9760\n",
    "   macro avg       0.59      0.68      0.62      9760\n",
    "weighted avg       0.99      0.99      0.99      9760\n",
    "\n",
    "\n",
    "'''"
   ],
   "id": "initial_id",
   "outputs": [
    {
     "name": "stdout",
     "output_type": "stream",
     "text": [
      "Accuracy: 0.9931352459016394\n",
      "              precision    recall  f1-score   support\n",
      "\n",
      "           0       1.00      1.00      1.00      9722\n",
      "           1       0.11      0.11      0.11        38\n",
      "\n",
      "    accuracy                           0.99      9760\n",
      "   macro avg       0.55      0.55      0.55      9760\n",
      "weighted avg       0.99      0.99      0.99      9760\n",
      "\n",
      "                 Actual  Predicted\n",
      "drugA   drugB                     \n",
      "DB00722 DB01354       1          0\n",
      "DB00281 DB00527       1          0\n",
      "DB00497 DB00620       1          0\n",
      "DB00633 DB00887       0          1\n",
      "DB01398 DB01109       1          0\n",
      "...                 ...        ...\n",
      "DB00810 DB01325       0          1\n",
      "DB01193 DB01353       1          0\n",
      "DB00204 DB01431       0          1\n",
      "DB00966 DB01090       0          1\n",
      "        DB03585       0          1\n",
      "\n",
      "[67 rows x 2 columns]\n",
      "67\n",
      "Index(['maxspAB', 'zTDB', 'sAB', 'zDTB', 'zDTA', 'maxspBD', 'medianspAB',\n",
      "       'minspAB', 'meanspAB', 'meanspAD', 'zTDA', 'sAD', 'meanspBD', 'sBD',\n",
      "       'opBD', 'maxspAD', 'minspBD', 'medianspBD', 'medianspAD', 'minspAD',\n",
      "       'opAD', 'opAB'],\n",
      "      dtype='object')\n"
     ]
    },
    {
     "data": {
      "text/plain": [
       "<Figure size 640x480 with 1 Axes>"
      ],
      "image/png": "[encoded data removed]"
     },
     "metadata": {},
     "output_type": "display_data"
    },
    {
     "data": {
      "text/plain": [
       "'\\nprimekg:\\nreport weights balanced  + stratify :\\nAccuracy: 0.9892418032786885\\n              precision    recall  f1-score   support\\n\\n           0       1.00      0.99      0.99      9709\\n           1       0.21      0.37      0.27        51\\n\\n    accuracy                           0.99      9760\\n   macro avg       0.60      0.68      0.63      9760\\nweighted avg       0.99      0.99      0.99      9760\\n\\nreport weights balanced  + stratify +removed features :\\nAccuracy: 0.9881147540983607\\n              precision    recall  f1-score   support\\n\\n           0       1.00      0.99      0.99      9709\\n           1       0.18      0.37      0.25        51\\n\\n    accuracy                           0.99      9760\\n   macro avg       0.59      0.68      0.62      9760\\nweighted avg       0.99      0.99      0.99      9760\\n\\n\\n'"
      ]
     },
     "execution_count": 73,
     "metadata": {},
     "output_type": "execute_result"
    }
   ],
   "execution_count": 73
  },
  {
   "metadata": {},
   "cell_type": "markdown",
   "source": [
    "'''\n",
    "CTD:\n",
    "report weights balanced  + stratify :\n",
    "Accuracy: 0.9889344262295082\n",
    "              precision    recall  f1-score   support\n",
    "\n",
    "           0       1.00      0.99      0.99      9709\n",
    "           1       0.19      0.33      0.24        51\n",
    "\n",
    "    accuracy                           0.99      9760\n",
    "   macro avg       0.59      0.66      0.62      9760\n",
    "weighted avg       0.99      0.99      0.99      9760\n",
    "\n",
    "\n",
    "report weights balanced  + stratify +removed features :\n",
    "Accuracy: 0.9896516393442623\n",
    "              precision    recall  f1-score   support\n",
    "\n",
    "           0       1.00      0.99      0.99      9709\n",
    "           1       0.22      0.37      0.27        51\n",
    "\n",
    "    accuracy                           0.99      9760\n",
    "   macro avg       0.61      0.68      0.63      9760\n",
    "weighted avg       0.99      0.99      0.99      9760\n",
    "\n",
    "\n",
    "report weights balanced  + stratify + removed features +max_depth=28:\n",
    "Accuracy: 0.9899590163934426\n",
    "              precision    recall  f1-score   support\n",
    "\n",
    "           0       1.00      0.99      0.99      9709\n",
    "           1       0.22      0.37      0.28        51\n",
    "\n",
    "    accuracy                           0.99      9760\n",
    "   macro avg       0.61      0.68      0.64      9760\n",
    "weighted avg       0.99      0.99      0.99      9760\n",
    "'''"
   ],
   "id": "11b769965caa7a8e"
  },
  {
   "metadata": {
    "ExecuteTime": {
     "end_time": "2024-03-21T10:30:02.528293Z",
     "start_time": "2024-03-21T10:30:02.522600Z"
    }
   },
   "cell_type": "code",
   "source": [
    "print(clf.get_depth()) \n",
    "\n",
    "'''\n",
    "primekg\n",
    "before removing features: 45\n",
    "after removing: ['meanspAB', 'meanspBD', 'medianspAD', 'medianspAB',\n",
    "       'medianspBD', 'maxspAB', 'opBD', 'meanspAD', 'minspBD', 'minspAD',\n",
    "       'maxspAD', 'opAB'] : 37\n",
    "\n",
    "'''"
   ],
   "id": "4f0372a7b4b44f64",
   "outputs": [
    {
     "name": "stdout",
     "output_type": "stream",
     "text": [
      "41\n"
     ]
    },
    {
     "data": {
      "text/plain": [
       "\"\\nprimekg\\nbefore removing features: 45\\nafter removing: ['meanspAB', 'meanspBD', 'medianspAD', 'medianspAB',\\n       'medianspBD', 'maxspAB', 'opBD', 'meanspAD', 'minspBD', 'minspAD',\\n       'maxspAD', 'opAB'] : 37\\n\\n\""
      ]
     },
     "execution_count": 65,
     "metadata": {},
     "output_type": "execute_result"
    }
   ],
   "execution_count": 65
  },
  {
   "metadata": {},
   "cell_type": "markdown",
   "source": [
    "'''\n",
    "ctd:\n",
    "before removing features: 41 \n",
    "after removing: ['meanspAD', 'maxspAB', 'maxspAD', 'opAD', 'maxspBD', 'meanspBD', 'opBD', 'medianspAD', 'meanspAB', 'minspBD','minspAD', 'opAB','medianspBD', 'minspAB', 'medianspAB'] : 30\n",
    "\n",
    "'''"
   ],
   "id": "a4c4e6c55afc0c72"
  }
 ],
 "metadata": {
  "kernelspec": {
   "display_name": "Python 3",
   "language": "python",
   "name": "python3"
  },
  "language_info": {
   "codemirror_mode": {
    "name": "ipython",
    "version": 2
   },
   "file_extension": ".py",
   "mimetype": "text/x-python",
   "name": "python",
   "nbconvert_exporter": "python",
   "pygments_lexer": "ipython2",
   "version": "2.7.6"
  }
 },
 "nbformat": 4,
 "nbformat_minor": 5
}
